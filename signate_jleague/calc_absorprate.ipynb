{
 "metadata": {
  "language_info": {
   "codemirror_mode": {
    "name": "ipython",
    "version": 3
   },
   "file_extension": ".py",
   "mimetype": "text/x-python",
   "name": "python",
   "nbconvert_exporter": "python",
   "pygments_lexer": "ipython3",
   "version": "3.8.5"
  },
  "orig_nbformat": 2,
  "kernelspec": {
   "name": "python385jvsc74a57bd0b3ba2566441a7c06988d0923437866b63cedc61552a5af99d1f4fb67d367b25f",
   "display_name": "Python 3.8.5 64-bit ('base': conda)"
  }
 },
 "nbformat": 4,
 "nbformat_minor": 2,
 "cells": [
  {
   "cell_type": "code",
   "execution_count": 105,
   "metadata": {},
   "outputs": [],
   "source": [
    "import pandas as pd"
   ]
  },
  {
   "cell_type": "code",
   "execution_count": 106,
   "metadata": {},
   "outputs": [],
   "source": [
    "train = pd.read_csv('./data/total_train.csv')\n",
    "test = pd.read_csv('./data/total_test.csv')\n",
    "stadium = pd.read_csv('./data/moto/stadium.csv')"
   ]
  },
  {
   "cell_type": "code",
   "execution_count": 116,
   "metadata": {},
   "outputs": [
    {
     "output_type": "execute_result",
     "data": {
      "text/plain": [
       "        id  y  year stage   match   gameday   time   home     away  \\\n",
       "422  15699  0  2014    Ｊ１  第４節第１日  03/23(日)  15:04  浦和レッズ  清水エスパルス   \n",
       "\n",
       "         stadium                        tv         name           address  \\\n",
       "422  埼玉スタジアム２００２  スカパー！／スカパー！プレミアムサービス／テレ玉  埼玉スタジアム２００２  埼玉県さいたま市緑区中野田500   \n",
       "\n",
       "      capa  absorp  \n",
       "422  63700     0.0  "
      ],
      "text/html": "<div>\n<style scoped>\n    .dataframe tbody tr th:only-of-type {\n        vertical-align: middle;\n    }\n\n    .dataframe tbody tr th {\n        vertical-align: top;\n    }\n\n    .dataframe thead th {\n        text-align: right;\n    }\n</style>\n<table border=\"1\" class=\"dataframe\">\n  <thead>\n    <tr style=\"text-align: right;\">\n      <th></th>\n      <th>id</th>\n      <th>y</th>\n      <th>year</th>\n      <th>stage</th>\n      <th>match</th>\n      <th>gameday</th>\n      <th>time</th>\n      <th>home</th>\n      <th>away</th>\n      <th>stadium</th>\n      <th>tv</th>\n      <th>name</th>\n      <th>address</th>\n      <th>capa</th>\n      <th>absorp</th>\n    </tr>\n  </thead>\n  <tbody>\n    <tr>\n      <th>422</th>\n      <td>15699</td>\n      <td>0</td>\n      <td>2014</td>\n      <td>Ｊ１</td>\n      <td>第４節第１日</td>\n      <td>03/23(日)</td>\n      <td>15:04</td>\n      <td>浦和レッズ</td>\n      <td>清水エスパルス</td>\n      <td>埼玉スタジアム２００２</td>\n      <td>スカパー！／スカパー！プレミアムサービス／テレ玉</td>\n      <td>埼玉スタジアム２００２</td>\n      <td>埼玉県さいたま市緑区中野田500</td>\n      <td>63700</td>\n      <td>0.0</td>\n    </tr>\n  </tbody>\n</table>\n</div>"
     },
     "metadata": {},
     "execution_count": 116
    }
   ],
   "source": [
    "train[train['y'] == 0]"
   ]
  },
  {
   "cell_type": "code",
   "execution_count": 108,
   "metadata": {},
   "outputs": [],
   "source": [
    "train = pd.merge(left=train,right=stadium,left_on='stadium',right_on='name')\n",
    "test = pd.merge(left=test,right=stadium,left_on='stadium',right_on='name')\n",
    "train['absorp'] = round((train['y']/train['capa'])*100 , 2)\n"
   ]
  },
  {
   "cell_type": "code",
   "execution_count": 111,
   "metadata": {},
   "outputs": [],
   "source": [
    "# absorp 1\n",
    "stadium2012 =train[train['year'] == 2012].groupby(['year','home','stadium'])[['y','absorp','capa']].mean()\n",
    "stadium2013 =train[train['year'] == 2013].groupby(['year','home','stadium'])[['y','absorp','capa']].mean()\n",
    "stadium2014 =pd.read_excel('./stadium2014.xlsx').groupby(['year','home','stadium'])[['y','absorp','capa']].mean()\n",
    "absorp_info = pd.concat([stadium2012,stadium2013,stadium2014],axis=0)\n",
    "# stadium2014_a =train[train['year'] == 2014].groupby(['year','home','stadium'])[['y','absorp','capa']].mean()\n",
    "# stadium2014_b = test.groupby(['year','home','stadium'])[['capa']].mean()\n",
    "# stadium2014 = pd.concat([stadium2014_a,stadium2014_b],axis=0).sort_values('home',na_position='last').to_excel('./stadium2014.xlsx')\n",
    "\n",
    "#absorp2\n",
    "stadium2012 =train[train['year'] == 2012].groupby(['year','stadium'])[['y','absorp','capa']].mean()\n",
    "stadium2013 =train[train['year'] == 2013].groupby(['year','stadium'])[['y','absorp','capa']].mean()\n",
    "stadium2014 =pd.read_excel('./stadium2014.xlsx').groupby(['year','stadium'])[['y','absorp','capa']].mean()\n",
    "absorp_info2 = pd.concat([stadium2012,stadium2013,stadium2014],axis=0)\n",
    "\n",
    "#absorp2\n",
    "absorp_info3 = train.groupby('stadium')['absorp'].mean()"
   ]
  },
  {
   "cell_type": "code",
   "execution_count": 113,
   "metadata": {},
   "outputs": [],
   "source": [
    "absorp_info.to_csv('./data/absorp.csv')\n",
    "absorp_info2.to_csv('./data/absorp2.csv')\n",
    "absorp_info3.to_csv('./data/absorp3.csv')\n"
   ]
  },
  {
   "cell_type": "code",
   "execution_count": null,
   "metadata": {},
   "outputs": [],
   "source": []
  }
 ]
}