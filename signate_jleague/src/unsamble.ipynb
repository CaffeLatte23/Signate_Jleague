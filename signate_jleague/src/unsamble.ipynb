{
 "metadata": {
  "language_info": {
   "codemirror_mode": {
    "name": "ipython",
    "version": 3
   },
   "file_extension": ".py",
   "mimetype": "text/x-python",
   "name": "python",
   "nbconvert_exporter": "python",
   "pygments_lexer": "ipython3",
   "version": "3.8.5"
  },
  "orig_nbformat": 2,
  "kernelspec": {
   "name": "python385jvsc74a57bd0b3ba2566441a7c06988d0923437866b63cedc61552a5af99d1f4fb67d367b25f",
   "display_name": "Python 3.8.5 64-bit ('base': conda)"
  }
 },
 "nbformat": 4,
 "nbformat_minor": 2,
 "cells": [
  {
   "cell_type": "code",
   "execution_count": 266,
   "metadata": {},
   "outputs": [],
   "source": [
    "import pandas as pd\n",
    "import numpy as np\n",
    "\n",
    "from sklearn.metrics import mean_squared_error"
   ]
  },
  {
   "cell_type": "code",
   "execution_count": 267,
   "metadata": {},
   "outputs": [],
   "source": [
    "# A = pd.read_csv('../data/submission/sub_xgb_adjust.csv',header=None)\n",
    "# A = pd.read_csv('../data/submission/sub_cat.csv',names=('id','y'))\n",
    "A = pd.read_csv('../data/submission/sub_adjust4.csv',names=('id','y'))\n",
    "B = pd.read_csv('../data/submission/sub_absorp2.csv')\n",
    "# B = pd.read_csv('../data/submission/sub_new.csv',header=None)\n",
    "C = pd.read_csv('../data/submission/sub_adjust2.csv',header=None)\n",
    "# A.columns = ['id','y']\n",
    "B.columns = ['id','y']\n",
    "C.columns = ['id','y']\n",
    "\n",
    "\n",
    "result = pd.read_csv('../data/result.csv')\n",
    "j1 = pd.read_csv('../data/submission/sub_j1.csv')"
   ]
  },
  {
   "cell_type": "code",
   "execution_count": 268,
   "metadata": {},
   "outputs": [],
   "source": [
    "sub = A"
   ]
  },
  {
   "cell_type": "code",
   "execution_count": 269,
   "metadata": {},
   "outputs": [
    {
     "output_type": "execute_result",
     "data": {
      "text/plain": [
       "        id          y\n",
       "0    15822  14487.896\n",
       "1    15823  19331.828\n",
       "2    15824  39406.080\n",
       "3    15825  12343.033\n",
       "4    15826  23901.111\n",
       "..     ...        ...\n",
       "346  16432   5914.378\n",
       "347  16433  12125.531\n",
       "348  16434   6417.660\n",
       "349  16435   8540.447\n",
       "350  16436  12725.934\n",
       "\n",
       "[351 rows x 2 columns]"
      ],
      "text/html": "<div>\n<style scoped>\n    .dataframe tbody tr th:only-of-type {\n        vertical-align: middle;\n    }\n\n    .dataframe tbody tr th {\n        vertical-align: top;\n    }\n\n    .dataframe thead th {\n        text-align: right;\n    }\n</style>\n<table border=\"1\" class=\"dataframe\">\n  <thead>\n    <tr style=\"text-align: right;\">\n      <th></th>\n      <th>id</th>\n      <th>y</th>\n    </tr>\n  </thead>\n  <tbody>\n    <tr>\n      <th>0</th>\n      <td>15822</td>\n      <td>14487.896</td>\n    </tr>\n    <tr>\n      <th>1</th>\n      <td>15823</td>\n      <td>19331.828</td>\n    </tr>\n    <tr>\n      <th>2</th>\n      <td>15824</td>\n      <td>39406.080</td>\n    </tr>\n    <tr>\n      <th>3</th>\n      <td>15825</td>\n      <td>12343.033</td>\n    </tr>\n    <tr>\n      <th>4</th>\n      <td>15826</td>\n      <td>23901.111</td>\n    </tr>\n    <tr>\n      <th>...</th>\n      <td>...</td>\n      <td>...</td>\n    </tr>\n    <tr>\n      <th>346</th>\n      <td>16432</td>\n      <td>5914.378</td>\n    </tr>\n    <tr>\n      <th>347</th>\n      <td>16433</td>\n      <td>12125.531</td>\n    </tr>\n    <tr>\n      <th>348</th>\n      <td>16434</td>\n      <td>6417.660</td>\n    </tr>\n    <tr>\n      <th>349</th>\n      <td>16435</td>\n      <td>8540.447</td>\n    </tr>\n    <tr>\n      <th>350</th>\n      <td>16436</td>\n      <td>12725.934</td>\n    </tr>\n  </tbody>\n</table>\n<p>351 rows × 2 columns</p>\n</div>"
     },
     "metadata": {},
     "execution_count": 269
    }
   ],
   "source": [
    "A"
   ]
  },
  {
   "cell_type": "code",
   "execution_count": 270,
   "metadata": {},
   "outputs": [
    {
     "output_type": "stream",
     "name": "stdout",
     "text": [
      "score : 2865.62199679737 , rate : 0.0\nscore : 2794.7157790769115 , rate : 0.1\nscore : 2736.2834321317223 , rate : 0.2\nscore : 2691.137609625382 , rate : 0.3\nscore : 2659.954910288225 , rate : 0.4\nscore : 2643.2295574613327 , rate : 0.5\nscore : 2641.236214342177 , rate : 0.6\nscore : 2654.008075404542 , rate : 0.7\nscore : 2681.334157936496 , rate : 0.8\nscore : 2722.7762938893975 , rate : 0.9\nscore : 2777.702738678082 , rate : 1.0\n\nBest_score : 2641.236214342177 , Rate : 0.6\n"
     ]
    }
   ],
   "source": [
    "min_score = 6000\n",
    "min_rate = 0\n",
    "\n",
    "for i in range(0,11):\n",
    "    u = i/10.0\n",
    "    pred = C['y']*u + B['y']*(1-u)\n",
    "    \n",
    "    rmse = np.sqrt(mean_squared_error(pred,result['y']))\n",
    "\n",
    "    if rmse < min_score:\n",
    "        min_score = rmse\n",
    "        min_rate = u\n",
    "    \n",
    "    print(f\"score : {rmse} , rate : {u}\")\n",
    "\n",
    "print(\"\\n\" + f\"Best_score : {min_score} , Rate : {min_rate}\")"
   ]
  },
  {
   "cell_type": "code",
   "execution_count": 271,
   "metadata": {},
   "outputs": [
    {
     "output_type": "stream",
     "name": "stdout",
     "text": [
      "score : 2865.62199679737 , rate : 0.0\nscore : 2778.807427425253 , rate : 0.1\nscore : 2707.61356949898 , rate : 0.2\nscore : 2653.298135828825 , rate : 0.3\nscore : 2616.9123000755835 , rate : 0.4\nscore : 2599.209150456634 , rate : 0.5\nscore : 2600.5702571137285 , rate : 0.6\nscore : 2620.9659191580663 , rate : 0.7\nscore : 2659.9583209945336 , rate : 0.8\nscore : 2716.7468454577224 , rate : 0.9\nscore : 2790.2451161174645 , rate : 1.0\n\nBest_score : 2599.209150456634 , Rate : 0.5\n"
     ]
    }
   ],
   "source": [
    "min_score = 6000\n",
    "min_rate = 0\n",
    "\n",
    "for i in range(0,11):\n",
    "    u = i/10.0\n",
    "    pred = A['y']*u + B['y']*(1-u)\n",
    "    \n",
    "    rmse = np.sqrt(mean_squared_error(pred,result['y']))\n",
    "\n",
    "    if rmse < min_score:\n",
    "        min_score = rmse\n",
    "        min_rate = u\n",
    "    \n",
    "    print(f\"score : {rmse} , rate : {u}\")\n",
    "\n",
    "print(\"\\n\" + f\"Best_score : {min_score} , Rate : {min_rate}\")"
   ]
  },
  {
   "cell_type": "code",
   "execution_count": 272,
   "metadata": {},
   "outputs": [
    {
     "output_type": "execute_result",
     "data": {
      "text/plain": [
       "2599.209150456634"
      ]
     },
     "metadata": {},
     "execution_count": 272
    }
   ],
   "source": [
    "pred2 = A['y']*0.5 + B['y']*0.5\n",
    "sub['y'] = pred2\n",
    "np.sqrt(mean_squared_error(sub['y'],result['y']))"
   ]
  },
  {
   "cell_type": "code",
   "execution_count": 273,
   "metadata": {},
   "outputs": [],
   "source": [
    "# sub.to_csv('../data/submission/sub_u6.csv',header=False , index = False)"
   ]
  },
  {
   "cell_type": "code",
   "execution_count": 274,
   "metadata": {},
   "outputs": [
    {
     "output_type": "stream",
     "name": "stdout",
     "text": [
      "score : 2599.209150456634 , rate : 0.0\n",
      "score : 2596.3093443561766 , rate : 0.1\n",
      "score : 2598.159322590283 , rate : 0.2\n",
      "score : 2604.7489648202736 , rate : 0.3\n",
      "score : 2616.042454567523 , rate : 0.4\n",
      "score : 2631.979241685797 , rate : 0.5\n",
      "score : 2652.475632956524 , rate : 0.6\n",
      "score : 2677.4269156018386 , rate : 0.7\n",
      "score : 2706.709892756911 , rate : 0.8\n",
      "score : 2740.185696062399 , rate : 0.9\n",
      "score : 2777.702738678082 , rate : 1.0\n",
      "\n",
      "Best_score : 2596.3093443561766 , Rate : 0.1\n"
     ]
    }
   ],
   "source": [
    "min_score = 6000\n",
    "min_rate = 0\n",
    "\n",
    "for i in range(0,11):\n",
    "    u = i/10.0\n",
    "    pred = C['y']*u + A['y']*(1-u)\n",
    "    \n",
    "    rmse = np.sqrt(mean_squared_error(pred,result['y']))\n",
    "\n",
    "    if rmse < min_score:\n",
    "        min_score = rmse\n",
    "        min_rate = u\n",
    "    \n",
    "    print(f\"score : {rmse} , rate : {u}\")\n",
    "\n",
    "print(\"\\n\" + f\"Best_score : {min_score} , Rate : {min_rate}\")"
   ]
  },
  {
   "cell_type": "code",
   "execution_count": 275,
   "metadata": {},
   "outputs": [],
   "source": [
    "# pred2 = A['y']*min_rate + C['y']*(1-min_rate)"
   ]
  },
  {
   "cell_type": "code",
   "execution_count": 276,
   "metadata": {
    "tags": []
   },
   "outputs": [
    {
     "output_type": "stream",
     "name": "stdout",
     "text": [
      "score : 2695.97548509305 , rate : 0.1,0.1\n",
      "score : 2662.9424936702144 , rate : 0.1,0.2\n",
      "score : 2641.5060806328784 , rate : 0.1,0.3\n",
      "score : 2631.9496128346573 , rate : 0.1,0.4\n",
      "score : 2634.402379294901 , rate : 0.1,0.5\n",
      "score : 2648.8310192654544 , rate : 0.1,0.6\n",
      "score : 2675.041753368571 , rate : 0.1,0.7\n",
      "score : 2712.693078282471 , rate : 0.1,0.8\n",
      "score : 2761.3170467572468 , rate : 0.1,0.9\n",
      "score : 2820.346196749043 , rate : 0.1,1.0\n",
      "score : 2672.2117623557338 , rate : 0.2,0.1\n",
      "score : 2646.7296507231463 , rate : 0.2,0.2\n",
      "score : 2630.525587593156 , rate : 0.2,0.3\n",
      "score : 2623.771478572038 , rate : 0.2,0.4\n",
      "score : 2626.5402259197167 , rate : 0.2,0.5\n",
      "score : 2638.8018544030965 , rate : 0.2,0.6\n",
      "score : 2660.4251120917816 , rate : 0.2,0.7\n",
      "score : 2691.184350637548 , rate : 0.2,0.8\n",
      "score : 2730.7708660751514 , rate : 0.2,0.9\n",
      "score : 2778.8074274252526 , rate : 0.2,1.0\n",
      "score : 2651.566783340553 , rate : 0.3,0.1\n",
      "score : 2632.735882078679 , rate : 0.3,0.2\n",
      "score : 2621.0857183995463 , rate : 0.3,0.3\n",
      "score : 2616.7122046100853 , rate : 0.3,0.4\n",
      "score : 2619.6517861075586 , rate : 0.3,0.5\n",
      "score : 2629.8799400926086 , rate : 0.3,0.6\n",
      "score : 2647.3121875385846 , rate : 0.3,0.7\n",
      "score : 2671.8075225253383 , rate : 0.3,0.8\n",
      "score : 2703.173941258587 , rate : 0.3,0.9\n",
      "score : 2741.175582869478 , rate : 0.3,1.0\n",
      "score : 2634.113878926005 , rate : 0.4,0.1\n",
      "score : 2620.996731569335 , rate : 0.4,0.2\n",
      "score : 2613.2031690375156 , rate : 0.4,0.3\n",
      "score : 2610.7808668025623 , rate : 0.4,0.4\n",
      "score : 2613.744758441613 , rate : 0.4,0.5\n",
      "score : 2622.07657899683 , rate : 0.4,0.6\n",
      "score : 2635.7254231028073 , rate : 0.4,0.7\n",
      "score : 2654.6092785721353 , rate : 0.4,0.8\n",
      "score : 2678.617429532653 , rate : 0.4,0.9\n",
      "score : 2707.61356949898 , rate : 0.4,1.0\n",
      "score : 2619.9168431038497 , rate : 0.5,0.1\n",
      "score : 2611.5426035879027 , rate : 0.5,0.2\n",
      "score : 2606.892066310238 , rate : 0.5,0.3\n",
      "score : 2605.9851668589718 , rate : 0.5,0.4\n",
      "score : 2608.8258094107878 , rate : 0.5,0.5\n",
      "score : 2615.4017831430524 , rate : 0.5,0.6\n",
      "score : 2625.685023027135 , rate : 0.5,0.7\n",
      "score : 2639.6322021242463 , rate : 0.5,0.8\n",
      "score : 2657.1856266160125 , rate : 0.5,0.9\n",
      "score : 2678.2743913869813 , rate : 0.5,1.0\n",
      "score : 2609.0288268627633 , rate : 0.6,0.1\n",
      "score : 2604.3983825746072 , rate : 0.6,0.2\n",
      "score : 2602.163844066839 , rate : 0.6,0.3\n",
      "score : 2602.3313832091635 , rate : 0.6,0.4\n",
      "score : 2604.900536519016 , rate : 0.6,0.5\n",
      "score : 2609.864211550848 , rate : 0.6,0.6\n",
      "score : 2617.208784328436 , rate : 0.6,0.7\n",
      "score : 2626.9142847175394 , rate : 0.6,0.8\n",
      "score : 2638.9546639143546 , rate : 0.6,0.9\n",
      "score : 2653.2981358288253 , rate : 0.6,1.0\n",
      "score : 2601.4913782320195 , rate : 0.7,0.1\n",
      "score : 2599.583112982693 , rate : 0.7,0.2\n",
      "score : 2599.0271411818803 , rate : 0.7,0.3\n",
      "score : 2599.824330392601 , rate : 0.7,0.4\n",
      "score : 2601.9734368760624 , rate : 0.7,0.5\n",
      "score : 2605.471115272999 , rate : 0.7,0.6\n",
      "score : 2610.311944546329 , rate : 0.7,0.7\n",
      "score : 2616.4884697178704 , rate : 0.7,0.8\n",
      "score : 2623.9912586550086 , rate : 0.7,0.9\n",
      "score : 2632.8089729099684 , rate : 0.7,1.0\n",
      "score : 2597.3336673641265 , rate : 0.8,0.1\n",
      "score : 2597.109749085963 , rate : 0.8,0.2\n",
      "score : 2597.4877233752813 , rate : 0.8,0.3\n",
      "score : 2598.467327577362 , rate : 0.8,0.4\n",
      "score : 2600.0478816749805 , rate : 0.8,0.5\n",
      "score : 2602.2282906447417 , rate : 0.8,0.6\n",
      "score : 2605.0070482390133 , rate : 0.8,0.7\n",
      "score : 2608.3822421631003 , rate : 0.8,0.8\n",
      "score : 2612.3515606063534 , rate : 0.8,0.9\n",
      "score : 2616.9123000755835 , rate : 0.8,1.0\n",
      "score : 2596.571929530133 , rate : 0.9,0.1\n",
      "score : 2596.9849821735434 , rate : 0.9,0.2\n",
      "score : 2597.5484305060513 , rate : 0.9,0.3\n",
      "score : 2598.2621766851057 , rate : 0.9,0.4\n",
      "score : 2599.1260968908077 , rate : 0.9,0.5\n",
      "score : 2600.1400414330974 , rate : 0.9,0.6\n",
      "score : 2601.303834881082 , rate : 0.9,0.7\n",
      "score : 2602.61727621423 , rate : 0.9,0.8\n",
      "score : 2604.0801389951466 , rate : 0.9,0.9\n",
      "score : 2605.6921715635617 , rate : 0.9,1.0\n",
      "score : 2599.209150456634 , rate : 1.0,0.1\n",
      "score : 2599.209150456634 , rate : 1.0,0.2\n",
      "score : 2599.209150456634 , rate : 1.0,0.3\n",
      "score : 2599.209150456634 , rate : 1.0,0.4\n",
      "score : 2599.209150456634 , rate : 1.0,0.5\n",
      "score : 2599.209150456634 , rate : 1.0,0.6\n",
      "score : 2599.209150456634 , rate : 1.0,0.7\n",
      "score : 2599.209150456634 , rate : 1.0,0.8\n",
      "score : 2599.209150456634 , rate : 1.0,0.9\n",
      "score : 2599.209150456634 , rate : 1.0,1.0\n",
      "\n",
      "Best_score : 2596.571929530133 , Rate : 0.9 , 0.1\n"
     ]
    }
   ],
   "source": [
    "min_score = 6000\n",
    "min_rate1 = 0\n",
    "min_rate2 = 0\n",
    "\n",
    "for i in range(1,11):\n",
    "    u = i/10.0\n",
    "    for j in range(1,11):\n",
    "        t =  j/10.0\n",
    "        pred = A['y']*u + B['y']*(1-u)*t +  C['y']*(1-u)*(1-t)\n",
    "    \n",
    "        rmse = np.sqrt(mean_squared_error(pred,result['y']))\n",
    "\n",
    "        if rmse < min_score:\n",
    "            min_score = rmse\n",
    "            min_rate1 = u\n",
    "            min_rate2 = t\n",
    "    \n",
    "        print(f\"score : {rmse} , rate : {u},{t}\")\n",
    "\n",
    "print(\"\\n\" + f\"Best_score : {min_score} , Rate : {min_rate1} , {min_rate2}\")"
   ]
  },
  {
   "cell_type": "code",
   "execution_count": 277,
   "metadata": {},
   "outputs": [],
   "source": [
    "pred = A['y']*min_rate1 + B['y']*(1-min_rate1)*min_rate2 + C['y']*(1-min_rate1)*(1-min_rate2)"
   ]
  },
  {
   "cell_type": "code",
   "execution_count": 278,
   "metadata": {},
   "outputs": [
    {
     "output_type": "execute_result",
     "data": {
      "text/plain": [
       "2596.571929530133"
      ]
     },
     "metadata": {},
     "execution_count": 278
    }
   ],
   "source": [
    "np.sqrt(mean_squared_error(pred,result['y']))"
   ]
  },
  {
   "cell_type": "code",
   "execution_count": 279,
   "metadata": {},
   "outputs": [],
   "source": [
    "sub['y'] = pred"
   ]
  },
  {
   "cell_type": "code",
   "execution_count": 280,
   "metadata": {},
   "outputs": [],
   "source": [
    "# sub.to_csv('../data/submission/sub_u6.csv',header=False , index = False)"
   ]
  },
  {
   "cell_type": "code",
   "execution_count": 281,
   "metadata": {},
   "outputs": [],
   "source": [
    "pred = B['y']*0.4 + C['y']*0.6"
   ]
  },
  {
   "cell_type": "code",
   "execution_count": 282,
   "metadata": {},
   "outputs": [],
   "source": [
    "sub['y'] = pred"
   ]
  },
  {
   "cell_type": "code",
   "execution_count": 283,
   "metadata": {},
   "outputs": [
    {
     "output_type": "execute_result",
     "data": {
      "text/plain": [
       "2641.236214342177"
      ]
     },
     "metadata": {},
     "execution_count": 283
    }
   ],
   "source": [
    "np.sqrt(mean_squared_error(pred,result['y']))"
   ]
  },
  {
   "cell_type": "code",
   "execution_count": 284,
   "metadata": {},
   "outputs": [],
   "source": [
    "# sub.to_csv('../data/submission/sub_u3.csv',header=False , index = False)"
   ]
  },
  {
   "cell_type": "code",
   "execution_count": 285,
   "metadata": {},
   "outputs": [],
   "source": [
    "pred2 = A['y']*0.5 + B['y']*0.5"
   ]
  },
  {
   "cell_type": "code",
   "execution_count": 286,
   "metadata": {},
   "outputs": [
    {
     "output_type": "execute_result",
     "data": {
      "text/plain": [
       "2691.137609625382"
      ]
     },
     "metadata": {},
     "execution_count": 286
    }
   ],
   "source": [
    "np.sqrt(mean_squared_error(pred2,result['y']))"
   ]
  },
  {
   "cell_type": "code",
   "execution_count": 287,
   "metadata": {},
   "outputs": [],
   "source": [
    "sub['y'] = pred2"
   ]
  },
  {
   "cell_type": "code",
   "execution_count": 288,
   "metadata": {},
   "outputs": [],
   "source": [
    "# sub.to_csv('../data/submission/sub_u4.csv',header=False , index = False)"
   ]
  },
  {
   "cell_type": "code",
   "execution_count": 289,
   "metadata": {},
   "outputs": [
    {
     "output_type": "execute_result",
     "data": {
      "text/plain": [
       "2777.702738678082"
      ]
     },
     "metadata": {},
     "execution_count": 289
    }
   ],
   "source": [
    "np.sqrt(mean_squared_error(C['y'],result['y']))"
   ]
  },
  {
   "cell_type": "code",
   "execution_count": null,
   "metadata": {},
   "outputs": [],
   "source": []
  }
 ]
}