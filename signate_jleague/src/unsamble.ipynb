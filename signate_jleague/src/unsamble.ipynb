{
 "metadata": {
  "language_info": {
   "codemirror_mode": {
    "name": "ipython",
    "version": 3
   },
   "file_extension": ".py",
   "mimetype": "text/x-python",
   "name": "python",
   "nbconvert_exporter": "python",
   "pygments_lexer": "ipython3",
   "version": "3.8.5"
  },
  "orig_nbformat": 2,
  "kernelspec": {
   "name": "python385jvsc74a57bd0b3ba2566441a7c06988d0923437866b63cedc61552a5af99d1f4fb67d367b25f",
   "display_name": "Python 3.8.5 64-bit ('base': conda)"
  }
 },
 "nbformat": 4,
 "nbformat_minor": 2,
 "cells": [
  {
   "cell_type": "code",
   "execution_count": 23,
   "metadata": {},
   "outputs": [],
   "source": [
    "import pandas as pd\n",
    "import numpy as np\n",
    "\n",
    "from sklearn.metrics import mean_squared_error"
   ]
  },
  {
   "cell_type": "code",
   "execution_count": 24,
   "metadata": {},
   "outputs": [],
   "source": [
    "A = pd.read_csv('../data/submission/sub_xgb_adjust.csv',header=None)\n",
    "# A = pd.read_csv('../data/submission/sub_cat.csv',header=None)\n",
    "B = pd.read_csv('../data/submission/sub_absorp2.csv')\n",
    "# B = pd.read_csv('../data/submission/sub_new.csv',header=None)\n",
    "C = pd.read_csv('../data/submission/sub_adjust2.csv',header=None)\n",
    "A.columns = ['id','y']\n",
    "B.columns = ['id','y']\n",
    "C.columns = ['id','y']\n",
    "\n",
    "\n",
    "result = pd.read_csv('../data/result.csv')\n",
    "j1 = pd.read_csv('../data/submission/sub_j1.csv')"
   ]
  },
  {
   "cell_type": "code",
   "execution_count": 25,
   "metadata": {},
   "outputs": [],
   "source": [
    "sub = A"
   ]
  },
  {
   "cell_type": "code",
   "execution_count": 128,
   "metadata": {},
   "outputs": [
    {
     "output_type": "execute_result",
     "data": {
      "text/plain": [
       "        id      y\n",
       "0    15822  14931\n",
       "1    15823  16632\n",
       "2    15824  26494\n",
       "3    15825  11963\n",
       "4    15826  24119\n",
       "..     ...    ...\n",
       "346  16432   4842\n",
       "347  16433  10717\n",
       "348  16434   3628\n",
       "349  16435   7799\n",
       "350  16436  12770\n",
       "\n",
       "[351 rows x 2 columns]"
      ],
      "text/html": "<div>\n<style scoped>\n    .dataframe tbody tr th:only-of-type {\n        vertical-align: middle;\n    }\n\n    .dataframe tbody tr th {\n        vertical-align: top;\n    }\n\n    .dataframe thead th {\n        text-align: right;\n    }\n</style>\n<table border=\"1\" class=\"dataframe\">\n  <thead>\n    <tr style=\"text-align: right;\">\n      <th></th>\n      <th>id</th>\n      <th>y</th>\n    </tr>\n  </thead>\n  <tbody>\n    <tr>\n      <th>0</th>\n      <td>15822</td>\n      <td>14931</td>\n    </tr>\n    <tr>\n      <th>1</th>\n      <td>15823</td>\n      <td>16632</td>\n    </tr>\n    <tr>\n      <th>2</th>\n      <td>15824</td>\n      <td>26494</td>\n    </tr>\n    <tr>\n      <th>3</th>\n      <td>15825</td>\n      <td>11963</td>\n    </tr>\n    <tr>\n      <th>4</th>\n      <td>15826</td>\n      <td>24119</td>\n    </tr>\n    <tr>\n      <th>...</th>\n      <td>...</td>\n      <td>...</td>\n    </tr>\n    <tr>\n      <th>346</th>\n      <td>16432</td>\n      <td>4842</td>\n    </tr>\n    <tr>\n      <th>347</th>\n      <td>16433</td>\n      <td>10717</td>\n    </tr>\n    <tr>\n      <th>348</th>\n      <td>16434</td>\n      <td>3628</td>\n    </tr>\n    <tr>\n      <th>349</th>\n      <td>16435</td>\n      <td>7799</td>\n    </tr>\n    <tr>\n      <th>350</th>\n      <td>16436</td>\n      <td>12770</td>\n    </tr>\n  </tbody>\n</table>\n<p>351 rows × 2 columns</p>\n</div>"
     },
     "metadata": {},
     "execution_count": 128
    }
   ],
   "source": []
  },
  {
   "cell_type": "code",
   "execution_count": 26,
   "metadata": {},
   "outputs": [
    {
     "output_type": "stream",
     "name": "stdout",
     "text": [
      "score : 2865.62199679737 , rate : 0.0\nscore : 2794.7157790769115 , rate : 0.1\nscore : 2736.2834321317223 , rate : 0.2\nscore : 2691.137609625382 , rate : 0.3\nscore : 2659.954910288225 , rate : 0.4\nscore : 2643.2295574613327 , rate : 0.5\nscore : 2641.236214342177 , rate : 0.6\nscore : 2654.008075404542 , rate : 0.7\nscore : 2681.334157936496 , rate : 0.8\nscore : 2722.7762938893975 , rate : 0.9\nscore : 2777.702738678082 , rate : 1.0\n\nBest_score : 2641.236214342177 , Rate : 0.6\n"
     ]
    }
   ],
   "source": [
    "min_score = 6000\n",
    "min_rate = 0\n",
    "\n",
    "for i in range(0,11):\n",
    "    u = i/10.0\n",
    "    pred = C['y']*u + B['y']*(1-u)\n",
    "    \n",
    "    rmse = np.sqrt(mean_squared_error(pred,result['y']))\n",
    "\n",
    "    if rmse < min_score:\n",
    "        min_score = rmse\n",
    "        min_rate = u\n",
    "    \n",
    "    print(f\"score : {rmse} , rate : {u}\")\n",
    "\n",
    "print(\"\\n\" + f\"Best_score : {min_score} , Rate : {min_rate}\")"
   ]
  },
  {
   "cell_type": "code",
   "execution_count": 27,
   "metadata": {},
   "outputs": [
    {
     "output_type": "stream",
     "name": "stdout",
     "text": [
      "score : 2865.62199679737 , rate : 0.0\nscore : 2806.2364484634363 , rate : 0.1\nscore : 2766.0756776574963 , rate : 0.2\nscore : 2745.9833171488935 , rate : 0.3\nscore : 2746.399857136552 , rate : 0.4\nscore : 2767.3160365573112 , rate : 0.5\nscore : 2808.2738454044734 , rate : 0.6\nscore : 2868.414894862031 , rate : 0.7\nscore : 2946.5647966806787 , rate : 0.8\nscore : 3041.3356057326705 , rate : 0.9\nscore : 3151.2280948932807 , rate : 1.0\n\nBest_score : 2745.9833171488935 , Rate : 0.3\n"
     ]
    }
   ],
   "source": [
    "min_score = 6000\n",
    "min_rate = 0\n",
    "\n",
    "for i in range(0,11):\n",
    "    u = i/10.0\n",
    "    pred = A['y']*u + B['y']*(1-u)\n",
    "    \n",
    "    rmse = np.sqrt(mean_squared_error(pred,result['y']))\n",
    "\n",
    "    if rmse < min_score:\n",
    "        min_score = rmse\n",
    "        min_rate = u\n",
    "    \n",
    "    print(f\"score : {rmse} , rate : {u}\")\n",
    "\n",
    "print(\"\\n\" + f\"Best_score : {min_score} , Rate : {min_rate}\")"
   ]
  },
  {
   "cell_type": "code",
   "execution_count": 28,
   "metadata": {},
   "outputs": [
    {
     "output_type": "stream",
     "name": "stdout",
     "text": [
      "score : 3151.2280948932807 , rate : 0.0\nscore : 3070.8049945422254 , rate : 0.1\nscore : 2998.571924719749 , rate : 0.2\nscore : 2935.1336129179535 , rate : 0.3\nscore : 2881.071073124608 , rate : 0.4\nscore : 2836.920371787203 , rate : 0.5\nscore : 2803.1498939725607 , rate : 0.6\nscore : 2780.1379327376535 , rate : 0.7\nscore : 2768.152811310548 , rate : 0.8\nscore : 2767.3378025166103 , rate : 0.9\nscore : 2777.702738678082 , rate : 1.0\n\nBest_score : 2767.3378025166103 , Rate : 0.9\n"
     ]
    }
   ],
   "source": [
    "min_score = 6000\n",
    "min_rate = 0\n",
    "\n",
    "for i in range(0,11):\n",
    "    u = i/10.0\n",
    "    pred = C['y']*u + A['y']*(1-u)\n",
    "    \n",
    "    rmse = np.sqrt(mean_squared_error(pred,result['y']))\n",
    "\n",
    "    if rmse < min_score:\n",
    "        min_score = rmse\n",
    "        min_rate = u\n",
    "    \n",
    "    print(f\"score : {rmse} , rate : {u}\")\n",
    "\n",
    "print(\"\\n\" + f\"Best_score : {min_score} , Rate : {min_rate}\")"
   ]
  },
  {
   "cell_type": "code",
   "execution_count": 29,
   "metadata": {},
   "outputs": [],
   "source": [
    "pred2 = A['y']*min_rate + C['y']*(1-min_rate)"
   ]
  },
  {
   "cell_type": "code",
   "execution_count": 30,
   "metadata": {
    "tags": []
   },
   "outputs": [
    {
     "output_type": "stream",
     "name": "stdout",
     "text": [
      "score : 2719.3623568106427 , rate : 0.1,0.1\n",
      "score : 2682.3529751123556 , rate : 0.1,0.2\n",
      "score : 2656.767976245494 , rate : 0.1,0.3\n",
      "score : 2642.9391625928793 , rate : 0.1,0.4\n",
      "score : 2641.0512103677243 , rate : 0.1,0.5\n",
      "score : 2651.1296300740546 , rate : 0.1,0.6\n",
      "score : 2673.039071203873 , rate : 0.1,0.7\n",
      "score : 2706.492227582122 , rate : 0.1,0.8\n",
      "score : 2751.068014571161 , rate : 0.1,0.9\n",
      "score : 2806.2364484634363 , rate : 0.1,1.0\n",
      "score : 2726.977903348379 , rate : 0.2,0.1\n",
      "score : 2694.4706095548117 , rate : 0.2,0.2\n",
      "score : 2670.947421418018 , rate : 0.2,0.3\n",
      "score : 2656.6469980080087 , rate : 0.2,0.4\n",
      "score : 2651.7185555580536 , rate : 0.2,0.5\n",
      "score : 2656.214261985908 , rate : 0.2,0.6\n",
      "score : 2670.086514531751 , rate : 0.2,0.7\n",
      "score : 2693.190425204243 , rate : 0.2,0.8\n",
      "score : 2725.291217385737 , rate : 0.2,0.9\n",
      "score : 2766.0756776574963 , rate : 0.2,1.0\n",
      "score : 2745.5311543854036 , rate : 0.3,0.1\n",
      "score : 2717.5385948498943 , rate : 0.3,0.2\n",
      "score : 2696.366260254802 , rate : 0.3,0.3\n",
      "score : 2682.175666231806 , rate : 0.3,0.4\n",
      "score : 2675.0779240529496 , rate : 0.3,0.5\n",
      "score : 2675.129491282372 , rate : 0.3,0.6\n",
      "score : 2682.3299555881945 , rate : 0.3,0.7\n",
      "score : 2696.6220510680923 , rate : 0.3,0.8\n",
      "score : 2717.893905602543 , rate : 0.3,0.9\n",
      "score : 2745.9833171488935 , rate : 0.3,1.0\n",
      "score : 2774.8027192379473 , rate : 0.4,0.1\n",
      "score : 2751.281506739411 , rate : 0.4,0.2\n",
      "score : 2732.7108745687497 , rate : 0.4,0.3\n",
      "score : 2719.1922540839882 , rate : 0.4,0.4\n",
      "score : 2710.801228673631 , rate : 0.4,0.5\n",
      "score : 2707.585471247514 , rate : 0.4,0.6\n",
      "score : 2709.563408165016 , rate : 0.4,0.7\n",
      "score : 2716.72369549188 , rate : 0.4,0.8\n",
      "score : 2729.025541919925 , rate : 0.4,0.9\n",
      "score : 2746.399857136552 , rate : 0.4,1.0\n",
      "score : 2814.4581926755823 , rate : 0.5,0.1\n",
      "score : 2795.312792915546 , rate : 0.5,0.2\n",
      "score : 2779.5527107103144 , rate : 0.5,0.3\n",
      "score : 2767.2357872898992 , rate : 0.5,0.4\n",
      "score : 2758.408146514939 , rate : 0.5,0.5\n",
      "score : 2753.103353040556 , rate : 0.5,0.6\n",
      "score : 2751.3417838842684 , rate : 0.5,0.7\n",
      "score : 2753.130240368756 , rate : 0.5,0.8\n",
      "score : 2758.4618174953093 , rate : 0.5,0.9\n",
      "score : 2767.3160365573112 , rate : 0.5,1.0\n",
      "score : 2864.0662846006267 , rate : 0.6,0.1\n",
      "score : 2849.1554989561073 , rate : 0.6,0.2\n",
      "score : 2836.371740857101 , rate : 0.6,0.3\n",
      "score : 2825.7438786784605 , rate : 0.6,0.4\n",
      "score : 2817.296310986824 , rate : 0.6,0.5\n",
      "score : 2811.048694058194 , rate : 0.6,0.6\n",
      "score : 2807.0157173211055 , rate : 0.6,0.7\n",
      "score : 2805.2069325923694 , rate : 0.6,0.8\n",
      "score : 2805.6266416784674 , rate : 0.6,0.9\n",
      "score : 2808.2738454044734 , rate : 0.6,1.0\n",
      "score : 2923.1203231294307 , rate : 0.7,0.1\n",
      "score : 2912.2654876075126 , rate : 0.7,0.2\n",
      "score : 2902.582103254506 , rate : 0.7,0.3\n",
      "score : 2894.081928861533 , rate : 0.7,0.4\n",
      "score : 2886.7754164116127 , rate : 0.7,0.5\n",
      "score : 2880.6716487027816 , rate : 0.7,0.6\n",
      "score : 2875.7782841324142 , rate : 0.7,0.7\n",
      "score : 2872.1015094075547 , rate : 0.7,0.8\n",
      "score : 2869.6460008511067 , rate : 0.7,0.9\n",
      "score : 2868.414894862031 , rate : 0.7,1.0\n",
      "score : 2991.060872171864 , rate : 0.8,0.1\n",
      "score : 2984.0548335228877 , rate : 0.8,0.2\n",
      "score : 2977.5573735897833 , rate : 0.8,0.3\n",
      "score : 2971.5718284571635 , rate : 0.8,0.4\n",
      "score : 2966.1012972343665 , rate : 0.8,0.5\n",
      "score : 2961.1486342877683 , rate : 0.8,0.6\n",
      "score : 2956.716441992202 , rate : 0.8,0.7\n",
      "score : 2952.807064043216 , rate : 0.8,0.8\n",
      "score : 2949.422579369357 , rate : 0.8,0.9\n",
      "score : 2946.5647966806787 , rate : 0.8,1.0\n",
      "score : 3067.297480718435 , rate : 0.9,0.1\n",
      "score : 3063.9135096664 , rate : 0.9,0.2\n",
      "score : 3060.653491166445 , rate : 0.9,0.3\n",
      "score : 3057.517821704538 , rate : 0.9,0.4\n",
      "score : 3054.506884240208 , rate : 0.9,0.5\n",
      "score : 3051.621047980766 , rate : 0.9,0.6\n",
      "score : 3048.8606681621386 , rate : 0.9,0.7\n",
      "score : 3046.2260858366008 , rate : 0.9,0.8\n",
      "score : 3043.717627667705 , rate : 0.9,0.9\n",
      "score : 3041.3356057326705 , rate : 0.9,1.0\n",
      "score : 3151.2280948932807 , rate : 1.0,0.1\n",
      "score : 3151.2280948932807 , rate : 1.0,0.2\n",
      "score : 3151.2280948932807 , rate : 1.0,0.3\n",
      "score : 3151.2280948932807 , rate : 1.0,0.4\n",
      "score : 3151.2280948932807 , rate : 1.0,0.5\n",
      "score : 3151.2280948932807 , rate : 1.0,0.6\n",
      "score : 3151.2280948932807 , rate : 1.0,0.7\n",
      "score : 3151.2280948932807 , rate : 1.0,0.8\n",
      "score : 3151.2280948932807 , rate : 1.0,0.9\n",
      "score : 3151.2280948932807 , rate : 1.0,1.0\n",
      "\n",
      "Best_score : 2641.0512103677243 , Rate : 0.1 , 0.5\n"
     ]
    }
   ],
   "source": [
    "min_score = 6000\n",
    "min_rate1 = 0\n",
    "min_rate2 = 0\n",
    "\n",
    "for i in range(1,11):\n",
    "    u = i/10.0\n",
    "    for j in range(1,11):\n",
    "        t =  j/10.0\n",
    "        pred = A['y']*u + B['y']*(1-u)*t +  C['y']*(1-u)*(1-t)\n",
    "    \n",
    "        rmse = np.sqrt(mean_squared_error(pred,result['y']))\n",
    "\n",
    "        if rmse < min_score:\n",
    "            min_score = rmse\n",
    "            min_rate1 = u\n",
    "            min_rate2 = t\n",
    "    \n",
    "        print(f\"score : {rmse} , rate : {u},{t}\")\n",
    "\n",
    "print(\"\\n\" + f\"Best_score : {min_score} , Rate : {min_rate1} , {min_rate2}\")"
   ]
  },
  {
   "cell_type": "code",
   "execution_count": 31,
   "metadata": {},
   "outputs": [],
   "source": [
    "pred = A['y']*min_rate1 + B['y']*(1-min_rate1)*min_rate2 + C['y']*(1-min_rate1)*(1-min_rate2)"
   ]
  },
  {
   "cell_type": "code",
   "execution_count": 32,
   "metadata": {},
   "outputs": [
    {
     "output_type": "execute_result",
     "data": {
      "text/plain": [
       "2641.0512103677243"
      ]
     },
     "metadata": {},
     "execution_count": 32
    }
   ],
   "source": [
    "np.sqrt(mean_squared_error(pred,result['y']))"
   ]
  },
  {
   "cell_type": "code",
   "execution_count": 33,
   "metadata": {},
   "outputs": [],
   "source": [
    "sub['y'] = pred"
   ]
  },
  {
   "cell_type": "code",
   "execution_count": 34,
   "metadata": {},
   "outputs": [],
   "source": [
    "# sub.to_csv('../data/submission/sub_u2.csv',header=False , index = False)"
   ]
  },
  {
   "cell_type": "code",
   "execution_count": 35,
   "metadata": {},
   "outputs": [],
   "source": [
    "pred = B['y']*0.4 + C['y']*0.6"
   ]
  },
  {
   "cell_type": "code",
   "execution_count": 36,
   "metadata": {},
   "outputs": [],
   "source": [
    "sub['y'] = pred"
   ]
  },
  {
   "cell_type": "code",
   "execution_count": 37,
   "metadata": {},
   "outputs": [
    {
     "output_type": "execute_result",
     "data": {
      "text/plain": [
       "2641.236214342177"
      ]
     },
     "metadata": {},
     "execution_count": 37
    }
   ],
   "source": [
    "np.sqrt(mean_squared_error(pred,result['y']))"
   ]
  },
  {
   "cell_type": "code",
   "execution_count": 38,
   "metadata": {},
   "outputs": [],
   "source": [
    "# sub.to_csv('../data/submission/sub_u3.csv',header=False , index = False)"
   ]
  },
  {
   "cell_type": "code",
   "execution_count": 39,
   "metadata": {},
   "outputs": [],
   "source": [
    "pred2 = A['y']*0.5 + B['y']*0.5"
   ]
  },
  {
   "cell_type": "code",
   "execution_count": 40,
   "metadata": {},
   "outputs": [
    {
     "output_type": "execute_result",
     "data": {
      "text/plain": [
       "2691.137609625382"
      ]
     },
     "metadata": {},
     "execution_count": 40
    }
   ],
   "source": [
    "np.sqrt(mean_squared_error(pred2,result['y']))"
   ]
  },
  {
   "cell_type": "code",
   "execution_count": 41,
   "metadata": {},
   "outputs": [],
   "source": [
    "sub['y'] = pred2"
   ]
  },
  {
   "cell_type": "code",
   "execution_count": 42,
   "metadata": {},
   "outputs": [],
   "source": [
    "# sub.to_csv('../data/submission/sub_u4.csv',header=False , index = False)"
   ]
  },
  {
   "cell_type": "code",
   "execution_count": 43,
   "metadata": {},
   "outputs": [
    {
     "output_type": "execute_result",
     "data": {
      "text/plain": [
       "2777.702738678082"
      ]
     },
     "metadata": {},
     "execution_count": 43
    }
   ],
   "source": [
    "np.sqrt(mean_squared_error(C['y'],result['y']))"
   ]
  },
  {
   "cell_type": "code",
   "execution_count": null,
   "metadata": {},
   "outputs": [],
   "source": []
  }
 ]
}