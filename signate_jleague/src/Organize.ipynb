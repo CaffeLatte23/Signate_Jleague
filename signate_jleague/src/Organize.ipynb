{
 "metadata": {
  "language_info": {
   "codemirror_mode": {
    "name": "ipython",
    "version": 3
   },
   "file_extension": ".py",
   "mimetype": "text/x-python",
   "name": "python",
   "nbconvert_exporter": "python",
   "pygments_lexer": "ipython3",
   "version": "3.8.5"
  },
  "orig_nbformat": 2,
  "kernelspec": {
   "name": "python385jvsc74a57bd0b3ba2566441a7c06988d0923437866b63cedc61552a5af99d1f4fb67d367b25f",
   "display_name": "Python 3.8.5 64-bit ('base': conda)"
  }
 },
 "nbformat": 4,
 "nbformat_minor": 2,
 "cells": [
  {
   "source": [
    "## 事前処理"
   ],
   "cell_type": "markdown",
   "metadata": {}
  },
  {
   "cell_type": "code",
   "execution_count": 32,
   "metadata": {},
   "outputs": [],
   "source": [
    "import pandas as pd"
   ]
  },
  {
   "source": [
    "それぞれの読み込みと結合"
   ],
   "cell_type": "markdown",
   "metadata": {}
  },
  {
   "cell_type": "code",
   "execution_count": 33,
   "metadata": {},
   "outputs": [],
   "source": [
    "train = pd.read_csv('../data/moto/train.csv')\n",
    "train_add = pd.read_csv('../data/moto/train_add.csv')\n",
    "\n",
    "condition = pd.read_csv('../data/moto/condition.csv')\n",
    "condition_add = pd.read_csv('../data/moto/condition_add.csv')\n",
    "\n",
    "test = pd.read_csv('../data/moto/test.csv')\n",
    "test_add = pd.read_csv('../data/moto/2014_add.csv')"
   ]
  },
  {
   "cell_type": "code",
   "execution_count": 34,
   "metadata": {},
   "outputs": [
    {
     "output_type": "execute_result",
     "data": {
      "text/plain": [
       "      id      y  year stage   match   gameday   time       home      away  \\\n",
       "0  13994  18250  2012    Ｊ１  第１節第１日  03/10(土)  14:04     ベガルタ仙台  鹿島アントラーズ   \n",
       "1  13995  24316  2012    Ｊ１  第１節第１日  03/10(土)  14:04   名古屋グランパス   清水エスパルス   \n",
       "2  13996  17066  2012    Ｊ１  第１節第１日  03/10(土)  14:04      ガンバ大阪   ヴィッセル神戸   \n",
       "3  13997  29603  2012    Ｊ１  第１節第１日  03/10(土)  14:06  サンフレッチェ広島     浦和レッズ   \n",
       "4  13998  25353  2012    Ｊ１  第１節第１日  03/10(土)  14:04   コンサドーレ札幌    ジュビロ磐田   \n",
       "\n",
       "        stadium                                  tv  \n",
       "0  ユアテックスタジアム仙台                 スカパー／ｅ２／スカパー光／ＮＨＫ総合  \n",
       "1       豊田スタジアム    スカパー／ｅ２／スカパー光（Ｊ　ＳＰＯＲＴＳ　４）／ＮＨＫ名古屋  \n",
       "2       万博記念競技場     スカパー／ｅ２／スカパー光（Ｊ　ＳＰＯＲＴＳ　１）／ＮＨＫ大阪  \n",
       "3  エディオンスタジアム広島                 スカパー／ｅ２／スカパー光／ＮＨＫ広島  \n",
       "4         札幌ドーム  スカパー／ｅ２／スカパー光（スカイ・Ａ　ｓｐｏｒｔｓ＋）／ＮＨＫ札幌  "
      ],
      "text/html": "<div>\n<style scoped>\n    .dataframe tbody tr th:only-of-type {\n        vertical-align: middle;\n    }\n\n    .dataframe tbody tr th {\n        vertical-align: top;\n    }\n\n    .dataframe thead th {\n        text-align: right;\n    }\n</style>\n<table border=\"1\" class=\"dataframe\">\n  <thead>\n    <tr style=\"text-align: right;\">\n      <th></th>\n      <th>id</th>\n      <th>y</th>\n      <th>year</th>\n      <th>stage</th>\n      <th>match</th>\n      <th>gameday</th>\n      <th>time</th>\n      <th>home</th>\n      <th>away</th>\n      <th>stadium</th>\n      <th>tv</th>\n    </tr>\n  </thead>\n  <tbody>\n    <tr>\n      <th>0</th>\n      <td>13994</td>\n      <td>18250</td>\n      <td>2012</td>\n      <td>Ｊ１</td>\n      <td>第１節第１日</td>\n      <td>03/10(土)</td>\n      <td>14:04</td>\n      <td>ベガルタ仙台</td>\n      <td>鹿島アントラーズ</td>\n      <td>ユアテックスタジアム仙台</td>\n      <td>スカパー／ｅ２／スカパー光／ＮＨＫ総合</td>\n    </tr>\n    <tr>\n      <th>1</th>\n      <td>13995</td>\n      <td>24316</td>\n      <td>2012</td>\n      <td>Ｊ１</td>\n      <td>第１節第１日</td>\n      <td>03/10(土)</td>\n      <td>14:04</td>\n      <td>名古屋グランパス</td>\n      <td>清水エスパルス</td>\n      <td>豊田スタジアム</td>\n      <td>スカパー／ｅ２／スカパー光（Ｊ　ＳＰＯＲＴＳ　４）／ＮＨＫ名古屋</td>\n    </tr>\n    <tr>\n      <th>2</th>\n      <td>13996</td>\n      <td>17066</td>\n      <td>2012</td>\n      <td>Ｊ１</td>\n      <td>第１節第１日</td>\n      <td>03/10(土)</td>\n      <td>14:04</td>\n      <td>ガンバ大阪</td>\n      <td>ヴィッセル神戸</td>\n      <td>万博記念競技場</td>\n      <td>スカパー／ｅ２／スカパー光（Ｊ　ＳＰＯＲＴＳ　１）／ＮＨＫ大阪</td>\n    </tr>\n    <tr>\n      <th>3</th>\n      <td>13997</td>\n      <td>29603</td>\n      <td>2012</td>\n      <td>Ｊ１</td>\n      <td>第１節第１日</td>\n      <td>03/10(土)</td>\n      <td>14:06</td>\n      <td>サンフレッチェ広島</td>\n      <td>浦和レッズ</td>\n      <td>エディオンスタジアム広島</td>\n      <td>スカパー／ｅ２／スカパー光／ＮＨＫ広島</td>\n    </tr>\n    <tr>\n      <th>4</th>\n      <td>13998</td>\n      <td>25353</td>\n      <td>2012</td>\n      <td>Ｊ１</td>\n      <td>第１節第１日</td>\n      <td>03/10(土)</td>\n      <td>14:04</td>\n      <td>コンサドーレ札幌</td>\n      <td>ジュビロ磐田</td>\n      <td>札幌ドーム</td>\n      <td>スカパー／ｅ２／スカパー光（スカイ・Ａ　ｓｐｏｒｔｓ＋）／ＮＨＫ札幌</td>\n    </tr>\n  </tbody>\n</table>\n</div>"
     },
     "metadata": {},
     "execution_count": 34
    }
   ],
   "source": [
    "train = pd.concat([train,train_add],axis=0,ignore_index=True).sort_values(['id'],axis=0)\n",
    "train.drop_duplicates(inplace=True)\n",
    "train.head()"
   ]
  },
  {
   "cell_type": "code",
   "execution_count": 35,
   "metadata": {},
   "outputs": [
    {
     "output_type": "execute_result",
     "data": {
      "text/plain": [
       "      id  home_score  away_score  weather  temperature humidity referee  \\\n",
       "0  13994           1           0        雨          3.8      66%   木村　博之   \n",
       "1  13995           1           0       屋内         12.4      43%   西村　雄一   \n",
       "2  13996           2           3     晴一時雨         11.3      41%   高山　啓義   \n",
       "3  13997           1           0  曇一時雨のち晴         11.4      52%    松尾　一   \n",
       "4  13998           0           0       屋内         22.5      32%    廣瀬　格   \n",
       "\n",
       "   home_team home_01 home_02  ... away_02   away_03        away_04 away_05  \\\n",
       "0     ベガルタ仙台    林　卓人   菅井　直樹  ...   新井場　徹     岩政　大樹          中田　浩二   アレックス   \n",
       "1   名古屋グランパス   楢﨑　正剛   田中　隼磨  ...    吉田　豊     岩下　敬輔  カルフィン　ヨン　ア　ピン    李　記帝   \n",
       "2      ガンバ大阪  藤ヶ谷　陽介    加地　亮  ...   近藤　岳登    北本　久仁衛         伊野波　雅彦   相馬　崇人   \n",
       "3  サンフレッチェ広島   西川　周作   森脇　良太  ...   濱田　水輝     阿部　勇樹          槙野　智章   平川　忠亮   \n",
       "4   コンサドーレ札幌    李　昊乗   高木　純平  ...   駒野　友一  チョ　ビョングク          藤田　義明   山本　脩斗   \n",
       "\n",
       "  away_06 away_07 away_08 away_09 away_10 away_11  \n",
       "0    青木　剛   増田　誓志  小笠原　満男   本山　雅志   大迫　勇也  ジュニーニョ  \n",
       "1   村松　大輔   河井　陽介   枝村　匠馬   高木　俊幸   アレックス   大前　元紀  \n",
       "2   三原　雅俊   田中　英雄   野沢　拓也   橋本　英郎   森岡　亮太  大久保　嘉人  \n",
       "3   鈴木　啓太   山田　直輝    梅崎　司   柏木　陽介   原口　元気   田中　達也  \n",
       "4   小林　裕紀   山本　康裕   山田　大記   松浦　拓弥    菅沼　実   前田　遼一  \n",
       "\n",
       "[5 rows x 31 columns]"
      ],
      "text/html": "<div>\n<style scoped>\n    .dataframe tbody tr th:only-of-type {\n        vertical-align: middle;\n    }\n\n    .dataframe tbody tr th {\n        vertical-align: top;\n    }\n\n    .dataframe thead th {\n        text-align: right;\n    }\n</style>\n<table border=\"1\" class=\"dataframe\">\n  <thead>\n    <tr style=\"text-align: right;\">\n      <th></th>\n      <th>id</th>\n      <th>home_score</th>\n      <th>away_score</th>\n      <th>weather</th>\n      <th>temperature</th>\n      <th>humidity</th>\n      <th>referee</th>\n      <th>home_team</th>\n      <th>home_01</th>\n      <th>home_02</th>\n      <th>...</th>\n      <th>away_02</th>\n      <th>away_03</th>\n      <th>away_04</th>\n      <th>away_05</th>\n      <th>away_06</th>\n      <th>away_07</th>\n      <th>away_08</th>\n      <th>away_09</th>\n      <th>away_10</th>\n      <th>away_11</th>\n    </tr>\n  </thead>\n  <tbody>\n    <tr>\n      <th>0</th>\n      <td>13994</td>\n      <td>1</td>\n      <td>0</td>\n      <td>雨</td>\n      <td>3.8</td>\n      <td>66%</td>\n      <td>木村　博之</td>\n      <td>ベガルタ仙台</td>\n      <td>林　卓人</td>\n      <td>菅井　直樹</td>\n      <td>...</td>\n      <td>新井場　徹</td>\n      <td>岩政　大樹</td>\n      <td>中田　浩二</td>\n      <td>アレックス</td>\n      <td>青木　剛</td>\n      <td>増田　誓志</td>\n      <td>小笠原　満男</td>\n      <td>本山　雅志</td>\n      <td>大迫　勇也</td>\n      <td>ジュニーニョ</td>\n    </tr>\n    <tr>\n      <th>1</th>\n      <td>13995</td>\n      <td>1</td>\n      <td>0</td>\n      <td>屋内</td>\n      <td>12.4</td>\n      <td>43%</td>\n      <td>西村　雄一</td>\n      <td>名古屋グランパス</td>\n      <td>楢﨑　正剛</td>\n      <td>田中　隼磨</td>\n      <td>...</td>\n      <td>吉田　豊</td>\n      <td>岩下　敬輔</td>\n      <td>カルフィン　ヨン　ア　ピン</td>\n      <td>李　記帝</td>\n      <td>村松　大輔</td>\n      <td>河井　陽介</td>\n      <td>枝村　匠馬</td>\n      <td>高木　俊幸</td>\n      <td>アレックス</td>\n      <td>大前　元紀</td>\n    </tr>\n    <tr>\n      <th>2</th>\n      <td>13996</td>\n      <td>2</td>\n      <td>3</td>\n      <td>晴一時雨</td>\n      <td>11.3</td>\n      <td>41%</td>\n      <td>高山　啓義</td>\n      <td>ガンバ大阪</td>\n      <td>藤ヶ谷　陽介</td>\n      <td>加地　亮</td>\n      <td>...</td>\n      <td>近藤　岳登</td>\n      <td>北本　久仁衛</td>\n      <td>伊野波　雅彦</td>\n      <td>相馬　崇人</td>\n      <td>三原　雅俊</td>\n      <td>田中　英雄</td>\n      <td>野沢　拓也</td>\n      <td>橋本　英郎</td>\n      <td>森岡　亮太</td>\n      <td>大久保　嘉人</td>\n    </tr>\n    <tr>\n      <th>3</th>\n      <td>13997</td>\n      <td>1</td>\n      <td>0</td>\n      <td>曇一時雨のち晴</td>\n      <td>11.4</td>\n      <td>52%</td>\n      <td>松尾　一</td>\n      <td>サンフレッチェ広島</td>\n      <td>西川　周作</td>\n      <td>森脇　良太</td>\n      <td>...</td>\n      <td>濱田　水輝</td>\n      <td>阿部　勇樹</td>\n      <td>槙野　智章</td>\n      <td>平川　忠亮</td>\n      <td>鈴木　啓太</td>\n      <td>山田　直輝</td>\n      <td>梅崎　司</td>\n      <td>柏木　陽介</td>\n      <td>原口　元気</td>\n      <td>田中　達也</td>\n    </tr>\n    <tr>\n      <th>4</th>\n      <td>13998</td>\n      <td>0</td>\n      <td>0</td>\n      <td>屋内</td>\n      <td>22.5</td>\n      <td>32%</td>\n      <td>廣瀬　格</td>\n      <td>コンサドーレ札幌</td>\n      <td>李　昊乗</td>\n      <td>高木　純平</td>\n      <td>...</td>\n      <td>駒野　友一</td>\n      <td>チョ　ビョングク</td>\n      <td>藤田　義明</td>\n      <td>山本　脩斗</td>\n      <td>小林　裕紀</td>\n      <td>山本　康裕</td>\n      <td>山田　大記</td>\n      <td>松浦　拓弥</td>\n      <td>菅沼　実</td>\n      <td>前田　遼一</td>\n    </tr>\n  </tbody>\n</table>\n<p>5 rows × 31 columns</p>\n</div>"
     },
     "metadata": {},
     "execution_count": 35
    }
   ],
   "source": [
    "condition = pd.concat([condition,condition_add],axis=0,ignore_index=True).sort_values(['id'],axis=0)\n",
    "condition.drop_duplicates(inplace=True)\n",
    "condition.head()"
   ]
  },
  {
   "cell_type": "code",
   "execution_count": 36,
   "metadata": {},
   "outputs": [
    {
     "output_type": "execute_result",
     "data": {
      "text/plain": [
       "        id  year stage    match   gameday   time      home       away  \\\n",
       "0    15822  2014    Ｊ１  第１８節第１日  08/02(土)  19:04    ベガルタ仙台  大宮アルディージャ   \n",
       "1    15823  2014    Ｊ１  第１８節第１日  08/02(土)  18:34  鹿島アントラーズ  サンフレッチェ広島   \n",
       "2    15824  2014    Ｊ１  第１８節第１日  08/02(土)  19:04     浦和レッズ    ヴィッセル神戸   \n",
       "3    15825  2014    Ｊ１  第１８節第１日  08/02(土)  19:03     柏レイソル   川崎フロンターレ   \n",
       "313  15826  2014    Ｊ１  第１８節第１日  08/02(土)  18:34      ＦＣ東京    清水エスパルス   \n",
       "\n",
       "            stadium                                tv  \n",
       "0      ユアテックスタジアム仙台              スカパー！／スカパー！プレミアムサービス  \n",
       "1    県立カシマサッカースタジアム              スカパー！／スカパー！プレミアムサービス  \n",
       "2       埼玉スタジアム２００２  スカパー！／スカパー！プレミアムサービス／ＮＨＫ　ＢＳ１／テレ玉  \n",
       "3          日立柏サッカー場              スカパー！／スカパー！プレミアムサービス  \n",
       "313        味の素スタジアム     スカパー！／スカパー！プレミアムサービス／ＴＯＫＹＯ　ＭＸ  "
      ],
      "text/html": "<div>\n<style scoped>\n    .dataframe tbody tr th:only-of-type {\n        vertical-align: middle;\n    }\n\n    .dataframe tbody tr th {\n        vertical-align: top;\n    }\n\n    .dataframe thead th {\n        text-align: right;\n    }\n</style>\n<table border=\"1\" class=\"dataframe\">\n  <thead>\n    <tr style=\"text-align: right;\">\n      <th></th>\n      <th>id</th>\n      <th>year</th>\n      <th>stage</th>\n      <th>match</th>\n      <th>gameday</th>\n      <th>time</th>\n      <th>home</th>\n      <th>away</th>\n      <th>stadium</th>\n      <th>tv</th>\n    </tr>\n  </thead>\n  <tbody>\n    <tr>\n      <th>0</th>\n      <td>15822</td>\n      <td>2014</td>\n      <td>Ｊ１</td>\n      <td>第１８節第１日</td>\n      <td>08/02(土)</td>\n      <td>19:04</td>\n      <td>ベガルタ仙台</td>\n      <td>大宮アルディージャ</td>\n      <td>ユアテックスタジアム仙台</td>\n      <td>スカパー！／スカパー！プレミアムサービス</td>\n    </tr>\n    <tr>\n      <th>1</th>\n      <td>15823</td>\n      <td>2014</td>\n      <td>Ｊ１</td>\n      <td>第１８節第１日</td>\n      <td>08/02(土)</td>\n      <td>18:34</td>\n      <td>鹿島アントラーズ</td>\n      <td>サンフレッチェ広島</td>\n      <td>県立カシマサッカースタジアム</td>\n      <td>スカパー！／スカパー！プレミアムサービス</td>\n    </tr>\n    <tr>\n      <th>2</th>\n      <td>15824</td>\n      <td>2014</td>\n      <td>Ｊ１</td>\n      <td>第１８節第１日</td>\n      <td>08/02(土)</td>\n      <td>19:04</td>\n      <td>浦和レッズ</td>\n      <td>ヴィッセル神戸</td>\n      <td>埼玉スタジアム２００２</td>\n      <td>スカパー！／スカパー！プレミアムサービス／ＮＨＫ　ＢＳ１／テレ玉</td>\n    </tr>\n    <tr>\n      <th>3</th>\n      <td>15825</td>\n      <td>2014</td>\n      <td>Ｊ１</td>\n      <td>第１８節第１日</td>\n      <td>08/02(土)</td>\n      <td>19:03</td>\n      <td>柏レイソル</td>\n      <td>川崎フロンターレ</td>\n      <td>日立柏サッカー場</td>\n      <td>スカパー！／スカパー！プレミアムサービス</td>\n    </tr>\n    <tr>\n      <th>313</th>\n      <td>15826</td>\n      <td>2014</td>\n      <td>Ｊ１</td>\n      <td>第１８節第１日</td>\n      <td>08/02(土)</td>\n      <td>18:34</td>\n      <td>ＦＣ東京</td>\n      <td>清水エスパルス</td>\n      <td>味の素スタジアム</td>\n      <td>スカパー！／スカパー！プレミアムサービス／ＴＯＫＹＯ　ＭＸ</td>\n    </tr>\n  </tbody>\n</table>\n</div>"
     },
     "metadata": {},
     "execution_count": 36
    }
   ],
   "source": [
    "test = pd.concat([test,test_add],axis=0,ignore_index=True).sort_values(['id'])\n",
    "test.drop_duplicates(inplace=True)\n",
    "test.head()"
   ]
  },
  {
   "cell_type": "code",
   "execution_count": 37,
   "metadata": {},
   "outputs": [],
   "source": [
    "## 無観客試合なので排除\n",
    "train.drop(1567,inplace=True)"
   ]
  },
  {
   "cell_type": "code",
   "execution_count": 38,
   "metadata": {},
   "outputs": [],
   "source": [
    "## スタジアムについては名称変更で同じなどのパターンが多いのでいったん保留\n",
    "## 一旦、これでoutputし前処理に移る\n",
    "\n",
    "train.to_csv('../data/total_train.csv',index=False)\n",
    "test.to_csv('../data/total_test.csv',index=False)\n",
    "condition.to_csv('../data/total_condition.csv',index=False)"
   ]
  },
  {
   "source": [
    "## Conditionとの結合"
   ],
   "cell_type": "markdown",
   "metadata": {}
  },
  {
   "cell_type": "code",
   "execution_count": 39,
   "metadata": {},
   "outputs": [
    {
     "output_type": "execute_result",
     "data": {
      "text/plain": [
       "      id      y  year stage   match   gameday   time       home      away  \\\n",
       "0  13994  18250  2012    Ｊ１  第１節第１日  03/10(土)  14:04     ベガルタ仙台  鹿島アントラーズ   \n",
       "1  13995  24316  2012    Ｊ１  第１節第１日  03/10(土)  14:04   名古屋グランパス   清水エスパルス   \n",
       "2  13996  17066  2012    Ｊ１  第１節第１日  03/10(土)  14:04      ガンバ大阪   ヴィッセル神戸   \n",
       "3  13997  29603  2012    Ｊ１  第１節第１日  03/10(土)  14:06  サンフレッチェ広島     浦和レッズ   \n",
       "4  13998  25353  2012    Ｊ１  第１節第１日  03/10(土)  14:04   コンサドーレ札幌    ジュビロ磐田   \n",
       "\n",
       "        stadium  ... away_02   away_03        away_04 away_05  away_06  \\\n",
       "0  ユアテックスタジアム仙台  ...   新井場　徹     岩政　大樹          中田　浩二   アレックス     青木　剛   \n",
       "1       豊田スタジアム  ...    吉田　豊     岩下　敬輔  カルフィン　ヨン　ア　ピン    李　記帝    村松　大輔   \n",
       "2       万博記念競技場  ...   近藤　岳登    北本　久仁衛         伊野波　雅彦   相馬　崇人    三原　雅俊   \n",
       "3  エディオンスタジアム広島  ...   濱田　水輝     阿部　勇樹          槙野　智章   平川　忠亮    鈴木　啓太   \n",
       "4         札幌ドーム  ...   駒野　友一  チョ　ビョングク          藤田　義明   山本　脩斗    小林　裕紀   \n",
       "\n",
       "  away_07 away_08 away_09 away_10 away_11  \n",
       "0   増田　誓志  小笠原　満男   本山　雅志   大迫　勇也  ジュニーニョ  \n",
       "1   河井　陽介   枝村　匠馬   高木　俊幸   アレックス   大前　元紀  \n",
       "2   田中　英雄   野沢　拓也   橋本　英郎   森岡　亮太  大久保　嘉人  \n",
       "3   山田　直輝    梅崎　司   柏木　陽介   原口　元気   田中　達也  \n",
       "4   山本　康裕   山田　大記   松浦　拓弥    菅沼　実   前田　遼一  \n",
       "\n",
       "[5 rows x 41 columns]"
      ],
      "text/html": "<div>\n<style scoped>\n    .dataframe tbody tr th:only-of-type {\n        vertical-align: middle;\n    }\n\n    .dataframe tbody tr th {\n        vertical-align: top;\n    }\n\n    .dataframe thead th {\n        text-align: right;\n    }\n</style>\n<table border=\"1\" class=\"dataframe\">\n  <thead>\n    <tr style=\"text-align: right;\">\n      <th></th>\n      <th>id</th>\n      <th>y</th>\n      <th>year</th>\n      <th>stage</th>\n      <th>match</th>\n      <th>gameday</th>\n      <th>time</th>\n      <th>home</th>\n      <th>away</th>\n      <th>stadium</th>\n      <th>...</th>\n      <th>away_02</th>\n      <th>away_03</th>\n      <th>away_04</th>\n      <th>away_05</th>\n      <th>away_06</th>\n      <th>away_07</th>\n      <th>away_08</th>\n      <th>away_09</th>\n      <th>away_10</th>\n      <th>away_11</th>\n    </tr>\n  </thead>\n  <tbody>\n    <tr>\n      <th>0</th>\n      <td>13994</td>\n      <td>18250</td>\n      <td>2012</td>\n      <td>Ｊ１</td>\n      <td>第１節第１日</td>\n      <td>03/10(土)</td>\n      <td>14:04</td>\n      <td>ベガルタ仙台</td>\n      <td>鹿島アントラーズ</td>\n      <td>ユアテックスタジアム仙台</td>\n      <td>...</td>\n      <td>新井場　徹</td>\n      <td>岩政　大樹</td>\n      <td>中田　浩二</td>\n      <td>アレックス</td>\n      <td>青木　剛</td>\n      <td>増田　誓志</td>\n      <td>小笠原　満男</td>\n      <td>本山　雅志</td>\n      <td>大迫　勇也</td>\n      <td>ジュニーニョ</td>\n    </tr>\n    <tr>\n      <th>1</th>\n      <td>13995</td>\n      <td>24316</td>\n      <td>2012</td>\n      <td>Ｊ１</td>\n      <td>第１節第１日</td>\n      <td>03/10(土)</td>\n      <td>14:04</td>\n      <td>名古屋グランパス</td>\n      <td>清水エスパルス</td>\n      <td>豊田スタジアム</td>\n      <td>...</td>\n      <td>吉田　豊</td>\n      <td>岩下　敬輔</td>\n      <td>カルフィン　ヨン　ア　ピン</td>\n      <td>李　記帝</td>\n      <td>村松　大輔</td>\n      <td>河井　陽介</td>\n      <td>枝村　匠馬</td>\n      <td>高木　俊幸</td>\n      <td>アレックス</td>\n      <td>大前　元紀</td>\n    </tr>\n    <tr>\n      <th>2</th>\n      <td>13996</td>\n      <td>17066</td>\n      <td>2012</td>\n      <td>Ｊ１</td>\n      <td>第１節第１日</td>\n      <td>03/10(土)</td>\n      <td>14:04</td>\n      <td>ガンバ大阪</td>\n      <td>ヴィッセル神戸</td>\n      <td>万博記念競技場</td>\n      <td>...</td>\n      <td>近藤　岳登</td>\n      <td>北本　久仁衛</td>\n      <td>伊野波　雅彦</td>\n      <td>相馬　崇人</td>\n      <td>三原　雅俊</td>\n      <td>田中　英雄</td>\n      <td>野沢　拓也</td>\n      <td>橋本　英郎</td>\n      <td>森岡　亮太</td>\n      <td>大久保　嘉人</td>\n    </tr>\n    <tr>\n      <th>3</th>\n      <td>13997</td>\n      <td>29603</td>\n      <td>2012</td>\n      <td>Ｊ１</td>\n      <td>第１節第１日</td>\n      <td>03/10(土)</td>\n      <td>14:06</td>\n      <td>サンフレッチェ広島</td>\n      <td>浦和レッズ</td>\n      <td>エディオンスタジアム広島</td>\n      <td>...</td>\n      <td>濱田　水輝</td>\n      <td>阿部　勇樹</td>\n      <td>槙野　智章</td>\n      <td>平川　忠亮</td>\n      <td>鈴木　啓太</td>\n      <td>山田　直輝</td>\n      <td>梅崎　司</td>\n      <td>柏木　陽介</td>\n      <td>原口　元気</td>\n      <td>田中　達也</td>\n    </tr>\n    <tr>\n      <th>4</th>\n      <td>13998</td>\n      <td>25353</td>\n      <td>2012</td>\n      <td>Ｊ１</td>\n      <td>第１節第１日</td>\n      <td>03/10(土)</td>\n      <td>14:04</td>\n      <td>コンサドーレ札幌</td>\n      <td>ジュビロ磐田</td>\n      <td>札幌ドーム</td>\n      <td>...</td>\n      <td>駒野　友一</td>\n      <td>チョ　ビョングク</td>\n      <td>藤田　義明</td>\n      <td>山本　脩斗</td>\n      <td>小林　裕紀</td>\n      <td>山本　康裕</td>\n      <td>山田　大記</td>\n      <td>松浦　拓弥</td>\n      <td>菅沼　実</td>\n      <td>前田　遼一</td>\n    </tr>\n  </tbody>\n</table>\n<p>5 rows × 41 columns</p>\n</div>"
     },
     "metadata": {},
     "execution_count": 39
    }
   ],
   "source": [
    "train = pd.merge(left=train,right=condition,on='id')\n",
    "train.head()"
   ]
  },
  {
   "cell_type": "code",
   "execution_count": 40,
   "metadata": {},
   "outputs": [
    {
     "output_type": "execute_result",
     "data": {
      "text/plain": [
       "      id  year stage    match   gameday   time      home       away  \\\n",
       "0  15822  2014    Ｊ１  第１８節第１日  08/02(土)  19:04    ベガルタ仙台  大宮アルディージャ   \n",
       "1  15823  2014    Ｊ１  第１８節第１日  08/02(土)  18:34  鹿島アントラーズ  サンフレッチェ広島   \n",
       "2  15824  2014    Ｊ１  第１８節第１日  08/02(土)  19:04     浦和レッズ    ヴィッセル神戸   \n",
       "3  15825  2014    Ｊ１  第１８節第１日  08/02(土)  19:03     柏レイソル   川崎フロンターレ   \n",
       "4  15826  2014    Ｊ１  第１８節第１日  08/02(土)  18:34      ＦＣ東京    清水エスパルス   \n",
       "\n",
       "          stadium                                tv  ...  away_02  away_03  \\\n",
       "0    ユアテックスタジアム仙台              スカパー！／スカパー！プレミアムサービス  ...    中村　北斗    今井　智基   \n",
       "1  県立カシマサッカースタジアム              スカパー！／スカパー！プレミアムサービス  ...     塩谷　司    千葉　和彦   \n",
       "2     埼玉スタジアム２００２  スカパー！／スカパー！プレミアムサービス／ＮＨＫ　ＢＳ１／テレ玉  ...    河本　裕之    増川　隆洋   \n",
       "3        日立柏サッカー場              スカパー！／スカパー！プレミアムサービス  ...   小宮山　尊信    實藤　友紀   \n",
       "4        味の素スタジアム     スカパー！／スカパー！プレミアムサービス／ＴＯＫＹＯ　ＭＸ  ...   ヤコヴィッチ    平岡　康裕   \n",
       "\n",
       "  away_04  away_05 away_06 away_07 away_08 away_09 away_10   away_11  \n",
       "0   横山　知伸    高橋　祥平   橋本　晃司   和田　拓也   家長　昭博   富山　貴光    ムルジャ      ズラタン  \n",
       "1   水本　裕貴     柏　好文   柴﨑　晃誠   森﨑　和幸    山岸　智   石原　直樹  髙萩　洋次郎     佐藤　寿人  \n",
       "2    大屋　翼    橋本　英郎   杉浦　恭平    奥井　諒   高橋　峻希  小川　慶治朗   森岡　亮太   マルキーニョス  \n",
       "3   谷口　彰悟    登里　享平   大島　僚太   中村　憲剛  森谷　賢太郎   金久保　順    小林　悠    大久保　嘉人  \n",
       "4    吉田　豊    杉山　浩太   本田　拓也   河井　陽介   六平　光成   高木　俊幸   大前　元紀  ノヴァコヴィッチ  \n",
       "\n",
       "[5 rows x 40 columns]"
      ],
      "text/html": "<div>\n<style scoped>\n    .dataframe tbody tr th:only-of-type {\n        vertical-align: middle;\n    }\n\n    .dataframe tbody tr th {\n        vertical-align: top;\n    }\n\n    .dataframe thead th {\n        text-align: right;\n    }\n</style>\n<table border=\"1\" class=\"dataframe\">\n  <thead>\n    <tr style=\"text-align: right;\">\n      <th></th>\n      <th>id</th>\n      <th>year</th>\n      <th>stage</th>\n      <th>match</th>\n      <th>gameday</th>\n      <th>time</th>\n      <th>home</th>\n      <th>away</th>\n      <th>stadium</th>\n      <th>tv</th>\n      <th>...</th>\n      <th>away_02</th>\n      <th>away_03</th>\n      <th>away_04</th>\n      <th>away_05</th>\n      <th>away_06</th>\n      <th>away_07</th>\n      <th>away_08</th>\n      <th>away_09</th>\n      <th>away_10</th>\n      <th>away_11</th>\n    </tr>\n  </thead>\n  <tbody>\n    <tr>\n      <th>0</th>\n      <td>15822</td>\n      <td>2014</td>\n      <td>Ｊ１</td>\n      <td>第１８節第１日</td>\n      <td>08/02(土)</td>\n      <td>19:04</td>\n      <td>ベガルタ仙台</td>\n      <td>大宮アルディージャ</td>\n      <td>ユアテックスタジアム仙台</td>\n      <td>スカパー！／スカパー！プレミアムサービス</td>\n      <td>...</td>\n      <td>中村　北斗</td>\n      <td>今井　智基</td>\n      <td>横山　知伸</td>\n      <td>高橋　祥平</td>\n      <td>橋本　晃司</td>\n      <td>和田　拓也</td>\n      <td>家長　昭博</td>\n      <td>富山　貴光</td>\n      <td>ムルジャ</td>\n      <td>ズラタン</td>\n    </tr>\n    <tr>\n      <th>1</th>\n      <td>15823</td>\n      <td>2014</td>\n      <td>Ｊ１</td>\n      <td>第１８節第１日</td>\n      <td>08/02(土)</td>\n      <td>18:34</td>\n      <td>鹿島アントラーズ</td>\n      <td>サンフレッチェ広島</td>\n      <td>県立カシマサッカースタジアム</td>\n      <td>スカパー！／スカパー！プレミアムサービス</td>\n      <td>...</td>\n      <td>塩谷　司</td>\n      <td>千葉　和彦</td>\n      <td>水本　裕貴</td>\n      <td>柏　好文</td>\n      <td>柴﨑　晃誠</td>\n      <td>森﨑　和幸</td>\n      <td>山岸　智</td>\n      <td>石原　直樹</td>\n      <td>髙萩　洋次郎</td>\n      <td>佐藤　寿人</td>\n    </tr>\n    <tr>\n      <th>2</th>\n      <td>15824</td>\n      <td>2014</td>\n      <td>Ｊ１</td>\n      <td>第１８節第１日</td>\n      <td>08/02(土)</td>\n      <td>19:04</td>\n      <td>浦和レッズ</td>\n      <td>ヴィッセル神戸</td>\n      <td>埼玉スタジアム２００２</td>\n      <td>スカパー！／スカパー！プレミアムサービス／ＮＨＫ　ＢＳ１／テレ玉</td>\n      <td>...</td>\n      <td>河本　裕之</td>\n      <td>増川　隆洋</td>\n      <td>大屋　翼</td>\n      <td>橋本　英郎</td>\n      <td>杉浦　恭平</td>\n      <td>奥井　諒</td>\n      <td>高橋　峻希</td>\n      <td>小川　慶治朗</td>\n      <td>森岡　亮太</td>\n      <td>マルキーニョス</td>\n    </tr>\n    <tr>\n      <th>3</th>\n      <td>15825</td>\n      <td>2014</td>\n      <td>Ｊ１</td>\n      <td>第１８節第１日</td>\n      <td>08/02(土)</td>\n      <td>19:03</td>\n      <td>柏レイソル</td>\n      <td>川崎フロンターレ</td>\n      <td>日立柏サッカー場</td>\n      <td>スカパー！／スカパー！プレミアムサービス</td>\n      <td>...</td>\n      <td>小宮山　尊信</td>\n      <td>實藤　友紀</td>\n      <td>谷口　彰悟</td>\n      <td>登里　享平</td>\n      <td>大島　僚太</td>\n      <td>中村　憲剛</td>\n      <td>森谷　賢太郎</td>\n      <td>金久保　順</td>\n      <td>小林　悠</td>\n      <td>大久保　嘉人</td>\n    </tr>\n    <tr>\n      <th>4</th>\n      <td>15826</td>\n      <td>2014</td>\n      <td>Ｊ１</td>\n      <td>第１８節第１日</td>\n      <td>08/02(土)</td>\n      <td>18:34</td>\n      <td>ＦＣ東京</td>\n      <td>清水エスパルス</td>\n      <td>味の素スタジアム</td>\n      <td>スカパー！／スカパー！プレミアムサービス／ＴＯＫＹＯ　ＭＸ</td>\n      <td>...</td>\n      <td>ヤコヴィッチ</td>\n      <td>平岡　康裕</td>\n      <td>吉田　豊</td>\n      <td>杉山　浩太</td>\n      <td>本田　拓也</td>\n      <td>河井　陽介</td>\n      <td>六平　光成</td>\n      <td>高木　俊幸</td>\n      <td>大前　元紀</td>\n      <td>ノヴァコヴィッチ</td>\n    </tr>\n  </tbody>\n</table>\n<p>5 rows × 40 columns</p>\n</div>"
     },
     "metadata": {},
     "execution_count": 40
    }
   ],
   "source": [
    "test = pd.merge(left=test,right=condition,on='id')\n",
    "test.head()"
   ]
  },
  {
   "source": [
    "## Stadium"
   ],
   "cell_type": "markdown",
   "metadata": {}
  },
  {
   "cell_type": "code",
   "execution_count": 41,
   "metadata": {},
   "outputs": [],
   "source": [
    "import google_map as gm\n",
    "\n",
    "stadium = pd.read_csv('../data/moto/stadium.csv')\n",
    "stadium2 = pd.read_csv('../data/stadium_new2.csv')"
   ]
  },
  {
   "cell_type": "code",
   "execution_count": 42,
   "metadata": {},
   "outputs": [],
   "source": [
    "for i in range(len(stadium)):\n",
    "    stadium.loc[i,'lat'],stadium.loc[i,'lng'] = gm.extract_lag_lng(stadium.loc[i,'address'])"
   ]
  },
  {
   "cell_type": "code",
   "execution_count": 43,
   "metadata": {},
   "outputs": [
    {
     "output_type": "execute_result",
     "data": {
      "text/plain": [
       "                         name                   address   capa  near_station  \\\n",
       "0                 名古屋市瑞穂陸上競技場          愛知県名古屋市瑞穂区山下通5-1  20000           1.0   \n",
       "1                     豊田スタジアム              愛知県豊田市千石町7-2  40000           0.0   \n",
       "2                   フクダ電子アリーナ          千葉県千葉市中央区川崎町1-20  18500           1.0   \n",
       "3                    日立柏サッカー場            千葉県柏市日立台1-2-50  15349           0.0   \n",
       "4                  ニンジニアスタジアム              愛媛県松山市上野町乙46  15576           0.0   \n",
       "5                レベルファイブスタジアム       福岡県福岡市博多区東平尾公園2-1-1  22563           0.0   \n",
       "6                北九州市立本城陸上競技場       福岡県北九州市八幡西区御開4-16-1  10202           0.0   \n",
       "7           岐阜メモリアルセンター長良川競技場       岐阜県岐阜市長良福光大野2675-28  20000           0.0   \n",
       "8                 正田醤油スタジアム群馬               群馬県前橋市敷島町66  15135           0.0   \n",
       "9                エディオンスタジアム広島        広島県広島市安佐南区大塚西5-1-1  50000           1.0   \n",
       "10                      札幌ドーム             北海道札幌市豊平区羊ヶ丘1  39232           0.0   \n",
       "11                  札幌厚別公園競技場       北海道札幌市厚別区上野幌3条1-2-1  19620           1.0   \n",
       "12                ノエビアスタジアム神戸         兵庫県神戸市兵庫区御崎町1-2-2  30132           1.0   \n",
       "13             県立カシマサッカースタジアム           茨城県鹿嶋市神向寺後山26-2  40728           0.0   \n",
       "14              ケーズデンキスタジアム水戸           茨城県水戸市小吹町2058-1  12000           0.0   \n",
       "15              鹿児島県立鴨池陸上競技場           鹿児島県鹿児島市与次郎2-2-2  19934           1.0   \n",
       "16                   等々力陸上競技場          神奈川県川崎市中原区等々力1-1  26530           1.0   \n",
       "17                    日産スタジアム         神奈川県横浜市港北区小机町3300  72327           1.0   \n",
       "18                 ニッパツ三ツ沢球技場       神奈川県横浜市神奈川区三ツ沢西町3-1  15454           1.0   \n",
       "19          Ｓｈｏｎａｎ　ＢＭＷスタジアム平塚              神奈川県平塚市大原1-1  15100           0.0   \n",
       "20              うまかな・よかなスタジアム           熊本県熊本市東区平山町2776  32000           0.0   \n",
       "21                  熊本市水前寺競技場        熊本県熊本市中央区水前寺5-23-3  15000           1.0   \n",
       "22      京都市西京極総合運動公園陸上競技場兼球技場         京都府京都市右京区西京極新明町29  20588           1.0   \n",
       "23               ユアテックスタジアム仙台           宮城県仙台市泉区七北田字柳78  19694           1.0   \n",
       "24               松本平広域公園総合球技場              長野県松本市神林5300  20396           0.0   \n",
       "25             デンカビッグスワンスタジアム         新潟県新潟市中央区清五郎67-12  42300           0.0   \n",
       "26                    大分銀行ドーム            大分県大分市大字横尾1351  40000           0.0   \n",
       "27                シティライトスタジアム           岡山県岡山市北区いずみ町2-1  20000           1.0   \n",
       "28                    万博記念競技場           大阪府吹田市千里万博公園5-2  21000           0.0   \n",
       "29                 キンチョウスタジアム         大阪府大阪市東住吉区長居公園1-1  19628           1.0   \n",
       "30                ヤンマースタジアム長居         大阪府大阪市東住吉区長居公園1-1  47816           1.0   \n",
       "31              ベストアメニティスタジアム               佐賀県鳥栖市京町812  24490           1.0   \n",
       "32              佐賀県総合運動場陸上競技場           佐賀県佐賀市日の出2-1-10  17000           0.0   \n",
       "33                埼玉スタジアム２００２          埼玉県さいたま市緑区中野田500  63700           0.0   \n",
       "34               ＮＡＣＫ５スタジアム大宮           埼玉県さいたま市大宮区高鼻町4  15600           1.0   \n",
       "35                ＩＡＩスタジアム日本平         静岡県静岡市清水区村松3880-1  20281           0.0   \n",
       "36                   エコパスタジアム            静岡県袋井市愛野2300-1  50889           1.0   \n",
       "37               ヤマハスタジアム（磐田）              静岡県磐田市新貝2500  15165           1.0   \n",
       "38               栃木県グリーンスタジアム           栃木県宇都宮市清原工業団地32  15589           0.0   \n",
       "39  鳴門・大塚スポーツパーク　ポカリスエットスタジアム          徳島県鳴門市撫養町立岩字四枚61  19637           0.0   \n",
       "40                   味の素スタジアム             東京都調布市西町376-3  49970           1.0   \n",
       "41                  町田市立陸上競技場            東京都町田市野津田町2035  10328           0.0   \n",
       "42                      国立競技場              東京都新宿区霞ヶ丘町10  54224           1.0   \n",
       "43       駒沢オリンピック公園総合運動場陸上競技場            東京都世田谷区駒沢公園1-1  20010           0.0   \n",
       "44               とりぎんバードスタジアム               鳥取県鳥取市蔵田423  16033           0.0   \n",
       "45             富山県総合運動公園陸上競技場              富山県富山市南中田368  25250           0.0   \n",
       "46               ＮＤソフトスタジアム山形               山形県天童市山王1-1  21292           1.0   \n",
       "47                  山梨中銀スタジアム              山梨県甲府市小瀬町840  17000           0.0   \n",
       "48            熊谷スポーツ文化公園陸上競技場  埼玉県熊谷市上川上300 熊谷スポーツ文化公園内  15400           0.0   \n",
       "49          神戸総合運動公園ユニバー記念競技場               兵庫県神戸市須磨区緑台  45000           1.0   \n",
       "50                    宮城スタジアム         宮城県宮城郡利府町菅谷字舘40-1  49133           0.0   \n",
       "51        岐阜メモリアルセンター長良川球技メドウ        岐阜県岐阜市長良福光青襖2070-7   3560           0.0   \n",
       "52                味の素フィールド西が丘            東京都北区西が丘3-15-1   7258           1.0   \n",
       "53               福島県営あづま陸上競技場             福島県福島市佐原字神事場1  21000           0.0   \n",
       "54                 岡山県津山陸上競技場              岡山県津山市志戸部245  10000           0.0   \n",
       "55            長崎県立総合運動公園陸上競技場             長崎県諫早市宇都町27-1  20246           0.0   \n",
       "56        長崎市総合運動公園かきどまり陸上競技場             長崎県長崎市柿泊町2210  16000           0.0   \n",
       "57        大垣市浅中公園総合グラウンド陸上競技場            岐阜県大垣市浅中2-11-1   4300           1.0   \n",
       "58                  香川県立丸亀競技場              香川県丸亀市金倉町830  22338           0.0   \n",
       "\n",
       "          lat         lng  population    age  child     area  \n",
       "0   35.122624  136.943474      7443.0  43.21   0.19   5116.0  \n",
       "1   35.084572  137.170016      7443.0  43.21   0.19   5116.0  \n",
       "2   35.576811  140.122907      6192.0  44.86   0.17   5082.0  \n",
       "3   35.848792  139.975670      6192.0  44.86   0.17   5082.0  \n",
       "4   33.768535  132.794947      1405.0  47.32   0.17   5679.0  \n",
       "5   33.586139  130.460089      5090.0  44.57   0.18   4847.0  \n",
       "6   33.890298  130.730906      5090.0  44.57   0.18   4847.0  \n",
       "7   35.442912  136.763069      2051.0  45.56   0.19   9768.0  \n",
       "8   36.412730  139.052220      1984.0  45.62   0.18   6362.0  \n",
       "9   34.441077  132.394145      2840.0  45.46   0.18   8480.0  \n",
       "10  43.009599  141.419562      5431.0  46.92   0.16  83457.0  \n",
       "11  43.018697  141.463230      5431.0  46.92   0.16  83457.0  \n",
       "12  34.656726  135.168171      5558.0  45.13   0.18   8396.0  \n",
       "13  35.991979  140.640430      2931.0  45.31   0.18   6096.0  \n",
       "14  36.345446  140.411495      2931.0  45.31   0.18   6096.0  \n",
       "15  31.564713  130.559516      1680.0  46.84   0.19   9045.0  \n",
       "16  35.590090  139.647336      9079.0  43.80   0.18   2416.0  \n",
       "17  35.510047  139.606337      9079.0  43.80   0.18   2416.0  \n",
       "18  35.469797  139.606633      9079.0  43.80   0.18   2416.0  \n",
       "19  35.341510  139.338599      9079.0  43.80   0.18   2416.0  \n",
       "20  32.837386  130.799460      1801.0  46.31   0.19   7268.0  \n",
       "21  32.794460  130.740615      1801.0  46.31   0.19   7268.0  \n",
       "22  34.993338  135.715575      2617.0  45.19   0.17   4613.0  \n",
       "23  38.319158  140.881857      2328.0  44.82   0.18   6862.0  \n",
       "24  36.179582  137.916485      2122.0  46.70   0.18  13105.0  \n",
       "25  37.882408  139.059359      2330.0  47.23   0.17  10364.0  \n",
       "26  33.200758  131.656472      1178.0  47.08   0.18   5100.0  \n",
       "27  34.677449  133.919372      1930.0  45.80   0.18   7010.0  \n",
       "28  34.810249  135.541854      8849.0  44.63   0.18   1901.0  \n",
       "29  34.613948  135.518420      8849.0  44.63   0.18   1901.0  \n",
       "30  34.613948  135.518420      8849.0  44.63   0.18   1901.0  \n",
       "31  33.371990  130.519790       840.0  45.63   0.20   2440.0  \n",
       "32  33.274667  130.291870       840.0  45.63   0.20   2440.0  \n",
       "33  35.902000  139.714677      7222.0  44.09   0.18   3768.0  \n",
       "34  35.918913  139.631820      7222.0  44.09   0.18   3768.0  \n",
       "35  34.985168  138.481305      3723.0  45.74   0.18   7255.0  \n",
       "36  34.743676  137.970664      3723.0  45.74   0.18   7255.0  \n",
       "37  34.723215  137.881334      3723.0  45.74   0.18   7255.0  \n",
       "38  36.556649  139.986010      1986.0  45.23   0.18   6408.0  \n",
       "39  34.167912  134.615254       770.0  47.57   0.17   4147.0  \n",
       "40  35.664173  139.525368     13300.0  43.91   0.15   2104.0  \n",
       "41  35.591394  139.445805     13300.0  43.91   0.15   2104.0  \n",
       "42  35.678586  139.714753     13300.0  43.91   0.15   2104.0  \n",
       "43  35.623107  139.662894     13300.0  43.91   0.15   2104.0  \n",
       "44  35.458272  134.221166       578.0  47.07   0.18   3507.0  \n",
       "45  36.624048  137.197171      1076.0  47.09   0.17   2046.0  \n",
       "46  38.336176  140.375596      1141.0  47.74   0.17   6652.0  \n",
       "47  35.624201  138.584328       847.0  46.21   0.18   4201.0  \n",
       "48  36.165794  139.406637      7222.0  44.09   0.18   3768.0  \n",
       "49  34.680120  135.078168      5558.0  45.13   0.18   8396.0  \n",
       "50  38.337593  140.953136      2328.0  44.82   0.18   6862.0  \n",
       "51  35.445161  136.765192      2051.0  45.56   0.19   9768.0  \n",
       "52  35.767296  139.708079     13300.0  43.91   0.15   2104.0  \n",
       "53  37.722239  140.363648      1946.0  46.80   0.18  13783.0  \n",
       "54  35.082384  134.017423      1930.0  45.80   0.18   7010.0  \n",
       "55  32.838691  130.038555      1397.0  47.03   0.18   4106.0  \n",
       "56  32.775320  129.818397      1397.0  47.03   0.18   4106.0  \n",
       "57  35.316027  136.604808      2051.0  45.56   0.19   9768.0  \n",
       "58  34.261684  133.786361       985.0  46.78   0.18   1862.0  "
      ],
      "text/html": "<div>\n<style scoped>\n    .dataframe tbody tr th:only-of-type {\n        vertical-align: middle;\n    }\n\n    .dataframe tbody tr th {\n        vertical-align: top;\n    }\n\n    .dataframe thead th {\n        text-align: right;\n    }\n</style>\n<table border=\"1\" class=\"dataframe\">\n  <thead>\n    <tr style=\"text-align: right;\">\n      <th></th>\n      <th>name</th>\n      <th>address</th>\n      <th>capa</th>\n      <th>near_station</th>\n      <th>lat</th>\n      <th>lng</th>\n      <th>population</th>\n      <th>age</th>\n      <th>child</th>\n      <th>area</th>\n    </tr>\n  </thead>\n  <tbody>\n    <tr>\n      <th>0</th>\n      <td>名古屋市瑞穂陸上競技場</td>\n      <td>愛知県名古屋市瑞穂区山下通5-1</td>\n      <td>20000</td>\n      <td>1.0</td>\n      <td>35.122624</td>\n      <td>136.943474</td>\n      <td>7443.0</td>\n      <td>43.21</td>\n      <td>0.19</td>\n      <td>5116.0</td>\n    </tr>\n    <tr>\n      <th>1</th>\n      <td>豊田スタジアム</td>\n      <td>愛知県豊田市千石町7-2</td>\n      <td>40000</td>\n      <td>0.0</td>\n      <td>35.084572</td>\n      <td>137.170016</td>\n      <td>7443.0</td>\n      <td>43.21</td>\n      <td>0.19</td>\n      <td>5116.0</td>\n    </tr>\n    <tr>\n      <th>2</th>\n      <td>フクダ電子アリーナ</td>\n      <td>千葉県千葉市中央区川崎町1-20</td>\n      <td>18500</td>\n      <td>1.0</td>\n      <td>35.576811</td>\n      <td>140.122907</td>\n      <td>6192.0</td>\n      <td>44.86</td>\n      <td>0.17</td>\n      <td>5082.0</td>\n    </tr>\n    <tr>\n      <th>3</th>\n      <td>日立柏サッカー場</td>\n      <td>千葉県柏市日立台1-2-50</td>\n      <td>15349</td>\n      <td>0.0</td>\n      <td>35.848792</td>\n      <td>139.975670</td>\n      <td>6192.0</td>\n      <td>44.86</td>\n      <td>0.17</td>\n      <td>5082.0</td>\n    </tr>\n    <tr>\n      <th>4</th>\n      <td>ニンジニアスタジアム</td>\n      <td>愛媛県松山市上野町乙46</td>\n      <td>15576</td>\n      <td>0.0</td>\n      <td>33.768535</td>\n      <td>132.794947</td>\n      <td>1405.0</td>\n      <td>47.32</td>\n      <td>0.17</td>\n      <td>5679.0</td>\n    </tr>\n    <tr>\n      <th>5</th>\n      <td>レベルファイブスタジアム</td>\n      <td>福岡県福岡市博多区東平尾公園2-1-1</td>\n      <td>22563</td>\n      <td>0.0</td>\n      <td>33.586139</td>\n      <td>130.460089</td>\n      <td>5090.0</td>\n      <td>44.57</td>\n      <td>0.18</td>\n      <td>4847.0</td>\n    </tr>\n    <tr>\n      <th>6</th>\n      <td>北九州市立本城陸上競技場</td>\n      <td>福岡県北九州市八幡西区御開4-16-1</td>\n      <td>10202</td>\n      <td>0.0</td>\n      <td>33.890298</td>\n      <td>130.730906</td>\n      <td>5090.0</td>\n      <td>44.57</td>\n      <td>0.18</td>\n      <td>4847.0</td>\n    </tr>\n    <tr>\n      <th>7</th>\n      <td>岐阜メモリアルセンター長良川競技場</td>\n      <td>岐阜県岐阜市長良福光大野2675-28</td>\n      <td>20000</td>\n      <td>0.0</td>\n      <td>35.442912</td>\n      <td>136.763069</td>\n      <td>2051.0</td>\n      <td>45.56</td>\n      <td>0.19</td>\n      <td>9768.0</td>\n    </tr>\n    <tr>\n      <th>8</th>\n      <td>正田醤油スタジアム群馬</td>\n      <td>群馬県前橋市敷島町66</td>\n      <td>15135</td>\n      <td>0.0</td>\n      <td>36.412730</td>\n      <td>139.052220</td>\n      <td>1984.0</td>\n      <td>45.62</td>\n      <td>0.18</td>\n      <td>6362.0</td>\n    </tr>\n    <tr>\n      <th>9</th>\n      <td>エディオンスタジアム広島</td>\n      <td>広島県広島市安佐南区大塚西5-1-1</td>\n      <td>50000</td>\n      <td>1.0</td>\n      <td>34.441077</td>\n      <td>132.394145</td>\n      <td>2840.0</td>\n      <td>45.46</td>\n      <td>0.18</td>\n      <td>8480.0</td>\n    </tr>\n    <tr>\n      <th>10</th>\n      <td>札幌ドーム</td>\n      <td>北海道札幌市豊平区羊ヶ丘1</td>\n      <td>39232</td>\n      <td>0.0</td>\n      <td>43.009599</td>\n      <td>141.419562</td>\n      <td>5431.0</td>\n      <td>46.92</td>\n      <td>0.16</td>\n      <td>83457.0</td>\n    </tr>\n    <tr>\n      <th>11</th>\n      <td>札幌厚別公園競技場</td>\n      <td>北海道札幌市厚別区上野幌3条1-2-1</td>\n      <td>19620</td>\n      <td>1.0</td>\n      <td>43.018697</td>\n      <td>141.463230</td>\n      <td>5431.0</td>\n      <td>46.92</td>\n      <td>0.16</td>\n      <td>83457.0</td>\n    </tr>\n    <tr>\n      <th>12</th>\n      <td>ノエビアスタジアム神戸</td>\n      <td>兵庫県神戸市兵庫区御崎町1-2-2</td>\n      <td>30132</td>\n      <td>1.0</td>\n      <td>34.656726</td>\n      <td>135.168171</td>\n      <td>5558.0</td>\n      <td>45.13</td>\n      <td>0.18</td>\n      <td>8396.0</td>\n    </tr>\n    <tr>\n      <th>13</th>\n      <td>県立カシマサッカースタジアム</td>\n      <td>茨城県鹿嶋市神向寺後山26-2</td>\n      <td>40728</td>\n      <td>0.0</td>\n      <td>35.991979</td>\n      <td>140.640430</td>\n      <td>2931.0</td>\n      <td>45.31</td>\n      <td>0.18</td>\n      <td>6096.0</td>\n    </tr>\n    <tr>\n      <th>14</th>\n      <td>ケーズデンキスタジアム水戸</td>\n      <td>茨城県水戸市小吹町2058-1</td>\n      <td>12000</td>\n      <td>0.0</td>\n      <td>36.345446</td>\n      <td>140.411495</td>\n      <td>2931.0</td>\n      <td>45.31</td>\n      <td>0.18</td>\n      <td>6096.0</td>\n    </tr>\n    <tr>\n      <th>15</th>\n      <td>鹿児島県立鴨池陸上競技場</td>\n      <td>鹿児島県鹿児島市与次郎2-2-2</td>\n      <td>19934</td>\n      <td>1.0</td>\n      <td>31.564713</td>\n      <td>130.559516</td>\n      <td>1680.0</td>\n      <td>46.84</td>\n      <td>0.19</td>\n      <td>9045.0</td>\n    </tr>\n    <tr>\n      <th>16</th>\n      <td>等々力陸上競技場</td>\n      <td>神奈川県川崎市中原区等々力1-1</td>\n      <td>26530</td>\n      <td>1.0</td>\n      <td>35.590090</td>\n      <td>139.647336</td>\n      <td>9079.0</td>\n      <td>43.80</td>\n      <td>0.18</td>\n      <td>2416.0</td>\n    </tr>\n    <tr>\n      <th>17</th>\n      <td>日産スタジアム</td>\n      <td>神奈川県横浜市港北区小机町3300</td>\n      <td>72327</td>\n      <td>1.0</td>\n      <td>35.510047</td>\n      <td>139.606337</td>\n      <td>9079.0</td>\n      <td>43.80</td>\n      <td>0.18</td>\n      <td>2416.0</td>\n    </tr>\n    <tr>\n      <th>18</th>\n      <td>ニッパツ三ツ沢球技場</td>\n      <td>神奈川県横浜市神奈川区三ツ沢西町3-1</td>\n      <td>15454</td>\n      <td>1.0</td>\n      <td>35.469797</td>\n      <td>139.606633</td>\n      <td>9079.0</td>\n      <td>43.80</td>\n      <td>0.18</td>\n      <td>2416.0</td>\n    </tr>\n    <tr>\n      <th>19</th>\n      <td>Ｓｈｏｎａｎ　ＢＭＷスタジアム平塚</td>\n      <td>神奈川県平塚市大原1-1</td>\n      <td>15100</td>\n      <td>0.0</td>\n      <td>35.341510</td>\n      <td>139.338599</td>\n      <td>9079.0</td>\n      <td>43.80</td>\n      <td>0.18</td>\n      <td>2416.0</td>\n    </tr>\n    <tr>\n      <th>20</th>\n      <td>うまかな・よかなスタジアム</td>\n      <td>熊本県熊本市東区平山町2776</td>\n      <td>32000</td>\n      <td>0.0</td>\n      <td>32.837386</td>\n      <td>130.799460</td>\n      <td>1801.0</td>\n      <td>46.31</td>\n      <td>0.19</td>\n      <td>7268.0</td>\n    </tr>\n    <tr>\n      <th>21</th>\n      <td>熊本市水前寺競技場</td>\n      <td>熊本県熊本市中央区水前寺5-23-3</td>\n      <td>15000</td>\n      <td>1.0</td>\n      <td>32.794460</td>\n      <td>130.740615</td>\n      <td>1801.0</td>\n      <td>46.31</td>\n      <td>0.19</td>\n      <td>7268.0</td>\n    </tr>\n    <tr>\n      <th>22</th>\n      <td>京都市西京極総合運動公園陸上競技場兼球技場</td>\n      <td>京都府京都市右京区西京極新明町29</td>\n      <td>20588</td>\n      <td>1.0</td>\n      <td>34.993338</td>\n      <td>135.715575</td>\n      <td>2617.0</td>\n      <td>45.19</td>\n      <td>0.17</td>\n      <td>4613.0</td>\n    </tr>\n    <tr>\n      <th>23</th>\n      <td>ユアテックスタジアム仙台</td>\n      <td>宮城県仙台市泉区七北田字柳78</td>\n      <td>19694</td>\n      <td>1.0</td>\n      <td>38.319158</td>\n      <td>140.881857</td>\n      <td>2328.0</td>\n      <td>44.82</td>\n      <td>0.18</td>\n      <td>6862.0</td>\n    </tr>\n    <tr>\n      <th>24</th>\n      <td>松本平広域公園総合球技場</td>\n      <td>長野県松本市神林5300</td>\n      <td>20396</td>\n      <td>0.0</td>\n      <td>36.179582</td>\n      <td>137.916485</td>\n      <td>2122.0</td>\n      <td>46.70</td>\n      <td>0.18</td>\n      <td>13105.0</td>\n    </tr>\n    <tr>\n      <th>25</th>\n      <td>デンカビッグスワンスタジアム</td>\n      <td>新潟県新潟市中央区清五郎67-12</td>\n      <td>42300</td>\n      <td>0.0</td>\n      <td>37.882408</td>\n      <td>139.059359</td>\n      <td>2330.0</td>\n      <td>47.23</td>\n      <td>0.17</td>\n      <td>10364.0</td>\n    </tr>\n    <tr>\n      <th>26</th>\n      <td>大分銀行ドーム</td>\n      <td>大分県大分市大字横尾1351</td>\n      <td>40000</td>\n      <td>0.0</td>\n      <td>33.200758</td>\n      <td>131.656472</td>\n      <td>1178.0</td>\n      <td>47.08</td>\n      <td>0.18</td>\n      <td>5100.0</td>\n    </tr>\n    <tr>\n      <th>27</th>\n      <td>シティライトスタジアム</td>\n      <td>岡山県岡山市北区いずみ町2-1</td>\n      <td>20000</td>\n      <td>1.0</td>\n      <td>34.677449</td>\n      <td>133.919372</td>\n      <td>1930.0</td>\n      <td>45.80</td>\n      <td>0.18</td>\n      <td>7010.0</td>\n    </tr>\n    <tr>\n      <th>28</th>\n      <td>万博記念競技場</td>\n      <td>大阪府吹田市千里万博公園5-2</td>\n      <td>21000</td>\n      <td>0.0</td>\n      <td>34.810249</td>\n      <td>135.541854</td>\n      <td>8849.0</td>\n      <td>44.63</td>\n      <td>0.18</td>\n      <td>1901.0</td>\n    </tr>\n    <tr>\n      <th>29</th>\n      <td>キンチョウスタジアム</td>\n      <td>大阪府大阪市東住吉区長居公園1-1</td>\n      <td>19628</td>\n      <td>1.0</td>\n      <td>34.613948</td>\n      <td>135.518420</td>\n      <td>8849.0</td>\n      <td>44.63</td>\n      <td>0.18</td>\n      <td>1901.0</td>\n    </tr>\n    <tr>\n      <th>30</th>\n      <td>ヤンマースタジアム長居</td>\n      <td>大阪府大阪市東住吉区長居公園1-1</td>\n      <td>47816</td>\n      <td>1.0</td>\n      <td>34.613948</td>\n      <td>135.518420</td>\n      <td>8849.0</td>\n      <td>44.63</td>\n      <td>0.18</td>\n      <td>1901.0</td>\n    </tr>\n    <tr>\n      <th>31</th>\n      <td>ベストアメニティスタジアム</td>\n      <td>佐賀県鳥栖市京町812</td>\n      <td>24490</td>\n      <td>1.0</td>\n      <td>33.371990</td>\n      <td>130.519790</td>\n      <td>840.0</td>\n      <td>45.63</td>\n      <td>0.20</td>\n      <td>2440.0</td>\n    </tr>\n    <tr>\n      <th>32</th>\n      <td>佐賀県総合運動場陸上競技場</td>\n      <td>佐賀県佐賀市日の出2-1-10</td>\n      <td>17000</td>\n      <td>0.0</td>\n      <td>33.274667</td>\n      <td>130.291870</td>\n      <td>840.0</td>\n      <td>45.63</td>\n      <td>0.20</td>\n      <td>2440.0</td>\n    </tr>\n    <tr>\n      <th>33</th>\n      <td>埼玉スタジアム２００２</td>\n      <td>埼玉県さいたま市緑区中野田500</td>\n      <td>63700</td>\n      <td>0.0</td>\n      <td>35.902000</td>\n      <td>139.714677</td>\n      <td>7222.0</td>\n      <td>44.09</td>\n      <td>0.18</td>\n      <td>3768.0</td>\n    </tr>\n    <tr>\n      <th>34</th>\n      <td>ＮＡＣＫ５スタジアム大宮</td>\n      <td>埼玉県さいたま市大宮区高鼻町4</td>\n      <td>15600</td>\n      <td>1.0</td>\n      <td>35.918913</td>\n      <td>139.631820</td>\n      <td>7222.0</td>\n      <td>44.09</td>\n      <td>0.18</td>\n      <td>3768.0</td>\n    </tr>\n    <tr>\n      <th>35</th>\n      <td>ＩＡＩスタジアム日本平</td>\n      <td>静岡県静岡市清水区村松3880-1</td>\n      <td>20281</td>\n      <td>0.0</td>\n      <td>34.985168</td>\n      <td>138.481305</td>\n      <td>3723.0</td>\n      <td>45.74</td>\n      <td>0.18</td>\n      <td>7255.0</td>\n    </tr>\n    <tr>\n      <th>36</th>\n      <td>エコパスタジアム</td>\n      <td>静岡県袋井市愛野2300-1</td>\n      <td>50889</td>\n      <td>1.0</td>\n      <td>34.743676</td>\n      <td>137.970664</td>\n      <td>3723.0</td>\n      <td>45.74</td>\n      <td>0.18</td>\n      <td>7255.0</td>\n    </tr>\n    <tr>\n      <th>37</th>\n      <td>ヤマハスタジアム（磐田）</td>\n      <td>静岡県磐田市新貝2500</td>\n      <td>15165</td>\n      <td>1.0</td>\n      <td>34.723215</td>\n      <td>137.881334</td>\n      <td>3723.0</td>\n      <td>45.74</td>\n      <td>0.18</td>\n      <td>7255.0</td>\n    </tr>\n    <tr>\n      <th>38</th>\n      <td>栃木県グリーンスタジアム</td>\n      <td>栃木県宇都宮市清原工業団地32</td>\n      <td>15589</td>\n      <td>0.0</td>\n      <td>36.556649</td>\n      <td>139.986010</td>\n      <td>1986.0</td>\n      <td>45.23</td>\n      <td>0.18</td>\n      <td>6408.0</td>\n    </tr>\n    <tr>\n      <th>39</th>\n      <td>鳴門・大塚スポーツパーク　ポカリスエットスタジアム</td>\n      <td>徳島県鳴門市撫養町立岩字四枚61</td>\n      <td>19637</td>\n      <td>0.0</td>\n      <td>34.167912</td>\n      <td>134.615254</td>\n      <td>770.0</td>\n      <td>47.57</td>\n      <td>0.17</td>\n      <td>4147.0</td>\n    </tr>\n    <tr>\n      <th>40</th>\n      <td>味の素スタジアム</td>\n      <td>東京都調布市西町376-3</td>\n      <td>49970</td>\n      <td>1.0</td>\n      <td>35.664173</td>\n      <td>139.525368</td>\n      <td>13300.0</td>\n      <td>43.91</td>\n      <td>0.15</td>\n      <td>2104.0</td>\n    </tr>\n    <tr>\n      <th>41</th>\n      <td>町田市立陸上競技場</td>\n      <td>東京都町田市野津田町2035</td>\n      <td>10328</td>\n      <td>0.0</td>\n      <td>35.591394</td>\n      <td>139.445805</td>\n      <td>13300.0</td>\n      <td>43.91</td>\n      <td>0.15</td>\n      <td>2104.0</td>\n    </tr>\n    <tr>\n      <th>42</th>\n      <td>国立競技場</td>\n      <td>東京都新宿区霞ヶ丘町10</td>\n      <td>54224</td>\n      <td>1.0</td>\n      <td>35.678586</td>\n      <td>139.714753</td>\n      <td>13300.0</td>\n      <td>43.91</td>\n      <td>0.15</td>\n      <td>2104.0</td>\n    </tr>\n    <tr>\n      <th>43</th>\n      <td>駒沢オリンピック公園総合運動場陸上競技場</td>\n      <td>東京都世田谷区駒沢公園1-1</td>\n      <td>20010</td>\n      <td>0.0</td>\n      <td>35.623107</td>\n      <td>139.662894</td>\n      <td>13300.0</td>\n      <td>43.91</td>\n      <td>0.15</td>\n      <td>2104.0</td>\n    </tr>\n    <tr>\n      <th>44</th>\n      <td>とりぎんバードスタジアム</td>\n      <td>鳥取県鳥取市蔵田423</td>\n      <td>16033</td>\n      <td>0.0</td>\n      <td>35.458272</td>\n      <td>134.221166</td>\n      <td>578.0</td>\n      <td>47.07</td>\n      <td>0.18</td>\n      <td>3507.0</td>\n    </tr>\n    <tr>\n      <th>45</th>\n      <td>富山県総合運動公園陸上競技場</td>\n      <td>富山県富山市南中田368</td>\n      <td>25250</td>\n      <td>0.0</td>\n      <td>36.624048</td>\n      <td>137.197171</td>\n      <td>1076.0</td>\n      <td>47.09</td>\n      <td>0.17</td>\n      <td>2046.0</td>\n    </tr>\n    <tr>\n      <th>46</th>\n      <td>ＮＤソフトスタジアム山形</td>\n      <td>山形県天童市山王1-1</td>\n      <td>21292</td>\n      <td>1.0</td>\n      <td>38.336176</td>\n      <td>140.375596</td>\n      <td>1141.0</td>\n      <td>47.74</td>\n      <td>0.17</td>\n      <td>6652.0</td>\n    </tr>\n    <tr>\n      <th>47</th>\n      <td>山梨中銀スタジアム</td>\n      <td>山梨県甲府市小瀬町840</td>\n      <td>17000</td>\n      <td>0.0</td>\n      <td>35.624201</td>\n      <td>138.584328</td>\n      <td>847.0</td>\n      <td>46.21</td>\n      <td>0.18</td>\n      <td>4201.0</td>\n    </tr>\n    <tr>\n      <th>48</th>\n      <td>熊谷スポーツ文化公園陸上競技場</td>\n      <td>埼玉県熊谷市上川上300 熊谷スポーツ文化公園内</td>\n      <td>15400</td>\n      <td>0.0</td>\n      <td>36.165794</td>\n      <td>139.406637</td>\n      <td>7222.0</td>\n      <td>44.09</td>\n      <td>0.18</td>\n      <td>3768.0</td>\n    </tr>\n    <tr>\n      <th>49</th>\n      <td>神戸総合運動公園ユニバー記念競技場</td>\n      <td>兵庫県神戸市須磨区緑台</td>\n      <td>45000</td>\n      <td>1.0</td>\n      <td>34.680120</td>\n      <td>135.078168</td>\n      <td>5558.0</td>\n      <td>45.13</td>\n      <td>0.18</td>\n      <td>8396.0</td>\n    </tr>\n    <tr>\n      <th>50</th>\n      <td>宮城スタジアム</td>\n      <td>宮城県宮城郡利府町菅谷字舘40-1</td>\n      <td>49133</td>\n      <td>0.0</td>\n      <td>38.337593</td>\n      <td>140.953136</td>\n      <td>2328.0</td>\n      <td>44.82</td>\n      <td>0.18</td>\n      <td>6862.0</td>\n    </tr>\n    <tr>\n      <th>51</th>\n      <td>岐阜メモリアルセンター長良川球技メドウ</td>\n      <td>岐阜県岐阜市長良福光青襖2070-7</td>\n      <td>3560</td>\n      <td>0.0</td>\n      <td>35.445161</td>\n      <td>136.765192</td>\n      <td>2051.0</td>\n      <td>45.56</td>\n      <td>0.19</td>\n      <td>9768.0</td>\n    </tr>\n    <tr>\n      <th>52</th>\n      <td>味の素フィールド西が丘</td>\n      <td>東京都北区西が丘3-15-1</td>\n      <td>7258</td>\n      <td>1.0</td>\n      <td>35.767296</td>\n      <td>139.708079</td>\n      <td>13300.0</td>\n      <td>43.91</td>\n      <td>0.15</td>\n      <td>2104.0</td>\n    </tr>\n    <tr>\n      <th>53</th>\n      <td>福島県営あづま陸上競技場</td>\n      <td>福島県福島市佐原字神事場1</td>\n      <td>21000</td>\n      <td>0.0</td>\n      <td>37.722239</td>\n      <td>140.363648</td>\n      <td>1946.0</td>\n      <td>46.80</td>\n      <td>0.18</td>\n      <td>13783.0</td>\n    </tr>\n    <tr>\n      <th>54</th>\n      <td>岡山県津山陸上競技場</td>\n      <td>岡山県津山市志戸部245</td>\n      <td>10000</td>\n      <td>0.0</td>\n      <td>35.082384</td>\n      <td>134.017423</td>\n      <td>1930.0</td>\n      <td>45.80</td>\n      <td>0.18</td>\n      <td>7010.0</td>\n    </tr>\n    <tr>\n      <th>55</th>\n      <td>長崎県立総合運動公園陸上競技場</td>\n      <td>長崎県諫早市宇都町27-1</td>\n      <td>20246</td>\n      <td>0.0</td>\n      <td>32.838691</td>\n      <td>130.038555</td>\n      <td>1397.0</td>\n      <td>47.03</td>\n      <td>0.18</td>\n      <td>4106.0</td>\n    </tr>\n    <tr>\n      <th>56</th>\n      <td>長崎市総合運動公園かきどまり陸上競技場</td>\n      <td>長崎県長崎市柿泊町2210</td>\n      <td>16000</td>\n      <td>0.0</td>\n      <td>32.775320</td>\n      <td>129.818397</td>\n      <td>1397.0</td>\n      <td>47.03</td>\n      <td>0.18</td>\n      <td>4106.0</td>\n    </tr>\n    <tr>\n      <th>57</th>\n      <td>大垣市浅中公園総合グラウンド陸上競技場</td>\n      <td>岐阜県大垣市浅中2-11-1</td>\n      <td>4300</td>\n      <td>1.0</td>\n      <td>35.316027</td>\n      <td>136.604808</td>\n      <td>2051.0</td>\n      <td>45.56</td>\n      <td>0.19</td>\n      <td>9768.0</td>\n    </tr>\n    <tr>\n      <th>58</th>\n      <td>香川県立丸亀競技場</td>\n      <td>香川県丸亀市金倉町830</td>\n      <td>22338</td>\n      <td>0.0</td>\n      <td>34.261684</td>\n      <td>133.786361</td>\n      <td>985.0</td>\n      <td>46.78</td>\n      <td>0.18</td>\n      <td>1862.0</td>\n    </tr>\n  </tbody>\n</table>\n</div>"
     },
     "metadata": {},
     "execution_count": 43
    }
   ],
   "source": [
    "stadium2"
   ]
  },
  {
   "cell_type": "code",
   "execution_count": 44,
   "metadata": {},
   "outputs": [],
   "source": [
    "stadium['station'] = stadium2['near_station']\n",
    "stadium['age'] = stadium2['age']\n",
    "stadium['child'] = stadium2['child']\n",
    "stadium['population'] = stadium2['population']\n",
    "stadium['area'] = stadium2['area']"
   ]
  },
  {
   "cell_type": "code",
   "execution_count": 45,
   "metadata": {},
   "outputs": [],
   "source": [
    "stadium.to_csv('../data/stadium_new.csv',index=False)"
   ]
  },
  {
   "cell_type": "code",
   "execution_count": 46,
   "metadata": {},
   "outputs": [],
   "source": [
    "import pandas as pd"
   ]
  },
  {
   "cell_type": "code",
   "execution_count": 62,
   "metadata": {},
   "outputs": [],
   "source": [
    "team_cum = pd.read_csv('../data/team_cum.csv',encoding='utf-8-sig')"
   ]
  },
  {
   "cell_type": "code",
   "execution_count": 63,
   "metadata": {},
   "outputs": [
    {
     "output_type": "execute_result",
     "data": {
      "text/plain": [
       "42"
      ]
     },
     "metadata": {},
     "execution_count": 63
    }
   ],
   "source": [
    "train['home'].unique().size"
   ]
  },
  {
   "cell_type": "code",
   "execution_count": 64,
   "metadata": {},
   "outputs": [
    {
     "output_type": "execute_result",
     "data": {
      "text/plain": [
       "array([nan])"
      ]
     },
     "metadata": {},
     "execution_count": 64
    }
   ],
   "source": [
    "team_cum['team'].unique()"
   ]
  },
  {
   "cell_type": "code",
   "execution_count": 50,
   "metadata": {},
   "outputs": [],
   "source": [
    "# import mojimoji\n",
    "# team_cum['team'] = team_cum['team'].apply(mojimoji.han_to_zen)"
   ]
  },
  {
   "cell_type": "code",
   "execution_count": 51,
   "metadata": {},
   "outputs": [],
   "source": [
    "# team_cum.to_csv('../data/team_cum.csv',index=False)"
   ]
  },
  {
   "cell_type": "code",
   "execution_count": 52,
   "metadata": {},
   "outputs": [
    {
     "output_type": "execute_result",
     "data": {
      "text/plain": [
       "1"
      ]
     },
     "metadata": {},
     "execution_count": 52
    }
   ],
   "source": [
    "team_cum['team'].unique().size"
   ]
  },
  {
   "cell_type": "code",
   "execution_count": 53,
   "metadata": {},
   "outputs": [
    {
     "output_type": "execute_result",
     "data": {
      "text/plain": [
       "43"
      ]
     },
     "metadata": {},
     "execution_count": 53
    }
   ],
   "source": [
    "train['home'].unique().size"
   ]
  },
  {
   "cell_type": "code",
   "execution_count": 54,
   "metadata": {},
   "outputs": [],
   "source": [
    "ch_list =  train[train['home'] == 'ザスパ草津']['home'].index\n",
    "\n",
    "for i in ch_list:\n",
    "    train.loc[i,'home'] = 'ザスパクサツ群馬'"
   ]
  },
  {
   "source": [
    "      'ベガルタ仙台', '名古屋グランパス', 'ガンバ大阪', 'サンフレッチェ広島', 'コンサドーレ札幌', 'サガン鳥栖',\n",
    "       '川崎フロンターレ', '大宮アルディージャ', '鹿島アントラーズ', '横浜Ｆ・マリノス', 'アルビレックス新潟',\n",
    "       'セレッソ大阪', '清水エスパルス', 'ジュビロ磐田', 'ヴィッセル神戸', 'ＦＣ東京', '浦和レッズ',\n",
    "       '水戸ホーリーホック', '東京ヴェルディ', 'ヴァンフォーレ甲府', 'ＦＣ岐阜', 'ファジアーノ岡山', 'アビスパ福岡',\n",
    "       '大分トリニータ', 'ジェフユナイテッド千葉', '愛媛ＦＣ', 'ギラヴァンツ北九州', '栃木ＳＣ', 'ＦＣ町田ゼルビア',\n",
    "       '松本山雅ＦＣ', '徳島ヴォルティス', 'ザスパクサツ群馬', '横浜ＦＣ', 'ロアッソ熊本', 'モンテディオ山形',\n",
    "       'ガイナーレ鳥取', '湘南ベルマーレ', 'カターレ富山', 'Ｖ・ファーレン長崎', 'カマタマーレ讃岐']"
   ],
   "cell_type": "markdown",
   "metadata": {}
  },
  {
   "cell_type": "code",
   "execution_count": 55,
   "metadata": {},
   "outputs": [],
   "source": [
    "team ={'清水' : '清水エスパルス'\n",
    "        ,'甲府' : 'ヴァンフォーレ甲府'\n",
    "        ,'名古屋' : '名古屋グランパス'\n",
    "        ,'大宮' : '大宮アルディージャ'\n",
    "        ,'川崎Ｆ' : '川崎フロンターレ'\n",
    "        ,'横浜FM' : '横浜Ｆ・マリノス'\n",
    "        ,'神戸' : 'ヴィッセル神戸'\n",
    "        ,'Ｃ大阪' : 'セレッソ大阪'\n",
    "        ,'広島' : 'サンフレッチェ広島'\n",
    "        ,'徳島' : '徳島ヴォルティス'\n",
    "        ,'仙台' : 'ベガルタ仙台'\n",
    "        ,'鹿島' : '鹿島アントラーズ'\n",
    "        ,'Ｇ大阪' : 'ガンバ大阪'\n",
    "        ,'浦和' : '浦和レッズ'\n",
    "        ,'柏' : '柏レイソル'\n",
    "        ,'新潟' : 'アルビレックス新潟'\n",
    "        ,'FC東京' : 'ＦＣ東京'\n",
    "        ,'鳥栖' : 'サガン鳥栖'\n",
    "        ,'大分' : '大分トリニータ'\n",
    "        ,'札幌' : 'コンサドーレ札幌'\n",
    "        ,'松本' : '松本山雅ＦＣ'\n",
    "        ,'栃木' : '栃木ＳＣ'\n",
    "        ,'横浜FC' : '横浜ＦＣ'\n",
    "        ,'讃岐' : 'カマタマーレ讃岐'\n",
    "        ,'京都' : '京都サンガF.C.'\n",
    "        ,'富山' : 'カターレ富山'\n",
    "        ,'山形' : 'モンテディオ山形'\n",
    "        ,'福岡' : 'アビスパ福岡'\n",
    "        ,'群馬' : 'ザスパクサツ群馬'\n",
    "        ,'湘南' : '湘南ベルマーレ'\n",
    "        ,'磐田' : 'ジュビロ磐田'\n",
    "        ,'水戸' : '水戸ホーリーホック'\n",
    "        ,'長崎' : 'Ｖ・ファーレン長崎'\n",
    "        ,'北九州' : 'ギラヴァンツ北九州'\n",
    "        ,'千葉' : 'ジェフユナイテッド千葉'\n",
    "        ,'岐阜' : 'ＦＣ岐阜'\n",
    "        ,'岡山' : 'ファジアーノ岡山'\n",
    "        ,'東京Ｖ' : '東京ヴェルディ'\n",
    "        ,'熊本' : 'ロアッソ熊本'\n",
    "        ,'愛媛' : '愛媛ＦＣ'\n",
    "        ,'鳥取' : 'ガイナーレ鳥取'\n",
    "        ,'町田' : 'ＦＣ町田ゼルビア'}"
   ]
  },
  {
   "cell_type": "code",
   "execution_count": 56,
   "metadata": {},
   "outputs": [
    {
     "output_type": "execute_result",
     "data": {
      "text/plain": [
       "42"
      ]
     },
     "metadata": {},
     "execution_count": 56
    }
   ],
   "source": [
    "len(team)"
   ]
  },
  {
   "cell_type": "code",
   "execution_count": 57,
   "metadata": {},
   "outputs": [],
   "source": [
    "team_cum['team'] = team_cum['team'].map(team)"
   ]
  },
  {
   "cell_type": "code",
   "execution_count": 58,
   "metadata": {},
   "outputs": [
    {
     "output_type": "execute_result",
     "data": {
      "text/plain": [
       "array([nan], dtype=object)"
      ]
     },
     "metadata": {},
     "execution_count": 58
    }
   ],
   "source": [
    "team_cum['team'].unique()"
   ]
  },
  {
   "cell_type": "code",
   "execution_count": 59,
   "metadata": {},
   "outputs": [],
   "source": [
    "team_cum.to_csv('../data/team_cum.csv',index=False)"
   ]
  },
  {
   "cell_type": "code",
   "execution_count": 60,
   "metadata": {},
   "outputs": [
    {
     "output_type": "execute_result",
     "data": {
      "text/plain": [
       "      year    match stage       home       away  home_score  away_score\n",
       "0     2012   第１節第１日    Ｊ１     ベガルタ仙台   鹿島アントラーズ           1           0\n",
       "1     2012   第１節第１日    Ｊ１   名古屋グランパス    清水エスパルス           1           0\n",
       "2     2012   第１節第１日    Ｊ１      ガンバ大阪    ヴィッセル神戸           2           3\n",
       "3     2012   第１節第１日    Ｊ１  サンフレッチェ広島      浦和レッズ           1           0\n",
       "4     2012   第１節第１日    Ｊ１   コンサドーレ札幌     ジュビロ磐田           0           0\n",
       "...    ...      ...   ...        ...        ...         ...         ...\n",
       "1947  2014  第２４節第１日    Ｊ２     ジュビロ磐田   カマタマーレ讃岐           4           2\n",
       "1948  2014  第２４節第１日    Ｊ２       ＦＣ岐阜   ファジアーノ岡山           2           2\n",
       "1949  2014  第２４節第１日    Ｊ２     アビスパ福岡    湘南ベルマーレ           0           0\n",
       "1950  2014  第２４節第１日    Ｊ２    大分トリニータ       栃木ＳＣ           2           1\n",
       "1951  2014  第２４節第１日    Ｊ２   ザスパクサツ群馬  ギラヴァンツ北九州           0           0\n",
       "\n",
       "[1952 rows x 7 columns]"
      ],
      "text/html": "<div>\n<style scoped>\n    .dataframe tbody tr th:only-of-type {\n        vertical-align: middle;\n    }\n\n    .dataframe tbody tr th {\n        vertical-align: top;\n    }\n\n    .dataframe thead th {\n        text-align: right;\n    }\n</style>\n<table border=\"1\" class=\"dataframe\">\n  <thead>\n    <tr style=\"text-align: right;\">\n      <th></th>\n      <th>year</th>\n      <th>match</th>\n      <th>stage</th>\n      <th>home</th>\n      <th>away</th>\n      <th>home_score</th>\n      <th>away_score</th>\n    </tr>\n  </thead>\n  <tbody>\n    <tr>\n      <th>0</th>\n      <td>2012</td>\n      <td>第１節第１日</td>\n      <td>Ｊ１</td>\n      <td>ベガルタ仙台</td>\n      <td>鹿島アントラーズ</td>\n      <td>1</td>\n      <td>0</td>\n    </tr>\n    <tr>\n      <th>1</th>\n      <td>2012</td>\n      <td>第１節第１日</td>\n      <td>Ｊ１</td>\n      <td>名古屋グランパス</td>\n      <td>清水エスパルス</td>\n      <td>1</td>\n      <td>0</td>\n    </tr>\n    <tr>\n      <th>2</th>\n      <td>2012</td>\n      <td>第１節第１日</td>\n      <td>Ｊ１</td>\n      <td>ガンバ大阪</td>\n      <td>ヴィッセル神戸</td>\n      <td>2</td>\n      <td>3</td>\n    </tr>\n    <tr>\n      <th>3</th>\n      <td>2012</td>\n      <td>第１節第１日</td>\n      <td>Ｊ１</td>\n      <td>サンフレッチェ広島</td>\n      <td>浦和レッズ</td>\n      <td>1</td>\n      <td>0</td>\n    </tr>\n    <tr>\n      <th>4</th>\n      <td>2012</td>\n      <td>第１節第１日</td>\n      <td>Ｊ１</td>\n      <td>コンサドーレ札幌</td>\n      <td>ジュビロ磐田</td>\n      <td>0</td>\n      <td>0</td>\n    </tr>\n    <tr>\n      <th>...</th>\n      <td>...</td>\n      <td>...</td>\n      <td>...</td>\n      <td>...</td>\n      <td>...</td>\n      <td>...</td>\n      <td>...</td>\n    </tr>\n    <tr>\n      <th>1947</th>\n      <td>2014</td>\n      <td>第２４節第１日</td>\n      <td>Ｊ２</td>\n      <td>ジュビロ磐田</td>\n      <td>カマタマーレ讃岐</td>\n      <td>4</td>\n      <td>2</td>\n    </tr>\n    <tr>\n      <th>1948</th>\n      <td>2014</td>\n      <td>第２４節第１日</td>\n      <td>Ｊ２</td>\n      <td>ＦＣ岐阜</td>\n      <td>ファジアーノ岡山</td>\n      <td>2</td>\n      <td>2</td>\n    </tr>\n    <tr>\n      <th>1949</th>\n      <td>2014</td>\n      <td>第２４節第１日</td>\n      <td>Ｊ２</td>\n      <td>アビスパ福岡</td>\n      <td>湘南ベルマーレ</td>\n      <td>0</td>\n      <td>0</td>\n    </tr>\n    <tr>\n      <th>1950</th>\n      <td>2014</td>\n      <td>第２４節第１日</td>\n      <td>Ｊ２</td>\n      <td>大分トリニータ</td>\n      <td>栃木ＳＣ</td>\n      <td>2</td>\n      <td>1</td>\n    </tr>\n    <tr>\n      <th>1951</th>\n      <td>2014</td>\n      <td>第２４節第１日</td>\n      <td>Ｊ２</td>\n      <td>ザスパクサツ群馬</td>\n      <td>ギラヴァンツ北九州</td>\n      <td>0</td>\n      <td>0</td>\n    </tr>\n  </tbody>\n</table>\n<p>1952 rows × 7 columns</p>\n</div>"
     },
     "metadata": {},
     "execution_count": 60
    }
   ],
   "source": [
    "rank = train[['year','match','stage','home','away','home_score','away_score']]\n",
    "rank"
   ]
  },
  {
   "cell_type": "code",
   "execution_count": 61,
   "metadata": {},
   "outputs": [],
   "source": [
    "# rank.to_csv('./rank.csv',index=False)"
   ]
  },
  {
   "cell_type": "code",
   "execution_count": null,
   "metadata": {},
   "outputs": [],
   "source": []
  }
 ]
}