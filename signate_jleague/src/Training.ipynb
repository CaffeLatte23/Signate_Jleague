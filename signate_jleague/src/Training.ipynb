{
 "metadata": {
  "language_info": {
   "codemirror_mode": {
    "name": "ipython",
    "version": 3
   },
   "file_extension": ".py",
   "mimetype": "text/x-python",
   "name": "python",
   "nbconvert_exporter": "python",
   "pygments_lexer": "ipython3",
   "version": "3.8.5"
  },
  "orig_nbformat": 2,
  "kernelspec": {
   "name": "python385jvsc74a57bd0b3ba2566441a7c06988d0923437866b63cedc61552a5af99d1f4fb67d367b25f",
   "display_name": "Python 3.8.5 64-bit ('base': conda)"
  }
 },
 "nbformat": 4,
 "nbformat_minor": 2,
 "cells": [
  {
   "cell_type": "code",
   "execution_count": 14,
   "metadata": {},
   "outputs": [],
   "source": [
    "import reg_analysis as ra\n",
    "import pandas as pd\n",
    "import xgb_param as xp\n",
    "import matplotlib.pyplot as plt\n",
    "import seaborn as sns\n",
    "from sklearn.model_selection import train_test_split"
   ]
  },
  {
   "source": [
    "## XGB Analysis"
   ],
   "cell_type": "markdown",
   "metadata": {}
  },
  {
   "cell_type": "code",
   "execution_count": 15,
   "metadata": {},
   "outputs": [],
   "source": [
    "train = pd.read_csv('../data/train_new.csv')\n",
    "test = pd.read_csv('../data/test_new.csv')"
   ]
  },
  {
   "cell_type": "code",
   "execution_count": 16,
   "metadata": {},
   "outputs": [],
   "source": [
    "# for i in range(len(train)):\n",
    "#     train.loc[i,'team']= [train.loc[i,'home'], train.loc[i,'away']].sort()\n",
    "\n",
    "# for i in range(len(test)):\n",
    "#     test.loc[i,'team']= [test.loc[i,'home'], test.loc[i,'away']].sort()"
   ]
  },
  {
   "cell_type": "code",
   "execution_count": 17,
   "metadata": {},
   "outputs": [],
   "source": [
    "train.drop(1567,axis=0,inplace=True)\n",
    "# train.drop([635,1059,1212,1497,1525,1919,1567],axis=0,inplace=True)"
   ]
  },
  {
   "cell_type": "code",
   "execution_count": null,
   "metadata": {},
   "outputs": [],
   "source": []
  },
  {
   "cell_type": "code",
   "execution_count": 18,
   "metadata": {},
   "outputs": [],
   "source": [
    "y = train['y']\n",
    "x = train.drop(['id','y'],axis=1)"
   ]
  },
  {
   "cell_type": "code",
   "execution_count": 19,
   "metadata": {},
   "outputs": [],
   "source": [
    "train.drop(['weather_屋内','weather_曇','weather_のち', 'weather_時々', 'weather_一時','weather_霧','weather_雪','weather_雷','ｽｶﾊﾟｰ','BS-TBS','address','referee', 'stadium','away_stadium','home_stadium','home_01', 'home_02','home_03', 'home_04', 'home_05', 'home_06', 'home_07', 'home_08','home_09', 'home_10', 'home_11', 'away_01', 'away_02', 'away_03', 'away_04', 'away_05', 'away_06', 'away_07', 'away_08', 'away_09','away_10', 'away_11','lat','lng','home_score','away_score','地方局','day','year'],axis=1 ,inplace=True)\n",
    "\n",
    "test.drop(['weather_屋内','weather_曇','weather_のち', 'weather_時々', 'weather_一時','weather_霧','weather_雪','weather_雷','ｽｶﾊﾟｰ','BS-TBS','address','referee','stadium','away_stadium','home_stadium', 'home_01', 'home_02',  'home_03', 'home_04', 'home_05', 'home_06', 'home_07', 'home_08', 'home_09', 'home_10', 'home_11', 'away_01', 'away_02', 'away_03', 'away_04', 'away_05', 'away_06', 'away_07', 'away_08', 'away_09','away_10', 'away_11','lat','lng','home_score','away_score','地方局','day','year'],axis=1 ,inplace=True)"
   ]
  },
  {
   "cell_type": "code",
   "execution_count": 20,
   "metadata": {},
   "outputs": [
    {
     "output_type": "execute_result",
     "data": {
      "text/plain": [
       "29.216456    79\n",
       "42.703167    60\n",
       "24.700000    55\n",
       "32.617222    54\n",
       "36.445370    54\n",
       "16.011852    54\n",
       "24.667407    54\n",
       "51.471481    54\n",
       "52.349630    54\n",
       "32.017778    54\n",
       "41.795660    53\n",
       "29.207500    52\n",
       "22.866275    51\n",
       "53.970000    50\n",
       "24.859600    50\n",
       "37.259800    50\n",
       "24.819400    50\n",
       "27.456600    50\n",
       "20.175000    48\n",
       "64.047391    46\n",
       "45.038409    44\n",
       "63.448182    44\n",
       "67.742045    44\n",
       "32.989070    43\n",
       "57.114884    42\n",
       "63.731667    42\n",
       "59.467381    42\n",
       "38.830476    42\n",
       "22.546429    42\n",
       "77.735854    41\n",
       "69.509250    40\n",
       "69.532250    40\n",
       "73.938974    39\n",
       "52.031795    39\n",
       "38.249412    34\n",
       "27.138437    32\n",
       "34.060333    30\n",
       "51.561600    25\n",
       "68.444167    24\n",
       "36.851429    21\n",
       "34.799000    20\n",
       "54.454737    19\n",
       "39.585000    18\n",
       "62.538333    18\n",
       "15.050000    11\n",
       "30.240000     6\n",
       "28.345000     6\n",
       "45.432000     5\n",
       "48.267500     4\n",
       "70.492500     4\n",
       "39.930000     4\n",
       "26.816667     3\n",
       "30.490000     3\n",
       "49.876667     3\n",
       "24.620000     1\n",
       "34.970000     1\n",
       "39.460000     1\n",
       "24.630000     1\n",
       "78.350000     1\n",
       "Name: absorp, dtype: int64"
      ]
     },
     "metadata": {},
     "execution_count": 20
    }
   ],
   "source": [
    "train['absorp'].value_counts()"
   ]
  },
  {
   "cell_type": "code",
   "execution_count": 21,
   "metadata": {},
   "outputs": [],
   "source": [
    "y = train['y']\n",
    "x = train.drop(['id','y'],axis=1)"
   ]
  },
  {
   "cell_type": "code",
   "execution_count": 22,
   "metadata": {},
   "outputs": [],
   "source": [
    "model = ra.xgb_analysis(x,y)"
   ]
  },
  {
   "cell_type": "code",
   "execution_count": 23,
   "metadata": {},
   "outputs": [
    {
     "output_type": "execute_result",
     "data": {
      "text/plain": [
       "2795.6513839678037"
      ]
     },
     "metadata": {},
     "execution_count": 23
    }
   ],
   "source": [
    "params =  {'learning_rate': 0.03, 'n_estimators': 500, 'max_depth': 5, 'min_child_weight': 1, 'gamma': 0.0,'subsample': 0.65, 'colsample_bytree': 0.25, 'objective': 'reg:squarederror', 'nthread': 4, 'scale_pos_weight': 1, 'seed': 17, 'reg_alpha': 140}\n",
    "model2 = ra.xgb_analysis(x,y,params)\n",
    "ra.Compare_data(model2,test)"
   ]
  },
  {
   "cell_type": "code",
   "execution_count": 24,
   "metadata": {},
   "outputs": [],
   "source": [
    "# ra.Export_csv(model2,test,'sub_adjust4')"
   ]
  },
  {
   "cell_type": "code",
   "execution_count": 25,
   "metadata": {},
   "outputs": [
    {
     "output_type": "error",
     "ename": "NameError",
     "evalue": "name 'a' is not defined",
     "traceback": [
      "\u001b[1;31m---------------------------------------------------------------------------\u001b[0m",
      "\u001b[1;31mNameError\u001b[0m                                 Traceback (most recent call last)",
      "\u001b[1;32m<ipython-input-25-6c7fac08bb16>\u001b[0m in \u001b[0;36m<module>\u001b[1;34m\u001b[0m\n\u001b[1;32m----> 1\u001b[1;33m \u001b[0ma\u001b[0m\u001b[1;33m\u001b[0m\u001b[1;33m\u001b[0m\u001b[0m\n\u001b[0m\u001b[0;32m      2\u001b[0m \u001b[0mrmse\u001b[0m \u001b[1;33m=\u001b[0m \u001b[1;33m[\u001b[0m\u001b[1;33m]\u001b[0m\u001b[1;33m\u001b[0m\u001b[1;33m\u001b[0m\u001b[0m\n\u001b[0;32m      3\u001b[0m \u001b[0mparams\u001b[0m \u001b[1;33m=\u001b[0m  \u001b[1;33m{\u001b[0m\u001b[1;34m'learning_rate'\u001b[0m\u001b[1;33m:\u001b[0m \u001b[1;36m0.03\u001b[0m\u001b[1;33m,\u001b[0m \u001b[1;34m'n_estimators'\u001b[0m\u001b[1;33m:\u001b[0m \u001b[1;36m500\u001b[0m\u001b[1;33m,\u001b[0m \u001b[1;34m'max_depth'\u001b[0m\u001b[1;33m:\u001b[0m \u001b[1;36m5\u001b[0m\u001b[1;33m,\u001b[0m \u001b[1;34m'min_child_weight'\u001b[0m\u001b[1;33m:\u001b[0m \u001b[1;36m1\u001b[0m\u001b[1;33m,\u001b[0m \u001b[1;34m'gamma'\u001b[0m\u001b[1;33m:\u001b[0m \u001b[1;36m0.0\u001b[0m\u001b[1;33m,\u001b[0m \u001b[1;34m'subsample'\u001b[0m\u001b[1;33m:\u001b[0m \u001b[1;36m0.65\u001b[0m\u001b[1;33m,\u001b[0m \u001b[1;34m'colsample_bytree'\u001b[0m\u001b[1;33m:\u001b[0m \u001b[1;36m0.25\u001b[0m\u001b[1;33m,\u001b[0m\u001b[1;34m'colsample_bylevel'\u001b[0m\u001b[1;33m:\u001b[0m \u001b[1;36m0.8\u001b[0m\u001b[1;33m,\u001b[0m \u001b[1;34m'objective'\u001b[0m\u001b[1;33m:\u001b[0m \u001b[1;34m'reg:squarederror'\u001b[0m\u001b[1;33m,\u001b[0m \u001b[1;34m'nthread'\u001b[0m\u001b[1;33m:\u001b[0m \u001b[1;36m4\u001b[0m\u001b[1;33m,\u001b[0m \u001b[1;34m'scale_pos_weight'\u001b[0m\u001b[1;33m:\u001b[0m \u001b[1;36m1\u001b[0m\u001b[1;33m,\u001b[0m \u001b[1;34m'seed'\u001b[0m\u001b[1;33m:\u001b[0m \u001b[1;36m17\u001b[0m\u001b[1;33m,\u001b[0m \u001b[1;34m'reg_alpha'\u001b[0m\u001b[1;33m:\u001b[0m \u001b[1;36m140\u001b[0m\u001b[1;33m}\u001b[0m\u001b[1;33m\u001b[0m\u001b[1;33m\u001b[0m\u001b[0m\n\u001b[0;32m      4\u001b[0m \u001b[1;32mfor\u001b[0m \u001b[0mi\u001b[0m \u001b[1;32min\u001b[0m \u001b[0mrange\u001b[0m\u001b[1;33m(\u001b[0m\u001b[1;36m1\u001b[0m\u001b[1;33m,\u001b[0m\u001b[1;36m11\u001b[0m\u001b[1;33m)\u001b[0m\u001b[1;33m:\u001b[0m\u001b[1;33m\u001b[0m\u001b[1;33m\u001b[0m\u001b[0m\n\u001b[0;32m      5\u001b[0m    \u001b[0mparams\u001b[0m\u001b[1;33m[\u001b[0m\u001b[1;34m'max_depth'\u001b[0m\u001b[1;33m]\u001b[0m \u001b[1;33m=\u001b[0m \u001b[0mi\u001b[0m\u001b[1;33m\u001b[0m\u001b[1;33m\u001b[0m\u001b[0m\n",
      "\u001b[1;31mNameError\u001b[0m: name 'a' is not defined"
     ]
    }
   ],
   "source": [
    "a\n",
    "rmse = []\n",
    "params =  {'learning_rate': 0.03, 'n_estimators': 500, 'max_depth': 5, 'min_child_weight': 1, 'gamma': 0.0, 'subsample': 0.65, 'colsample_bytree': 0.25,'colsample_bylevel': 0.8, 'objective': 'reg:squarederror', 'nthread': 4, 'scale_pos_weight': 1, 'seed': 17, 'reg_alpha': 140}\n",
    "for i in range(1,11):\n",
    "   params['max_depth'] = i\n",
    "\n",
    "   rmse.append(ra.Compare_data(ra.xgb_analysis(x,y,params),test))\n",
    "plt.plot(rmse) "
   ]
  },
  {
   "cell_type": "code",
   "execution_count": 477,
   "metadata": {},
   "outputs": [
    {
     "output_type": "execute_result",
     "data": {
      "text/plain": [
       "[<matplotlib.lines.Line2D at 0x1b56c717a60>]"
      ]
     },
     "metadata": {},
     "execution_count": 477
    },
    {
     "output_type": "display_data",
     "data": {
      "text/plain": "<Figure size 432x288 with 1 Axes>",
      "image/svg+xml": "<?xml version=\"1.0\" encoding=\"utf-8\" standalone=\"no\"?>\r\n<!DOCTYPE svg PUBLIC \"-//W3C//DTD SVG 1.1//EN\"\r\n  \"http://www.w3.org/Graphics/SVG/1.1/DTD/svg11.dtd\">\r\n<!-- Created with matplotlib (https://matplotlib.org/) -->\r\n<svg height=\"248.518125pt\" version=\"1.1\" viewBox=\"0 0 381.65 248.518125\" width=\"381.65pt\" xmlns=\"http://www.w3.org/2000/svg\" xmlns:xlink=\"http://www.w3.org/1999/xlink\">\r\n <metadata>\r\n  <rdf:RDF xmlns:cc=\"http://creativecommons.org/ns#\" xmlns:dc=\"http://purl.org/dc/elements/1.1/\" xmlns:rdf=\"http://www.w3.org/1999/02/22-rdf-syntax-ns#\">\r\n   <cc:Work>\r\n    <dc:type rdf:resource=\"http://purl.org/dc/dcmitype/StillImage\"/>\r\n    <dc:date>2021-06-04T18:01:00.478527</dc:date>\r\n    <dc:format>image/svg+xml</dc:format>\r\n    <dc:creator>\r\n     <cc:Agent>\r\n      <dc:title>Matplotlib v3.3.2, https://matplotlib.org/</dc:title>\r\n     </cc:Agent>\r\n    </dc:creator>\r\n   </cc:Work>\r\n  </rdf:RDF>\r\n </metadata>\r\n <defs>\r\n  <style type=\"text/css\">*{stroke-linecap:butt;stroke-linejoin:round;}</style>\r\n </defs>\r\n <g id=\"figure_1\">\r\n  <g id=\"patch_1\">\r\n   <path d=\"M -0 248.518125 \r\nL 381.65 248.518125 \r\nL 381.65 0 \r\nL -0 0 \r\nz\r\n\" style=\"fill:none;\"/>\r\n  </g>\r\n  <g id=\"axes_1\">\r\n   <g id=\"patch_2\">\r\n    <path d=\"M 39.65 224.64 \r\nL 374.45 224.64 \r\nL 374.45 7.2 \r\nL 39.65 7.2 \r\nz\r\n\" style=\"fill:#ffffff;\"/>\r\n   </g>\r\n   <g id=\"matplotlib.axis_1\">\r\n    <g id=\"xtick_1\">\r\n     <g id=\"line2d_1\">\r\n      <defs>\r\n       <path d=\"M 0 0 \r\nL 0 3.5 \r\n\" id=\"m756369c3b6\" style=\"stroke:#000000;stroke-width:0.8;\"/>\r\n      </defs>\r\n      <g>\r\n       <use style=\"stroke:#000000;stroke-width:0.8;\" x=\"54.868182\" xlink:href=\"#m756369c3b6\" y=\"224.64\"/>\r\n      </g>\r\n     </g>\r\n     <g id=\"text_1\">\r\n      <!-- 0 -->\r\n      <g transform=\"translate(51.686932 239.238437)scale(0.1 -0.1)\">\r\n       <defs>\r\n        <path d=\"M 31.78125 66.40625 \r\nQ 24.171875 66.40625 20.328125 58.90625 \r\nQ 16.5 51.421875 16.5 36.375 \r\nQ 16.5 21.390625 20.328125 13.890625 \r\nQ 24.171875 6.390625 31.78125 6.390625 \r\nQ 39.453125 6.390625 43.28125 13.890625 \r\nQ 47.125 21.390625 47.125 36.375 \r\nQ 47.125 51.421875 43.28125 58.90625 \r\nQ 39.453125 66.40625 31.78125 66.40625 \r\nz\r\nM 31.78125 74.21875 \r\nQ 44.046875 74.21875 50.515625 64.515625 \r\nQ 56.984375 54.828125 56.984375 36.375 \r\nQ 56.984375 17.96875 50.515625 8.265625 \r\nQ 44.046875 -1.421875 31.78125 -1.421875 \r\nQ 19.53125 -1.421875 13.0625 8.265625 \r\nQ 6.59375 17.96875 6.59375 36.375 \r\nQ 6.59375 54.828125 13.0625 64.515625 \r\nQ 19.53125 74.21875 31.78125 74.21875 \r\nz\r\n\" id=\"DejaVuSans-48\"/>\r\n       </defs>\r\n       <use xlink:href=\"#DejaVuSans-48\"/>\r\n      </g>\r\n     </g>\r\n    </g>\r\n    <g id=\"xtick_2\">\r\n     <g id=\"line2d_2\">\r\n      <g>\r\n       <use style=\"stroke:#000000;stroke-width:0.8;\" x=\"122.504545\" xlink:href=\"#m756369c3b6\" y=\"224.64\"/>\r\n      </g>\r\n     </g>\r\n     <g id=\"text_2\">\r\n      <!-- 2 -->\r\n      <g transform=\"translate(119.323295 239.238437)scale(0.1 -0.1)\">\r\n       <defs>\r\n        <path d=\"M 19.1875 8.296875 \r\nL 53.609375 8.296875 \r\nL 53.609375 0 \r\nL 7.328125 0 \r\nL 7.328125 8.296875 \r\nQ 12.9375 14.109375 22.625 23.890625 \r\nQ 32.328125 33.6875 34.8125 36.53125 \r\nQ 39.546875 41.84375 41.421875 45.53125 \r\nQ 43.3125 49.21875 43.3125 52.78125 \r\nQ 43.3125 58.59375 39.234375 62.25 \r\nQ 35.15625 65.921875 28.609375 65.921875 \r\nQ 23.96875 65.921875 18.8125 64.3125 \r\nQ 13.671875 62.703125 7.8125 59.421875 \r\nL 7.8125 69.390625 \r\nQ 13.765625 71.78125 18.9375 73 \r\nQ 24.125 74.21875 28.421875 74.21875 \r\nQ 39.75 74.21875 46.484375 68.546875 \r\nQ 53.21875 62.890625 53.21875 53.421875 \r\nQ 53.21875 48.921875 51.53125 44.890625 \r\nQ 49.859375 40.875 45.40625 35.40625 \r\nQ 44.1875 33.984375 37.640625 27.21875 \r\nQ 31.109375 20.453125 19.1875 8.296875 \r\nz\r\n\" id=\"DejaVuSans-50\"/>\r\n       </defs>\r\n       <use xlink:href=\"#DejaVuSans-50\"/>\r\n      </g>\r\n     </g>\r\n    </g>\r\n    <g id=\"xtick_3\">\r\n     <g id=\"line2d_3\">\r\n      <g>\r\n       <use style=\"stroke:#000000;stroke-width:0.8;\" x=\"190.140909\" xlink:href=\"#m756369c3b6\" y=\"224.64\"/>\r\n      </g>\r\n     </g>\r\n     <g id=\"text_3\">\r\n      <!-- 4 -->\r\n      <g transform=\"translate(186.959659 239.238437)scale(0.1 -0.1)\">\r\n       <defs>\r\n        <path d=\"M 37.796875 64.3125 \r\nL 12.890625 25.390625 \r\nL 37.796875 25.390625 \r\nz\r\nM 35.203125 72.90625 \r\nL 47.609375 72.90625 \r\nL 47.609375 25.390625 \r\nL 58.015625 25.390625 \r\nL 58.015625 17.1875 \r\nL 47.609375 17.1875 \r\nL 47.609375 0 \r\nL 37.796875 0 \r\nL 37.796875 17.1875 \r\nL 4.890625 17.1875 \r\nL 4.890625 26.703125 \r\nz\r\n\" id=\"DejaVuSans-52\"/>\r\n       </defs>\r\n       <use xlink:href=\"#DejaVuSans-52\"/>\r\n      </g>\r\n     </g>\r\n    </g>\r\n    <g id=\"xtick_4\">\r\n     <g id=\"line2d_4\">\r\n      <g>\r\n       <use style=\"stroke:#000000;stroke-width:0.8;\" x=\"257.777273\" xlink:href=\"#m756369c3b6\" y=\"224.64\"/>\r\n      </g>\r\n     </g>\r\n     <g id=\"text_4\">\r\n      <!-- 6 -->\r\n      <g transform=\"translate(254.596023 239.238437)scale(0.1 -0.1)\">\r\n       <defs>\r\n        <path d=\"M 33.015625 40.375 \r\nQ 26.375 40.375 22.484375 35.828125 \r\nQ 18.609375 31.296875 18.609375 23.390625 \r\nQ 18.609375 15.53125 22.484375 10.953125 \r\nQ 26.375 6.390625 33.015625 6.390625 \r\nQ 39.65625 6.390625 43.53125 10.953125 \r\nQ 47.40625 15.53125 47.40625 23.390625 \r\nQ 47.40625 31.296875 43.53125 35.828125 \r\nQ 39.65625 40.375 33.015625 40.375 \r\nz\r\nM 52.59375 71.296875 \r\nL 52.59375 62.3125 \r\nQ 48.875 64.0625 45.09375 64.984375 \r\nQ 41.3125 65.921875 37.59375 65.921875 \r\nQ 27.828125 65.921875 22.671875 59.328125 \r\nQ 17.53125 52.734375 16.796875 39.40625 \r\nQ 19.671875 43.65625 24.015625 45.921875 \r\nQ 28.375 48.1875 33.59375 48.1875 \r\nQ 44.578125 48.1875 50.953125 41.515625 \r\nQ 57.328125 34.859375 57.328125 23.390625 \r\nQ 57.328125 12.15625 50.6875 5.359375 \r\nQ 44.046875 -1.421875 33.015625 -1.421875 \r\nQ 20.359375 -1.421875 13.671875 8.265625 \r\nQ 6.984375 17.96875 6.984375 36.375 \r\nQ 6.984375 53.65625 15.1875 63.9375 \r\nQ 23.390625 74.21875 37.203125 74.21875 \r\nQ 40.921875 74.21875 44.703125 73.484375 \r\nQ 48.484375 72.75 52.59375 71.296875 \r\nz\r\n\" id=\"DejaVuSans-54\"/>\r\n       </defs>\r\n       <use xlink:href=\"#DejaVuSans-54\"/>\r\n      </g>\r\n     </g>\r\n    </g>\r\n    <g id=\"xtick_5\">\r\n     <g id=\"line2d_5\">\r\n      <g>\r\n       <use style=\"stroke:#000000;stroke-width:0.8;\" x=\"325.413636\" xlink:href=\"#m756369c3b6\" y=\"224.64\"/>\r\n      </g>\r\n     </g>\r\n     <g id=\"text_5\">\r\n      <!-- 8 -->\r\n      <g transform=\"translate(322.232386 239.238437)scale(0.1 -0.1)\">\r\n       <defs>\r\n        <path d=\"M 31.78125 34.625 \r\nQ 24.75 34.625 20.71875 30.859375 \r\nQ 16.703125 27.09375 16.703125 20.515625 \r\nQ 16.703125 13.921875 20.71875 10.15625 \r\nQ 24.75 6.390625 31.78125 6.390625 \r\nQ 38.8125 6.390625 42.859375 10.171875 \r\nQ 46.921875 13.96875 46.921875 20.515625 \r\nQ 46.921875 27.09375 42.890625 30.859375 \r\nQ 38.875 34.625 31.78125 34.625 \r\nz\r\nM 21.921875 38.8125 \r\nQ 15.578125 40.375 12.03125 44.71875 \r\nQ 8.5 49.078125 8.5 55.328125 \r\nQ 8.5 64.0625 14.71875 69.140625 \r\nQ 20.953125 74.21875 31.78125 74.21875 \r\nQ 42.671875 74.21875 48.875 69.140625 \r\nQ 55.078125 64.0625 55.078125 55.328125 \r\nQ 55.078125 49.078125 51.53125 44.71875 \r\nQ 48 40.375 41.703125 38.8125 \r\nQ 48.828125 37.15625 52.796875 32.3125 \r\nQ 56.78125 27.484375 56.78125 20.515625 \r\nQ 56.78125 9.90625 50.3125 4.234375 \r\nQ 43.84375 -1.421875 31.78125 -1.421875 \r\nQ 19.734375 -1.421875 13.25 4.234375 \r\nQ 6.78125 9.90625 6.78125 20.515625 \r\nQ 6.78125 27.484375 10.78125 32.3125 \r\nQ 14.796875 37.15625 21.921875 38.8125 \r\nz\r\nM 18.3125 54.390625 \r\nQ 18.3125 48.734375 21.84375 45.5625 \r\nQ 25.390625 42.390625 31.78125 42.390625 \r\nQ 38.140625 42.390625 41.71875 45.5625 \r\nQ 45.3125 48.734375 45.3125 54.390625 \r\nQ 45.3125 60.0625 41.71875 63.234375 \r\nQ 38.140625 66.40625 31.78125 66.40625 \r\nQ 25.390625 66.40625 21.84375 63.234375 \r\nQ 18.3125 60.0625 18.3125 54.390625 \r\nz\r\n\" id=\"DejaVuSans-56\"/>\r\n       </defs>\r\n       <use xlink:href=\"#DejaVuSans-56\"/>\r\n      </g>\r\n     </g>\r\n    </g>\r\n   </g>\r\n   <g id=\"matplotlib.axis_2\">\r\n    <g id=\"ytick_1\">\r\n     <g id=\"line2d_6\">\r\n      <defs>\r\n       <path d=\"M 0 0 \r\nL -3.5 0 \r\n\" id=\"m5fc70c84d5\" style=\"stroke:#000000;stroke-width:0.8;\"/>\r\n      </defs>\r\n      <g>\r\n       <use style=\"stroke:#000000;stroke-width:0.8;\" x=\"39.65\" xlink:href=\"#m5fc70c84d5\" y=\"197.410469\"/>\r\n      </g>\r\n     </g>\r\n     <g id=\"text_6\">\r\n      <!-- 2860 -->\r\n      <g transform=\"translate(7.2 201.209688)scale(0.1 -0.1)\">\r\n       <use xlink:href=\"#DejaVuSans-50\"/>\r\n       <use x=\"63.623047\" xlink:href=\"#DejaVuSans-56\"/>\r\n       <use x=\"127.246094\" xlink:href=\"#DejaVuSans-54\"/>\r\n       <use x=\"190.869141\" xlink:href=\"#DejaVuSans-48\"/>\r\n      </g>\r\n     </g>\r\n    </g>\r\n    <g id=\"ytick_2\">\r\n     <g id=\"line2d_7\">\r\n      <g>\r\n       <use style=\"stroke:#000000;stroke-width:0.8;\" x=\"39.65\" xlink:href=\"#m5fc70c84d5\" y=\"158.726396\"/>\r\n      </g>\r\n     </g>\r\n     <g id=\"text_7\">\r\n      <!-- 2880 -->\r\n      <g transform=\"translate(7.2 162.525615)scale(0.1 -0.1)\">\r\n       <use xlink:href=\"#DejaVuSans-50\"/>\r\n       <use x=\"63.623047\" xlink:href=\"#DejaVuSans-56\"/>\r\n       <use x=\"127.246094\" xlink:href=\"#DejaVuSans-56\"/>\r\n       <use x=\"190.869141\" xlink:href=\"#DejaVuSans-48\"/>\r\n      </g>\r\n     </g>\r\n    </g>\r\n    <g id=\"ytick_3\">\r\n     <g id=\"line2d_8\">\r\n      <g>\r\n       <use style=\"stroke:#000000;stroke-width:0.8;\" x=\"39.65\" xlink:href=\"#m5fc70c84d5\" y=\"120.042322\"/>\r\n      </g>\r\n     </g>\r\n     <g id=\"text_8\">\r\n      <!-- 2900 -->\r\n      <g transform=\"translate(7.2 123.841541)scale(0.1 -0.1)\">\r\n       <defs>\r\n        <path d=\"M 10.984375 1.515625 \r\nL 10.984375 10.5 \r\nQ 14.703125 8.734375 18.5 7.8125 \r\nQ 22.3125 6.890625 25.984375 6.890625 \r\nQ 35.75 6.890625 40.890625 13.453125 \r\nQ 46.046875 20.015625 46.78125 33.40625 \r\nQ 43.953125 29.203125 39.59375 26.953125 \r\nQ 35.25 24.703125 29.984375 24.703125 \r\nQ 19.046875 24.703125 12.671875 31.3125 \r\nQ 6.296875 37.9375 6.296875 49.421875 \r\nQ 6.296875 60.640625 12.9375 67.421875 \r\nQ 19.578125 74.21875 30.609375 74.21875 \r\nQ 43.265625 74.21875 49.921875 64.515625 \r\nQ 56.59375 54.828125 56.59375 36.375 \r\nQ 56.59375 19.140625 48.40625 8.859375 \r\nQ 40.234375 -1.421875 26.421875 -1.421875 \r\nQ 22.703125 -1.421875 18.890625 -0.6875 \r\nQ 15.09375 0.046875 10.984375 1.515625 \r\nz\r\nM 30.609375 32.421875 \r\nQ 37.25 32.421875 41.125 36.953125 \r\nQ 45.015625 41.5 45.015625 49.421875 \r\nQ 45.015625 57.28125 41.125 61.84375 \r\nQ 37.25 66.40625 30.609375 66.40625 \r\nQ 23.96875 66.40625 20.09375 61.84375 \r\nQ 16.21875 57.28125 16.21875 49.421875 \r\nQ 16.21875 41.5 20.09375 36.953125 \r\nQ 23.96875 32.421875 30.609375 32.421875 \r\nz\r\n\" id=\"DejaVuSans-57\"/>\r\n       </defs>\r\n       <use xlink:href=\"#DejaVuSans-50\"/>\r\n       <use x=\"63.623047\" xlink:href=\"#DejaVuSans-57\"/>\r\n       <use x=\"127.246094\" xlink:href=\"#DejaVuSans-48\"/>\r\n       <use x=\"190.869141\" xlink:href=\"#DejaVuSans-48\"/>\r\n      </g>\r\n     </g>\r\n    </g>\r\n    <g id=\"ytick_4\">\r\n     <g id=\"line2d_9\">\r\n      <g>\r\n       <use style=\"stroke:#000000;stroke-width:0.8;\" x=\"39.65\" xlink:href=\"#m5fc70c84d5\" y=\"81.358249\"/>\r\n      </g>\r\n     </g>\r\n     <g id=\"text_9\">\r\n      <!-- 2920 -->\r\n      <g transform=\"translate(7.2 85.157468)scale(0.1 -0.1)\">\r\n       <use xlink:href=\"#DejaVuSans-50\"/>\r\n       <use x=\"63.623047\" xlink:href=\"#DejaVuSans-57\"/>\r\n       <use x=\"127.246094\" xlink:href=\"#DejaVuSans-50\"/>\r\n       <use x=\"190.869141\" xlink:href=\"#DejaVuSans-48\"/>\r\n      </g>\r\n     </g>\r\n    </g>\r\n    <g id=\"ytick_5\">\r\n     <g id=\"line2d_10\">\r\n      <g>\r\n       <use style=\"stroke:#000000;stroke-width:0.8;\" x=\"39.65\" xlink:href=\"#m5fc70c84d5\" y=\"42.674175\"/>\r\n      </g>\r\n     </g>\r\n     <g id=\"text_10\">\r\n      <!-- 2940 -->\r\n      <g transform=\"translate(7.2 46.473394)scale(0.1 -0.1)\">\r\n       <use xlink:href=\"#DejaVuSans-50\"/>\r\n       <use x=\"63.623047\" xlink:href=\"#DejaVuSans-57\"/>\r\n       <use x=\"127.246094\" xlink:href=\"#DejaVuSans-52\"/>\r\n       <use x=\"190.869141\" xlink:href=\"#DejaVuSans-48\"/>\r\n      </g>\r\n     </g>\r\n    </g>\r\n   </g>\r\n   <g id=\"line2d_11\">\r\n    <path clip-path=\"url(#p429e5f23f8)\" d=\"M 54.868182 165.135324 \r\nL 88.686364 180.199477 \r\nL 122.504545 214.756364 \r\nL 156.322727 97.985385 \r\nL 190.140909 167.203779 \r\nL 223.959091 115.940869 \r\nL 257.777273 142.678709 \r\nL 291.595455 62.268372 \r\nL 325.413636 25.607638 \r\nL 359.231818 17.083636 \r\n\" style=\"fill:none;stroke:#1f77b4;stroke-linecap:square;stroke-width:1.5;\"/>\r\n   </g>\r\n   <g id=\"patch_3\">\r\n    <path d=\"M 39.65 224.64 \r\nL 39.65 7.2 \r\n\" style=\"fill:none;stroke:#000000;stroke-linecap:square;stroke-linejoin:miter;stroke-width:0.8;\"/>\r\n   </g>\r\n   <g id=\"patch_4\">\r\n    <path d=\"M 374.45 224.64 \r\nL 374.45 7.2 \r\n\" style=\"fill:none;stroke:#000000;stroke-linecap:square;stroke-linejoin:miter;stroke-width:0.8;\"/>\r\n   </g>\r\n   <g id=\"patch_5\">\r\n    <path d=\"M 39.65 224.64 \r\nL 374.45 224.64 \r\n\" style=\"fill:none;stroke:#000000;stroke-linecap:square;stroke-linejoin:miter;stroke-width:0.8;\"/>\r\n   </g>\r\n   <g id=\"patch_6\">\r\n    <path d=\"M 39.65 7.2 \r\nL 374.45 7.2 \r\n\" style=\"fill:none;stroke:#000000;stroke-linecap:square;stroke-linejoin:miter;stroke-width:0.8;\"/>\r\n   </g>\r\n  </g>\r\n </g>\r\n <defs>\r\n  <clipPath id=\"p429e5f23f8\">\r\n   <rect height=\"217.44\" width=\"334.8\" x=\"39.65\" y=\"7.2\"/>\r\n  </clipPath>\r\n </defs>\r\n</svg>\r\n",
      "image/png": "[encoded data removed]"
     },
     "metadata": {
      "needs_background": "light"
     }
    }
   ],
   "source": [
    "rmse = []\n",
    "params =  {'learning_rate': 0.03, 'n_estimators': 500, 'max_depth': 5, 'min_child_weight': 1, 'gamma': 0.0, 'subsample': 0.65, 'colsample_bytree': 0.35, 'objective': 'reg:squarederror', 'nthread': 4, 'scale_pos_weight': 1, 'seed': 17, 'reg_alpha': 140}\n",
    "for i in range(1,11):\n",
    "    params['min_child_weight'] = i\n",
    "\n",
    "    rmse.append(ra.Compare_data(ra.xgb_analysis(x,y,params),test))\n",
    "plt.plot(rmse) "
   ]
  },
  {
   "cell_type": "code",
   "execution_count": 478,
   "metadata": {},
   "outputs": [
    {
     "output_type": "execute_result",
     "data": {
      "text/plain": [
       "[<matplotlib.lines.Line2D at 0x1b56c7695e0>]"
      ]
     },
     "metadata": {},
     "execution_count": 478
    },
    {
     "output_type": "display_data",
     "data": {
      "text/plain": "<Figure size 432x288 with 1 Axes>",
      "image/svg+xml": "<?xml version=\"1.0\" encoding=\"utf-8\" standalone=\"no\"?>\r\n<!DOCTYPE svg PUBLIC \"-//W3C//DTD SVG 1.1//EN\"\r\n  \"http://www.w3.org/Graphics/SVG/1.1/DTD/svg11.dtd\">\r\n<!-- Created with matplotlib (https://matplotlib.org/) -->\r\n<svg height=\"248.518125pt\" version=\"1.1\" viewBox=\"0 0 388.0125 248.518125\" width=\"388.0125pt\" xmlns=\"http://www.w3.org/2000/svg\" xmlns:xlink=\"http://www.w3.org/1999/xlink\">\r\n <metadata>\r\n  <rdf:RDF xmlns:cc=\"http://creativecommons.org/ns#\" xmlns:dc=\"http://purl.org/dc/elements/1.1/\" xmlns:rdf=\"http://www.w3.org/1999/02/22-rdf-syntax-ns#\">\r\n   <cc:Work>\r\n    <dc:type rdf:resource=\"http://purl.org/dc/dcmitype/StillImage\"/>\r\n    <dc:date>2021-06-04T18:01:18.022084</dc:date>\r\n    <dc:format>image/svg+xml</dc:format>\r\n    <dc:creator>\r\n     <cc:Agent>\r\n      <dc:title>Matplotlib v3.3.2, https://matplotlib.org/</dc:title>\r\n     </cc:Agent>\r\n    </dc:creator>\r\n   </cc:Work>\r\n  </rdf:RDF>\r\n </metadata>\r\n <defs>\r\n  <style type=\"text/css\">*{stroke-linecap:butt;stroke-linejoin:round;}</style>\r\n </defs>\r\n <g id=\"figure_1\">\r\n  <g id=\"patch_1\">\r\n   <path d=\"M 0 248.518125 \r\nL 388.0125 248.518125 \r\nL 388.0125 0 \r\nL 0 0 \r\nz\r\n\" style=\"fill:none;\"/>\r\n  </g>\r\n  <g id=\"axes_1\">\r\n   <g id=\"patch_2\">\r\n    <path d=\"M 46.0125 224.64 \r\nL 380.8125 224.64 \r\nL 380.8125 7.2 \r\nL 46.0125 7.2 \r\nz\r\n\" style=\"fill:#ffffff;\"/>\r\n   </g>\r\n   <g id=\"matplotlib.axis_1\">\r\n    <g id=\"xtick_1\">\r\n     <g id=\"line2d_1\">\r\n      <defs>\r\n       <path d=\"M 0 0 \r\nL 0 3.5 \r\n\" id=\"m95fd70288d\" style=\"stroke:#000000;stroke-width:0.8;\"/>\r\n      </defs>\r\n      <g>\r\n       <use style=\"stroke:#000000;stroke-width:0.8;\" x=\"61.230682\" xlink:href=\"#m95fd70288d\" y=\"224.64\"/>\r\n      </g>\r\n     </g>\r\n     <g id=\"text_1\">\r\n      <!-- 0.0 -->\r\n      <g transform=\"translate(53.279119 239.238438)scale(0.1 -0.1)\">\r\n       <defs>\r\n        <path d=\"M 31.78125 66.40625 \r\nQ 24.171875 66.40625 20.328125 58.90625 \r\nQ 16.5 51.421875 16.5 36.375 \r\nQ 16.5 21.390625 20.328125 13.890625 \r\nQ 24.171875 6.390625 31.78125 6.390625 \r\nQ 39.453125 6.390625 43.28125 13.890625 \r\nQ 47.125 21.390625 47.125 36.375 \r\nQ 47.125 51.421875 43.28125 58.90625 \r\nQ 39.453125 66.40625 31.78125 66.40625 \r\nz\r\nM 31.78125 74.21875 \r\nQ 44.046875 74.21875 50.515625 64.515625 \r\nQ 56.984375 54.828125 56.984375 36.375 \r\nQ 56.984375 17.96875 50.515625 8.265625 \r\nQ 44.046875 -1.421875 31.78125 -1.421875 \r\nQ 19.53125 -1.421875 13.0625 8.265625 \r\nQ 6.59375 17.96875 6.59375 36.375 \r\nQ 6.59375 54.828125 13.0625 64.515625 \r\nQ 19.53125 74.21875 31.78125 74.21875 \r\nz\r\n\" id=\"DejaVuSans-48\"/>\r\n        <path d=\"M 10.6875 12.40625 \r\nL 21 12.40625 \r\nL 21 0 \r\nL 10.6875 0 \r\nz\r\n\" id=\"DejaVuSans-46\"/>\r\n       </defs>\r\n       <use xlink:href=\"#DejaVuSans-48\"/>\r\n       <use x=\"63.623047\" xlink:href=\"#DejaVuSans-46\"/>\r\n       <use x=\"95.410156\" xlink:href=\"#DejaVuSans-48\"/>\r\n      </g>\r\n     </g>\r\n    </g>\r\n    <g id=\"xtick_2\">\r\n     <g id=\"line2d_2\">\r\n      <g>\r\n       <use style=\"stroke:#000000;stroke-width:0.8;\" x=\"101.278529\" xlink:href=\"#m95fd70288d\" y=\"224.64\"/>\r\n      </g>\r\n     </g>\r\n     <g id=\"text_2\">\r\n      <!-- 2.5 -->\r\n      <g transform=\"translate(93.326966 239.238438)scale(0.1 -0.1)\">\r\n       <defs>\r\n        <path d=\"M 19.1875 8.296875 \r\nL 53.609375 8.296875 \r\nL 53.609375 0 \r\nL 7.328125 0 \r\nL 7.328125 8.296875 \r\nQ 12.9375 14.109375 22.625 23.890625 \r\nQ 32.328125 33.6875 34.8125 36.53125 \r\nQ 39.546875 41.84375 41.421875 45.53125 \r\nQ 43.3125 49.21875 43.3125 52.78125 \r\nQ 43.3125 58.59375 39.234375 62.25 \r\nQ 35.15625 65.921875 28.609375 65.921875 \r\nQ 23.96875 65.921875 18.8125 64.3125 \r\nQ 13.671875 62.703125 7.8125 59.421875 \r\nL 7.8125 69.390625 \r\nQ 13.765625 71.78125 18.9375 73 \r\nQ 24.125 74.21875 28.421875 74.21875 \r\nQ 39.75 74.21875 46.484375 68.546875 \r\nQ 53.21875 62.890625 53.21875 53.421875 \r\nQ 53.21875 48.921875 51.53125 44.890625 \r\nQ 49.859375 40.875 45.40625 35.40625 \r\nQ 44.1875 33.984375 37.640625 27.21875 \r\nQ 31.109375 20.453125 19.1875 8.296875 \r\nz\r\n\" id=\"DejaVuSans-50\"/>\r\n        <path d=\"M 10.796875 72.90625 \r\nL 49.515625 72.90625 \r\nL 49.515625 64.59375 \r\nL 19.828125 64.59375 \r\nL 19.828125 46.734375 \r\nQ 21.96875 47.46875 24.109375 47.828125 \r\nQ 26.265625 48.1875 28.421875 48.1875 \r\nQ 40.625 48.1875 47.75 41.5 \r\nQ 54.890625 34.8125 54.890625 23.390625 \r\nQ 54.890625 11.625 47.5625 5.09375 \r\nQ 40.234375 -1.421875 26.90625 -1.421875 \r\nQ 22.3125 -1.421875 17.546875 -0.640625 \r\nQ 12.796875 0.140625 7.71875 1.703125 \r\nL 7.71875 11.625 \r\nQ 12.109375 9.234375 16.796875 8.0625 \r\nQ 21.484375 6.890625 26.703125 6.890625 \r\nQ 35.15625 6.890625 40.078125 11.328125 \r\nQ 45.015625 15.765625 45.015625 23.390625 \r\nQ 45.015625 31 40.078125 35.4375 \r\nQ 35.15625 39.890625 26.703125 39.890625 \r\nQ 22.75 39.890625 18.8125 39.015625 \r\nQ 14.890625 38.140625 10.796875 36.28125 \r\nz\r\n\" id=\"DejaVuSans-53\"/>\r\n       </defs>\r\n       <use xlink:href=\"#DejaVuSans-50\"/>\r\n       <use x=\"63.623047\" xlink:href=\"#DejaVuSans-46\"/>\r\n       <use x=\"95.410156\" xlink:href=\"#DejaVuSans-53\"/>\r\n      </g>\r\n     </g>\r\n    </g>\r\n    <g id=\"xtick_3\">\r\n     <g id=\"line2d_3\">\r\n      <g>\r\n       <use style=\"stroke:#000000;stroke-width:0.8;\" x=\"141.326376\" xlink:href=\"#m95fd70288d\" y=\"224.64\"/>\r\n      </g>\r\n     </g>\r\n     <g id=\"text_3\">\r\n      <!-- 5.0 -->\r\n      <g transform=\"translate(133.374813 239.238438)scale(0.1 -0.1)\">\r\n       <use xlink:href=\"#DejaVuSans-53\"/>\r\n       <use x=\"63.623047\" xlink:href=\"#DejaVuSans-46\"/>\r\n       <use x=\"95.410156\" xlink:href=\"#DejaVuSans-48\"/>\r\n      </g>\r\n     </g>\r\n    </g>\r\n    <g id=\"xtick_4\">\r\n     <g id=\"line2d_4\">\r\n      <g>\r\n       <use style=\"stroke:#000000;stroke-width:0.8;\" x=\"181.374222\" xlink:href=\"#m95fd70288d\" y=\"224.64\"/>\r\n      </g>\r\n     </g>\r\n     <g id=\"text_4\">\r\n      <!-- 7.5 -->\r\n      <g transform=\"translate(173.42266 239.238438)scale(0.1 -0.1)\">\r\n       <defs>\r\n        <path d=\"M 8.203125 72.90625 \r\nL 55.078125 72.90625 \r\nL 55.078125 68.703125 \r\nL 28.609375 0 \r\nL 18.3125 0 \r\nL 43.21875 64.59375 \r\nL 8.203125 64.59375 \r\nz\r\n\" id=\"DejaVuSans-55\"/>\r\n       </defs>\r\n       <use xlink:href=\"#DejaVuSans-55\"/>\r\n       <use x=\"63.623047\" xlink:href=\"#DejaVuSans-46\"/>\r\n       <use x=\"95.410156\" xlink:href=\"#DejaVuSans-53\"/>\r\n      </g>\r\n     </g>\r\n    </g>\r\n    <g id=\"xtick_5\">\r\n     <g id=\"line2d_5\">\r\n      <g>\r\n       <use style=\"stroke:#000000;stroke-width:0.8;\" x=\"221.422069\" xlink:href=\"#m95fd70288d\" y=\"224.64\"/>\r\n      </g>\r\n     </g>\r\n     <g id=\"text_5\">\r\n      <!-- 10.0 -->\r\n      <g transform=\"translate(210.289257 239.238438)scale(0.1 -0.1)\">\r\n       <defs>\r\n        <path d=\"M 12.40625 8.296875 \r\nL 28.515625 8.296875 \r\nL 28.515625 63.921875 \r\nL 10.984375 60.40625 \r\nL 10.984375 69.390625 \r\nL 28.421875 72.90625 \r\nL 38.28125 72.90625 \r\nL 38.28125 8.296875 \r\nL 54.390625 8.296875 \r\nL 54.390625 0 \r\nL 12.40625 0 \r\nz\r\n\" id=\"DejaVuSans-49\"/>\r\n       </defs>\r\n       <use xlink:href=\"#DejaVuSans-49\"/>\r\n       <use x=\"63.623047\" xlink:href=\"#DejaVuSans-48\"/>\r\n       <use x=\"127.246094\" xlink:href=\"#DejaVuSans-46\"/>\r\n       <use x=\"159.033203\" xlink:href=\"#DejaVuSans-48\"/>\r\n      </g>\r\n     </g>\r\n    </g>\r\n    <g id=\"xtick_6\">\r\n     <g id=\"line2d_6\">\r\n      <g>\r\n       <use style=\"stroke:#000000;stroke-width:0.8;\" x=\"261.469916\" xlink:href=\"#m95fd70288d\" y=\"224.64\"/>\r\n      </g>\r\n     </g>\r\n     <g id=\"text_6\">\r\n      <!-- 12.5 -->\r\n      <g transform=\"translate(250.337104 239.238438)scale(0.1 -0.1)\">\r\n       <use xlink:href=\"#DejaVuSans-49\"/>\r\n       <use x=\"63.623047\" xlink:href=\"#DejaVuSans-50\"/>\r\n       <use x=\"127.246094\" xlink:href=\"#DejaVuSans-46\"/>\r\n       <use x=\"159.033203\" xlink:href=\"#DejaVuSans-53\"/>\r\n      </g>\r\n     </g>\r\n    </g>\r\n    <g id=\"xtick_7\">\r\n     <g id=\"line2d_7\">\r\n      <g>\r\n       <use style=\"stroke:#000000;stroke-width:0.8;\" x=\"301.517763\" xlink:href=\"#m95fd70288d\" y=\"224.64\"/>\r\n      </g>\r\n     </g>\r\n     <g id=\"text_7\">\r\n      <!-- 15.0 -->\r\n      <g transform=\"translate(290.384951 239.238438)scale(0.1 -0.1)\">\r\n       <use xlink:href=\"#DejaVuSans-49\"/>\r\n       <use x=\"63.623047\" xlink:href=\"#DejaVuSans-53\"/>\r\n       <use x=\"127.246094\" xlink:href=\"#DejaVuSans-46\"/>\r\n       <use x=\"159.033203\" xlink:href=\"#DejaVuSans-48\"/>\r\n      </g>\r\n     </g>\r\n    </g>\r\n    <g id=\"xtick_8\">\r\n     <g id=\"line2d_8\">\r\n      <g>\r\n       <use style=\"stroke:#000000;stroke-width:0.8;\" x=\"341.56561\" xlink:href=\"#m95fd70288d\" y=\"224.64\"/>\r\n      </g>\r\n     </g>\r\n     <g id=\"text_8\">\r\n      <!-- 17.5 -->\r\n      <g transform=\"translate(330.432798 239.238438)scale(0.1 -0.1)\">\r\n       <use xlink:href=\"#DejaVuSans-49\"/>\r\n       <use x=\"63.623047\" xlink:href=\"#DejaVuSans-55\"/>\r\n       <use x=\"127.246094\" xlink:href=\"#DejaVuSans-46\"/>\r\n       <use x=\"159.033203\" xlink:href=\"#DejaVuSans-53\"/>\r\n      </g>\r\n     </g>\r\n    </g>\r\n   </g>\r\n   <g id=\"matplotlib.axis_2\">\r\n    <g id=\"ytick_1\">\r\n     <g id=\"line2d_9\">\r\n      <defs>\r\n       <path d=\"M 0 0 \r\nL -3.5 0 \r\n\" id=\"m946dc59338\" style=\"stroke:#000000;stroke-width:0.8;\"/>\r\n      </defs>\r\n      <g>\r\n       <use style=\"stroke:#000000;stroke-width:0.8;\" x=\"46.0125\" xlink:href=\"#m946dc59338\" y=\"193.986032\"/>\r\n      </g>\r\n     </g>\r\n     <g id=\"text_9\">\r\n      <!-- 4000 -->\r\n      <g transform=\"translate(13.5625 197.785251)scale(0.1 -0.1)\">\r\n       <defs>\r\n        <path d=\"M 37.796875 64.3125 \r\nL 12.890625 25.390625 \r\nL 37.796875 25.390625 \r\nz\r\nM 35.203125 72.90625 \r\nL 47.609375 72.90625 \r\nL 47.609375 25.390625 \r\nL 58.015625 25.390625 \r\nL 58.015625 17.1875 \r\nL 47.609375 17.1875 \r\nL 47.609375 0 \r\nL 37.796875 0 \r\nL 37.796875 17.1875 \r\nL 4.890625 17.1875 \r\nL 4.890625 26.703125 \r\nz\r\n\" id=\"DejaVuSans-52\"/>\r\n       </defs>\r\n       <use xlink:href=\"#DejaVuSans-52\"/>\r\n       <use x=\"63.623047\" xlink:href=\"#DejaVuSans-48\"/>\r\n       <use x=\"127.246094\" xlink:href=\"#DejaVuSans-48\"/>\r\n       <use x=\"190.869141\" xlink:href=\"#DejaVuSans-48\"/>\r\n      </g>\r\n     </g>\r\n    </g>\r\n    <g id=\"ytick_2\">\r\n     <g id=\"line2d_10\">\r\n      <g>\r\n       <use style=\"stroke:#000000;stroke-width:0.8;\" x=\"46.0125\" xlink:href=\"#m946dc59338\" y=\"158.111716\"/>\r\n      </g>\r\n     </g>\r\n     <g id=\"text_10\">\r\n      <!-- 6000 -->\r\n      <g transform=\"translate(13.5625 161.910935)scale(0.1 -0.1)\">\r\n       <defs>\r\n        <path d=\"M 33.015625 40.375 \r\nQ 26.375 40.375 22.484375 35.828125 \r\nQ 18.609375 31.296875 18.609375 23.390625 \r\nQ 18.609375 15.53125 22.484375 10.953125 \r\nQ 26.375 6.390625 33.015625 6.390625 \r\nQ 39.65625 6.390625 43.53125 10.953125 \r\nQ 47.40625 15.53125 47.40625 23.390625 \r\nQ 47.40625 31.296875 43.53125 35.828125 \r\nQ 39.65625 40.375 33.015625 40.375 \r\nz\r\nM 52.59375 71.296875 \r\nL 52.59375 62.3125 \r\nQ 48.875 64.0625 45.09375 64.984375 \r\nQ 41.3125 65.921875 37.59375 65.921875 \r\nQ 27.828125 65.921875 22.671875 59.328125 \r\nQ 17.53125 52.734375 16.796875 39.40625 \r\nQ 19.671875 43.65625 24.015625 45.921875 \r\nQ 28.375 48.1875 33.59375 48.1875 \r\nQ 44.578125 48.1875 50.953125 41.515625 \r\nQ 57.328125 34.859375 57.328125 23.390625 \r\nQ 57.328125 12.15625 50.6875 5.359375 \r\nQ 44.046875 -1.421875 33.015625 -1.421875 \r\nQ 20.359375 -1.421875 13.671875 8.265625 \r\nQ 6.984375 17.96875 6.984375 36.375 \r\nQ 6.984375 53.65625 15.1875 63.9375 \r\nQ 23.390625 74.21875 37.203125 74.21875 \r\nQ 40.921875 74.21875 44.703125 73.484375 \r\nQ 48.484375 72.75 52.59375 71.296875 \r\nz\r\n\" id=\"DejaVuSans-54\"/>\r\n       </defs>\r\n       <use xlink:href=\"#DejaVuSans-54\"/>\r\n       <use x=\"63.623047\" xlink:href=\"#DejaVuSans-48\"/>\r\n       <use x=\"127.246094\" xlink:href=\"#DejaVuSans-48\"/>\r\n       <use x=\"190.869141\" xlink:href=\"#DejaVuSans-48\"/>\r\n      </g>\r\n     </g>\r\n    </g>\r\n    <g id=\"ytick_3\">\r\n     <g id=\"line2d_11\">\r\n      <g>\r\n       <use style=\"stroke:#000000;stroke-width:0.8;\" x=\"46.0125\" xlink:href=\"#m946dc59338\" y=\"122.2374\"/>\r\n      </g>\r\n     </g>\r\n     <g id=\"text_11\">\r\n      <!-- 8000 -->\r\n      <g transform=\"translate(13.5625 126.036619)scale(0.1 -0.1)\">\r\n       <defs>\r\n        <path d=\"M 31.78125 34.625 \r\nQ 24.75 34.625 20.71875 30.859375 \r\nQ 16.703125 27.09375 16.703125 20.515625 \r\nQ 16.703125 13.921875 20.71875 10.15625 \r\nQ 24.75 6.390625 31.78125 6.390625 \r\nQ 38.8125 6.390625 42.859375 10.171875 \r\nQ 46.921875 13.96875 46.921875 20.515625 \r\nQ 46.921875 27.09375 42.890625 30.859375 \r\nQ 38.875 34.625 31.78125 34.625 \r\nz\r\nM 21.921875 38.8125 \r\nQ 15.578125 40.375 12.03125 44.71875 \r\nQ 8.5 49.078125 8.5 55.328125 \r\nQ 8.5 64.0625 14.71875 69.140625 \r\nQ 20.953125 74.21875 31.78125 74.21875 \r\nQ 42.671875 74.21875 48.875 69.140625 \r\nQ 55.078125 64.0625 55.078125 55.328125 \r\nQ 55.078125 49.078125 51.53125 44.71875 \r\nQ 48 40.375 41.703125 38.8125 \r\nQ 48.828125 37.15625 52.796875 32.3125 \r\nQ 56.78125 27.484375 56.78125 20.515625 \r\nQ 56.78125 9.90625 50.3125 4.234375 \r\nQ 43.84375 -1.421875 31.78125 -1.421875 \r\nQ 19.734375 -1.421875 13.25 4.234375 \r\nQ 6.78125 9.90625 6.78125 20.515625 \r\nQ 6.78125 27.484375 10.78125 32.3125 \r\nQ 14.796875 37.15625 21.921875 38.8125 \r\nz\r\nM 18.3125 54.390625 \r\nQ 18.3125 48.734375 21.84375 45.5625 \r\nQ 25.390625 42.390625 31.78125 42.390625 \r\nQ 38.140625 42.390625 41.71875 45.5625 \r\nQ 45.3125 48.734375 45.3125 54.390625 \r\nQ 45.3125 60.0625 41.71875 63.234375 \r\nQ 38.140625 66.40625 31.78125 66.40625 \r\nQ 25.390625 66.40625 21.84375 63.234375 \r\nQ 18.3125 60.0625 18.3125 54.390625 \r\nz\r\n\" id=\"DejaVuSans-56\"/>\r\n       </defs>\r\n       <use xlink:href=\"#DejaVuSans-56\"/>\r\n       <use x=\"63.623047\" xlink:href=\"#DejaVuSans-48\"/>\r\n       <use x=\"127.246094\" xlink:href=\"#DejaVuSans-48\"/>\r\n       <use x=\"190.869141\" xlink:href=\"#DejaVuSans-48\"/>\r\n      </g>\r\n     </g>\r\n    </g>\r\n    <g id=\"ytick_4\">\r\n     <g id=\"line2d_12\">\r\n      <g>\r\n       <use style=\"stroke:#000000;stroke-width:0.8;\" x=\"46.0125\" xlink:href=\"#m946dc59338\" y=\"86.363085\"/>\r\n      </g>\r\n     </g>\r\n     <g id=\"text_12\">\r\n      <!-- 10000 -->\r\n      <g transform=\"translate(7.2 90.162303)scale(0.1 -0.1)\">\r\n       <use xlink:href=\"#DejaVuSans-49\"/>\r\n       <use x=\"63.623047\" xlink:href=\"#DejaVuSans-48\"/>\r\n       <use x=\"127.246094\" xlink:href=\"#DejaVuSans-48\"/>\r\n       <use x=\"190.869141\" xlink:href=\"#DejaVuSans-48\"/>\r\n       <use x=\"254.492188\" xlink:href=\"#DejaVuSans-48\"/>\r\n      </g>\r\n     </g>\r\n    </g>\r\n    <g id=\"ytick_5\">\r\n     <g id=\"line2d_13\">\r\n      <g>\r\n       <use style=\"stroke:#000000;stroke-width:0.8;\" x=\"46.0125\" xlink:href=\"#m946dc59338\" y=\"50.488769\"/>\r\n      </g>\r\n     </g>\r\n     <g id=\"text_13\">\r\n      <!-- 12000 -->\r\n      <g transform=\"translate(7.2 54.287988)scale(0.1 -0.1)\">\r\n       <use xlink:href=\"#DejaVuSans-49\"/>\r\n       <use x=\"63.623047\" xlink:href=\"#DejaVuSans-50\"/>\r\n       <use x=\"127.246094\" xlink:href=\"#DejaVuSans-48\"/>\r\n       <use x=\"190.869141\" xlink:href=\"#DejaVuSans-48\"/>\r\n       <use x=\"254.492188\" xlink:href=\"#DejaVuSans-48\"/>\r\n      </g>\r\n     </g>\r\n    </g>\r\n    <g id=\"ytick_6\">\r\n     <g id=\"line2d_14\">\r\n      <g>\r\n       <use style=\"stroke:#000000;stroke-width:0.8;\" x=\"46.0125\" xlink:href=\"#m946dc59338\" y=\"14.614453\"/>\r\n      </g>\r\n     </g>\r\n     <g id=\"text_14\">\r\n      <!-- 14000 -->\r\n      <g transform=\"translate(7.2 18.413672)scale(0.1 -0.1)\">\r\n       <use xlink:href=\"#DejaVuSans-49\"/>\r\n       <use x=\"63.623047\" xlink:href=\"#DejaVuSans-52\"/>\r\n       <use x=\"127.246094\" xlink:href=\"#DejaVuSans-48\"/>\r\n       <use x=\"190.869141\" xlink:href=\"#DejaVuSans-48\"/>\r\n       <use x=\"254.492188\" xlink:href=\"#DejaVuSans-48\"/>\r\n      </g>\r\n     </g>\r\n    </g>\r\n   </g>\r\n   <g id=\"line2d_15\">\r\n    <path clip-path=\"url(#pc02bc62fca)\" d=\"M 61.230682 17.083636 \r\nL 77.249821 206.24702 \r\nL 93.268959 210.143738 \r\nL 109.288098 211.274023 \r\nL 125.307237 211.201135 \r\nL 141.326376 213.053847 \r\nL 157.345514 213.096604 \r\nL 173.364653 213.51822 \r\nL 189.383792 213.963844 \r\nL 205.402931 214.756364 \r\nL 221.422069 213.36002 \r\nL 237.441208 214.515612 \r\nL 253.460347 214.116471 \r\nL 269.479486 214.135083 \r\nL 285.498624 212.902294 \r\nL 301.517763 213.527251 \r\nL 317.536902 213.410616 \r\nL 333.556041 212.512681 \r\nL 349.575179 213.031831 \r\nL 365.594318 212.952895 \r\n\" style=\"fill:none;stroke:#1f77b4;stroke-linecap:square;stroke-width:1.5;\"/>\r\n   </g>\r\n   <g id=\"patch_3\">\r\n    <path d=\"M 46.0125 224.64 \r\nL 46.0125 7.2 \r\n\" style=\"fill:none;stroke:#000000;stroke-linecap:square;stroke-linejoin:miter;stroke-width:0.8;\"/>\r\n   </g>\r\n   <g id=\"patch_4\">\r\n    <path d=\"M 380.8125 224.64 \r\nL 380.8125 7.2 \r\n\" style=\"fill:none;stroke:#000000;stroke-linecap:square;stroke-linejoin:miter;stroke-width:0.8;\"/>\r\n   </g>\r\n   <g id=\"patch_5\">\r\n    <path d=\"M 46.0125 224.64 \r\nL 380.8125 224.64 \r\n\" style=\"fill:none;stroke:#000000;stroke-linecap:square;stroke-linejoin:miter;stroke-width:0.8;\"/>\r\n   </g>\r\n   <g id=\"patch_6\">\r\n    <path d=\"M 46.0125 7.2 \r\nL 380.8125 7.2 \r\n\" style=\"fill:none;stroke:#000000;stroke-linecap:square;stroke-linejoin:miter;stroke-width:0.8;\"/>\r\n   </g>\r\n  </g>\r\n </g>\r\n <defs>\r\n  <clipPath id=\"pc02bc62fca\">\r\n   <rect height=\"217.44\" width=\"334.8\" x=\"46.0125\" y=\"7.2\"/>\r\n  </clipPath>\r\n </defs>\r\n</svg>\r\n",
      "image/png": "[encoded data removed]"
     },
     "metadata": {
      "needs_background": "light"
     }
    }
   ],
   "source": [
    "rmse = []\n",
    "params =  {'learning_rate': 0.03, 'n_estimators': 500, 'max_depth': 5, 'min_child_weight': 1, 'gamma': 0.0, 'subsample': 0.65, 'colsample_bytree': 0.25, 'objective': 'reg:squarederror', 'nthread': 4, 'scale_pos_weight': 1, 'seed': 17, 'reg_alpha': 140}\n",
    "for i in range(1,101,5):\n",
    "    params['subsample'] = (i-1)/100\n",
    "\n",
    "    rmse.append(ra.Compare_data(ra.xgb_analysis(x,y,params),test))\n",
    "plt.plot(rmse) "
   ]
  },
  {
   "cell_type": "code",
   "execution_count": 641,
   "metadata": {},
   "outputs": [
    {
     "output_type": "execute_result",
     "data": {
      "text/plain": [
       "[3453.5068317331306,\n",
       " 3453.5068317331306,\n",
       " 2854.5780466655615,\n",
       " 2810.504505217584,\n",
       " 2880.9566851639815,\n",
       " 2796.0406508302535,\n",
       " 2820.171145761287,\n",
       " 2927.730288500621,\n",
       " 2902.782496038688,\n",
       " 2954.567621859958,\n",
       " 2877.439296902552,\n",
       " 2915.8712671453254,\n",
       " 2893.4846291039535,\n",
       " 2877.5811745384717,\n",
       " 2888.690559827746,\n",
       " 2907.73183222292,\n",
       " 2939.5538034284787,\n",
       " 2972.6422585618143,\n",
       " 2971.376392114439,\n",
       " 2994.876632669371]"
      ]
     },
     "metadata": {},
     "execution_count": 641
    }
   ],
   "source": [
    "rmse"
   ]
  },
  {
   "cell_type": "code",
   "execution_count": 640,
   "metadata": {},
   "outputs": [
    {
     "output_type": "execute_result",
     "data": {
      "text/plain": [
       "[<matplotlib.lines.Line2D at 0x1b56c848790>]"
      ]
     },
     "metadata": {},
     "execution_count": 640
    },
    {
     "output_type": "display_data",
     "data": {
      "text/plain": "<Figure size 432x288 with 1 Axes>",
      "image/svg+xml": "<?xml version=\"1.0\" encoding=\"utf-8\" standalone=\"no\"?>\r\n<!DOCTYPE svg PUBLIC \"-//W3C//DTD SVG 1.1//EN\"\r\n  \"http://www.w3.org/Graphics/SVG/1.1/DTD/svg11.dtd\">\r\n<!-- Created with matplotlib (https://matplotlib.org/) -->\r\n<svg height=\"248.518125pt\" version=\"1.1\" viewBox=\"0 0 381.65 248.518125\" width=\"381.65pt\" xmlns=\"http://www.w3.org/2000/svg\" xmlns:xlink=\"http://www.w3.org/1999/xlink\">\r\n <metadata>\r\n  <rdf:RDF xmlns:cc=\"http://creativecommons.org/ns#\" xmlns:dc=\"http://purl.org/dc/elements/1.1/\" xmlns:rdf=\"http://www.w3.org/1999/02/22-rdf-syntax-ns#\">\r\n   <cc:Work>\r\n    <dc:type rdf:resource=\"http://purl.org/dc/dcmitype/StillImage\"/>\r\n    <dc:date>2021-06-04T18:18:42.366116</dc:date>\r\n    <dc:format>image/svg+xml</dc:format>\r\n    <dc:creator>\r\n     <cc:Agent>\r\n      <dc:title>Matplotlib v3.3.2, https://matplotlib.org/</dc:title>\r\n     </cc:Agent>\r\n    </dc:creator>\r\n   </cc:Work>\r\n  </rdf:RDF>\r\n </metadata>\r\n <defs>\r\n  <style type=\"text/css\">*{stroke-linecap:butt;stroke-linejoin:round;}</style>\r\n </defs>\r\n <g id=\"figure_1\">\r\n  <g id=\"patch_1\">\r\n   <path d=\"M -0 248.518125 \r\nL 381.65 248.518125 \r\nL 381.65 0 \r\nL -0 0 \r\nz\r\n\" style=\"fill:none;\"/>\r\n  </g>\r\n  <g id=\"axes_1\">\r\n   <g id=\"patch_2\">\r\n    <path d=\"M 39.65 224.64 \r\nL 374.45 224.64 \r\nL 374.45 7.2 \r\nL 39.65 7.2 \r\nz\r\n\" style=\"fill:#ffffff;\"/>\r\n   </g>\r\n   <g id=\"matplotlib.axis_1\">\r\n    <g id=\"xtick_1\">\r\n     <g id=\"line2d_1\">\r\n      <defs>\r\n       <path d=\"M 0 0 \r\nL 0 3.5 \r\n\" id=\"m47cf34959e\" style=\"stroke:#000000;stroke-width:0.8;\"/>\r\n      </defs>\r\n      <g>\r\n       <use style=\"stroke:#000000;stroke-width:0.8;\" x=\"54.868182\" xlink:href=\"#m47cf34959e\" y=\"224.64\"/>\r\n      </g>\r\n     </g>\r\n     <g id=\"text_1\">\r\n      <!-- 0.0 -->\r\n      <g transform=\"translate(46.916619 239.238438)scale(0.1 -0.1)\">\r\n       <defs>\r\n        <path d=\"M 31.78125 66.40625 \r\nQ 24.171875 66.40625 20.328125 58.90625 \r\nQ 16.5 51.421875 16.5 36.375 \r\nQ 16.5 21.390625 20.328125 13.890625 \r\nQ 24.171875 6.390625 31.78125 6.390625 \r\nQ 39.453125 6.390625 43.28125 13.890625 \r\nQ 47.125 21.390625 47.125 36.375 \r\nQ 47.125 51.421875 43.28125 58.90625 \r\nQ 39.453125 66.40625 31.78125 66.40625 \r\nz\r\nM 31.78125 74.21875 \r\nQ 44.046875 74.21875 50.515625 64.515625 \r\nQ 56.984375 54.828125 56.984375 36.375 \r\nQ 56.984375 17.96875 50.515625 8.265625 \r\nQ 44.046875 -1.421875 31.78125 -1.421875 \r\nQ 19.53125 -1.421875 13.0625 8.265625 \r\nQ 6.59375 17.96875 6.59375 36.375 \r\nQ 6.59375 54.828125 13.0625 64.515625 \r\nQ 19.53125 74.21875 31.78125 74.21875 \r\nz\r\n\" id=\"DejaVuSans-48\"/>\r\n        <path d=\"M 10.6875 12.40625 \r\nL 21 12.40625 \r\nL 21 0 \r\nL 10.6875 0 \r\nz\r\n\" id=\"DejaVuSans-46\"/>\r\n       </defs>\r\n       <use xlink:href=\"#DejaVuSans-48\"/>\r\n       <use x=\"63.623047\" xlink:href=\"#DejaVuSans-46\"/>\r\n       <use x=\"95.410156\" xlink:href=\"#DejaVuSans-48\"/>\r\n      </g>\r\n     </g>\r\n    </g>\r\n    <g id=\"xtick_2\">\r\n     <g id=\"line2d_2\">\r\n      <g>\r\n       <use style=\"stroke:#000000;stroke-width:0.8;\" x=\"94.916029\" xlink:href=\"#m47cf34959e\" y=\"224.64\"/>\r\n      </g>\r\n     </g>\r\n     <g id=\"text_2\">\r\n      <!-- 2.5 -->\r\n      <g transform=\"translate(86.964466 239.238438)scale(0.1 -0.1)\">\r\n       <defs>\r\n        <path d=\"M 19.1875 8.296875 \r\nL 53.609375 8.296875 \r\nL 53.609375 0 \r\nL 7.328125 0 \r\nL 7.328125 8.296875 \r\nQ 12.9375 14.109375 22.625 23.890625 \r\nQ 32.328125 33.6875 34.8125 36.53125 \r\nQ 39.546875 41.84375 41.421875 45.53125 \r\nQ 43.3125 49.21875 43.3125 52.78125 \r\nQ 43.3125 58.59375 39.234375 62.25 \r\nQ 35.15625 65.921875 28.609375 65.921875 \r\nQ 23.96875 65.921875 18.8125 64.3125 \r\nQ 13.671875 62.703125 7.8125 59.421875 \r\nL 7.8125 69.390625 \r\nQ 13.765625 71.78125 18.9375 73 \r\nQ 24.125 74.21875 28.421875 74.21875 \r\nQ 39.75 74.21875 46.484375 68.546875 \r\nQ 53.21875 62.890625 53.21875 53.421875 \r\nQ 53.21875 48.921875 51.53125 44.890625 \r\nQ 49.859375 40.875 45.40625 35.40625 \r\nQ 44.1875 33.984375 37.640625 27.21875 \r\nQ 31.109375 20.453125 19.1875 8.296875 \r\nz\r\n\" id=\"DejaVuSans-50\"/>\r\n        <path d=\"M 10.796875 72.90625 \r\nL 49.515625 72.90625 \r\nL 49.515625 64.59375 \r\nL 19.828125 64.59375 \r\nL 19.828125 46.734375 \r\nQ 21.96875 47.46875 24.109375 47.828125 \r\nQ 26.265625 48.1875 28.421875 48.1875 \r\nQ 40.625 48.1875 47.75 41.5 \r\nQ 54.890625 34.8125 54.890625 23.390625 \r\nQ 54.890625 11.625 47.5625 5.09375 \r\nQ 40.234375 -1.421875 26.90625 -1.421875 \r\nQ 22.3125 -1.421875 17.546875 -0.640625 \r\nQ 12.796875 0.140625 7.71875 1.703125 \r\nL 7.71875 11.625 \r\nQ 12.109375 9.234375 16.796875 8.0625 \r\nQ 21.484375 6.890625 26.703125 6.890625 \r\nQ 35.15625 6.890625 40.078125 11.328125 \r\nQ 45.015625 15.765625 45.015625 23.390625 \r\nQ 45.015625 31 40.078125 35.4375 \r\nQ 35.15625 39.890625 26.703125 39.890625 \r\nQ 22.75 39.890625 18.8125 39.015625 \r\nQ 14.890625 38.140625 10.796875 36.28125 \r\nz\r\n\" id=\"DejaVuSans-53\"/>\r\n       </defs>\r\n       <use xlink:href=\"#DejaVuSans-50\"/>\r\n       <use x=\"63.623047\" xlink:href=\"#DejaVuSans-46\"/>\r\n       <use x=\"95.410156\" xlink:href=\"#DejaVuSans-53\"/>\r\n      </g>\r\n     </g>\r\n    </g>\r\n    <g id=\"xtick_3\">\r\n     <g id=\"line2d_3\">\r\n      <g>\r\n       <use style=\"stroke:#000000;stroke-width:0.8;\" x=\"134.963876\" xlink:href=\"#m47cf34959e\" y=\"224.64\"/>\r\n      </g>\r\n     </g>\r\n     <g id=\"text_3\">\r\n      <!-- 5.0 -->\r\n      <g transform=\"translate(127.012313 239.238438)scale(0.1 -0.1)\">\r\n       <use xlink:href=\"#DejaVuSans-53\"/>\r\n       <use x=\"63.623047\" xlink:href=\"#DejaVuSans-46\"/>\r\n       <use x=\"95.410156\" xlink:href=\"#DejaVuSans-48\"/>\r\n      </g>\r\n     </g>\r\n    </g>\r\n    <g id=\"xtick_4\">\r\n     <g id=\"line2d_4\">\r\n      <g>\r\n       <use style=\"stroke:#000000;stroke-width:0.8;\" x=\"175.011722\" xlink:href=\"#m47cf34959e\" y=\"224.64\"/>\r\n      </g>\r\n     </g>\r\n     <g id=\"text_4\">\r\n      <!-- 7.5 -->\r\n      <g transform=\"translate(167.06016 239.238438)scale(0.1 -0.1)\">\r\n       <defs>\r\n        <path d=\"M 8.203125 72.90625 \r\nL 55.078125 72.90625 \r\nL 55.078125 68.703125 \r\nL 28.609375 0 \r\nL 18.3125 0 \r\nL 43.21875 64.59375 \r\nL 8.203125 64.59375 \r\nz\r\n\" id=\"DejaVuSans-55\"/>\r\n       </defs>\r\n       <use xlink:href=\"#DejaVuSans-55\"/>\r\n       <use x=\"63.623047\" xlink:href=\"#DejaVuSans-46\"/>\r\n       <use x=\"95.410156\" xlink:href=\"#DejaVuSans-53\"/>\r\n      </g>\r\n     </g>\r\n    </g>\r\n    <g id=\"xtick_5\">\r\n     <g id=\"line2d_5\">\r\n      <g>\r\n       <use style=\"stroke:#000000;stroke-width:0.8;\" x=\"215.059569\" xlink:href=\"#m47cf34959e\" y=\"224.64\"/>\r\n      </g>\r\n     </g>\r\n     <g id=\"text_5\">\r\n      <!-- 10.0 -->\r\n      <g transform=\"translate(203.926757 239.238438)scale(0.1 -0.1)\">\r\n       <defs>\r\n        <path d=\"M 12.40625 8.296875 \r\nL 28.515625 8.296875 \r\nL 28.515625 63.921875 \r\nL 10.984375 60.40625 \r\nL 10.984375 69.390625 \r\nL 28.421875 72.90625 \r\nL 38.28125 72.90625 \r\nL 38.28125 8.296875 \r\nL 54.390625 8.296875 \r\nL 54.390625 0 \r\nL 12.40625 0 \r\nz\r\n\" id=\"DejaVuSans-49\"/>\r\n       </defs>\r\n       <use xlink:href=\"#DejaVuSans-49\"/>\r\n       <use x=\"63.623047\" xlink:href=\"#DejaVuSans-48\"/>\r\n       <use x=\"127.246094\" xlink:href=\"#DejaVuSans-46\"/>\r\n       <use x=\"159.033203\" xlink:href=\"#DejaVuSans-48\"/>\r\n      </g>\r\n     </g>\r\n    </g>\r\n    <g id=\"xtick_6\">\r\n     <g id=\"line2d_6\">\r\n      <g>\r\n       <use style=\"stroke:#000000;stroke-width:0.8;\" x=\"255.107416\" xlink:href=\"#m47cf34959e\" y=\"224.64\"/>\r\n      </g>\r\n     </g>\r\n     <g id=\"text_6\">\r\n      <!-- 12.5 -->\r\n      <g transform=\"translate(243.974604 239.238438)scale(0.1 -0.1)\">\r\n       <use xlink:href=\"#DejaVuSans-49\"/>\r\n       <use x=\"63.623047\" xlink:href=\"#DejaVuSans-50\"/>\r\n       <use x=\"127.246094\" xlink:href=\"#DejaVuSans-46\"/>\r\n       <use x=\"159.033203\" xlink:href=\"#DejaVuSans-53\"/>\r\n      </g>\r\n     </g>\r\n    </g>\r\n    <g id=\"xtick_7\">\r\n     <g id=\"line2d_7\">\r\n      <g>\r\n       <use style=\"stroke:#000000;stroke-width:0.8;\" x=\"295.155263\" xlink:href=\"#m47cf34959e\" y=\"224.64\"/>\r\n      </g>\r\n     </g>\r\n     <g id=\"text_7\">\r\n      <!-- 15.0 -->\r\n      <g transform=\"translate(284.022451 239.238438)scale(0.1 -0.1)\">\r\n       <use xlink:href=\"#DejaVuSans-49\"/>\r\n       <use x=\"63.623047\" xlink:href=\"#DejaVuSans-53\"/>\r\n       <use x=\"127.246094\" xlink:href=\"#DejaVuSans-46\"/>\r\n       <use x=\"159.033203\" xlink:href=\"#DejaVuSans-48\"/>\r\n      </g>\r\n     </g>\r\n    </g>\r\n    <g id=\"xtick_8\">\r\n     <g id=\"line2d_8\">\r\n      <g>\r\n       <use style=\"stroke:#000000;stroke-width:0.8;\" x=\"335.20311\" xlink:href=\"#m47cf34959e\" y=\"224.64\"/>\r\n      </g>\r\n     </g>\r\n     <g id=\"text_8\">\r\n      <!-- 17.5 -->\r\n      <g transform=\"translate(324.070298 239.238438)scale(0.1 -0.1)\">\r\n       <use xlink:href=\"#DejaVuSans-49\"/>\r\n       <use x=\"63.623047\" xlink:href=\"#DejaVuSans-55\"/>\r\n       <use x=\"127.246094\" xlink:href=\"#DejaVuSans-46\"/>\r\n       <use x=\"159.033203\" xlink:href=\"#DejaVuSans-53\"/>\r\n      </g>\r\n     </g>\r\n    </g>\r\n   </g>\r\n   <g id=\"matplotlib.axis_2\">\r\n    <g id=\"ytick_1\">\r\n     <g id=\"line2d_9\">\r\n      <defs>\r\n       <path d=\"M 0 0 \r\nL -3.5 0 \r\n\" id=\"m4e463968fe\" style=\"stroke:#000000;stroke-width:0.8;\"/>\r\n      </defs>\r\n      <g>\r\n       <use style=\"stroke:#000000;stroke-width:0.8;\" x=\"39.65\" xlink:href=\"#m4e463968fe\" y=\"213.565952\"/>\r\n      </g>\r\n     </g>\r\n     <g id=\"text_9\">\r\n      <!-- 2800 -->\r\n      <g transform=\"translate(7.2 217.365171)scale(0.1 -0.1)\">\r\n       <defs>\r\n        <path d=\"M 31.78125 34.625 \r\nQ 24.75 34.625 20.71875 30.859375 \r\nQ 16.703125 27.09375 16.703125 20.515625 \r\nQ 16.703125 13.921875 20.71875 10.15625 \r\nQ 24.75 6.390625 31.78125 6.390625 \r\nQ 38.8125 6.390625 42.859375 10.171875 \r\nQ 46.921875 13.96875 46.921875 20.515625 \r\nQ 46.921875 27.09375 42.890625 30.859375 \r\nQ 38.875 34.625 31.78125 34.625 \r\nz\r\nM 21.921875 38.8125 \r\nQ 15.578125 40.375 12.03125 44.71875 \r\nQ 8.5 49.078125 8.5 55.328125 \r\nQ 8.5 64.0625 14.71875 69.140625 \r\nQ 20.953125 74.21875 31.78125 74.21875 \r\nQ 42.671875 74.21875 48.875 69.140625 \r\nQ 55.078125 64.0625 55.078125 55.328125 \r\nQ 55.078125 49.078125 51.53125 44.71875 \r\nQ 48 40.375 41.703125 38.8125 \r\nQ 48.828125 37.15625 52.796875 32.3125 \r\nQ 56.78125 27.484375 56.78125 20.515625 \r\nQ 56.78125 9.90625 50.3125 4.234375 \r\nQ 43.84375 -1.421875 31.78125 -1.421875 \r\nQ 19.734375 -1.421875 13.25 4.234375 \r\nQ 6.78125 9.90625 6.78125 20.515625 \r\nQ 6.78125 27.484375 10.78125 32.3125 \r\nQ 14.796875 37.15625 21.921875 38.8125 \r\nz\r\nM 18.3125 54.390625 \r\nQ 18.3125 48.734375 21.84375 45.5625 \r\nQ 25.390625 42.390625 31.78125 42.390625 \r\nQ 38.140625 42.390625 41.71875 45.5625 \r\nQ 45.3125 48.734375 45.3125 54.390625 \r\nQ 45.3125 60.0625 41.71875 63.234375 \r\nQ 38.140625 66.40625 31.78125 66.40625 \r\nQ 25.390625 66.40625 21.84375 63.234375 \r\nQ 18.3125 60.0625 18.3125 54.390625 \r\nz\r\n\" id=\"DejaVuSans-56\"/>\r\n       </defs>\r\n       <use xlink:href=\"#DejaVuSans-50\"/>\r\n       <use x=\"63.623047\" xlink:href=\"#DejaVuSans-56\"/>\r\n       <use x=\"127.246094\" xlink:href=\"#DejaVuSans-48\"/>\r\n       <use x=\"190.869141\" xlink:href=\"#DejaVuSans-48\"/>\r\n      </g>\r\n     </g>\r\n    </g>\r\n    <g id=\"ytick_2\">\r\n     <g id=\"line2d_10\">\r\n      <g>\r\n       <use style=\"stroke:#000000;stroke-width:0.8;\" x=\"39.65\" xlink:href=\"#m4e463968fe\" y=\"183.500112\"/>\r\n      </g>\r\n     </g>\r\n     <g id=\"text_10\">\r\n      <!-- 2900 -->\r\n      <g transform=\"translate(7.2 187.299331)scale(0.1 -0.1)\">\r\n       <defs>\r\n        <path d=\"M 10.984375 1.515625 \r\nL 10.984375 10.5 \r\nQ 14.703125 8.734375 18.5 7.8125 \r\nQ 22.3125 6.890625 25.984375 6.890625 \r\nQ 35.75 6.890625 40.890625 13.453125 \r\nQ 46.046875 20.015625 46.78125 33.40625 \r\nQ 43.953125 29.203125 39.59375 26.953125 \r\nQ 35.25 24.703125 29.984375 24.703125 \r\nQ 19.046875 24.703125 12.671875 31.3125 \r\nQ 6.296875 37.9375 6.296875 49.421875 \r\nQ 6.296875 60.640625 12.9375 67.421875 \r\nQ 19.578125 74.21875 30.609375 74.21875 \r\nQ 43.265625 74.21875 49.921875 64.515625 \r\nQ 56.59375 54.828125 56.59375 36.375 \r\nQ 56.59375 19.140625 48.40625 8.859375 \r\nQ 40.234375 -1.421875 26.421875 -1.421875 \r\nQ 22.703125 -1.421875 18.890625 -0.6875 \r\nQ 15.09375 0.046875 10.984375 1.515625 \r\nz\r\nM 30.609375 32.421875 \r\nQ 37.25 32.421875 41.125 36.953125 \r\nQ 45.015625 41.5 45.015625 49.421875 \r\nQ 45.015625 57.28125 41.125 61.84375 \r\nQ 37.25 66.40625 30.609375 66.40625 \r\nQ 23.96875 66.40625 20.09375 61.84375 \r\nQ 16.21875 57.28125 16.21875 49.421875 \r\nQ 16.21875 41.5 20.09375 36.953125 \r\nQ 23.96875 32.421875 30.609375 32.421875 \r\nz\r\n\" id=\"DejaVuSans-57\"/>\r\n       </defs>\r\n       <use xlink:href=\"#DejaVuSans-50\"/>\r\n       <use x=\"63.623047\" xlink:href=\"#DejaVuSans-57\"/>\r\n       <use x=\"127.246094\" xlink:href=\"#DejaVuSans-48\"/>\r\n       <use x=\"190.869141\" xlink:href=\"#DejaVuSans-48\"/>\r\n      </g>\r\n     </g>\r\n    </g>\r\n    <g id=\"ytick_3\">\r\n     <g id=\"line2d_11\">\r\n      <g>\r\n       <use style=\"stroke:#000000;stroke-width:0.8;\" x=\"39.65\" xlink:href=\"#m4e463968fe\" y=\"153.434273\"/>\r\n      </g>\r\n     </g>\r\n     <g id=\"text_11\">\r\n      <!-- 3000 -->\r\n      <g transform=\"translate(7.2 157.233492)scale(0.1 -0.1)\">\r\n       <defs>\r\n        <path d=\"M 40.578125 39.3125 \r\nQ 47.65625 37.796875 51.625 33 \r\nQ 55.609375 28.21875 55.609375 21.1875 \r\nQ 55.609375 10.40625 48.1875 4.484375 \r\nQ 40.765625 -1.421875 27.09375 -1.421875 \r\nQ 22.515625 -1.421875 17.65625 -0.515625 \r\nQ 12.796875 0.390625 7.625 2.203125 \r\nL 7.625 11.71875 \r\nQ 11.71875 9.328125 16.59375 8.109375 \r\nQ 21.484375 6.890625 26.8125 6.890625 \r\nQ 36.078125 6.890625 40.9375 10.546875 \r\nQ 45.796875 14.203125 45.796875 21.1875 \r\nQ 45.796875 27.640625 41.28125 31.265625 \r\nQ 36.765625 34.90625 28.71875 34.90625 \r\nL 20.21875 34.90625 \r\nL 20.21875 43.015625 \r\nL 29.109375 43.015625 \r\nQ 36.375 43.015625 40.234375 45.921875 \r\nQ 44.09375 48.828125 44.09375 54.296875 \r\nQ 44.09375 59.90625 40.109375 62.90625 \r\nQ 36.140625 65.921875 28.71875 65.921875 \r\nQ 24.65625 65.921875 20.015625 65.03125 \r\nQ 15.375 64.15625 9.8125 62.3125 \r\nL 9.8125 71.09375 \r\nQ 15.4375 72.65625 20.34375 73.4375 \r\nQ 25.25 74.21875 29.59375 74.21875 \r\nQ 40.828125 74.21875 47.359375 69.109375 \r\nQ 53.90625 64.015625 53.90625 55.328125 \r\nQ 53.90625 49.265625 50.4375 45.09375 \r\nQ 46.96875 40.921875 40.578125 39.3125 \r\nz\r\n\" id=\"DejaVuSans-51\"/>\r\n       </defs>\r\n       <use xlink:href=\"#DejaVuSans-51\"/>\r\n       <use x=\"63.623047\" xlink:href=\"#DejaVuSans-48\"/>\r\n       <use x=\"127.246094\" xlink:href=\"#DejaVuSans-48\"/>\r\n       <use x=\"190.869141\" xlink:href=\"#DejaVuSans-48\"/>\r\n      </g>\r\n     </g>\r\n    </g>\r\n    <g id=\"ytick_4\">\r\n     <g id=\"line2d_12\">\r\n      <g>\r\n       <use style=\"stroke:#000000;stroke-width:0.8;\" x=\"39.65\" xlink:href=\"#m4e463968fe\" y=\"123.368433\"/>\r\n      </g>\r\n     </g>\r\n     <g id=\"text_12\">\r\n      <!-- 3100 -->\r\n      <g transform=\"translate(7.2 127.167652)scale(0.1 -0.1)\">\r\n       <use xlink:href=\"#DejaVuSans-51\"/>\r\n       <use x=\"63.623047\" xlink:href=\"#DejaVuSans-49\"/>\r\n       <use x=\"127.246094\" xlink:href=\"#DejaVuSans-48\"/>\r\n       <use x=\"190.869141\" xlink:href=\"#DejaVuSans-48\"/>\r\n      </g>\r\n     </g>\r\n    </g>\r\n    <g id=\"ytick_5\">\r\n     <g id=\"line2d_13\">\r\n      <g>\r\n       <use style=\"stroke:#000000;stroke-width:0.8;\" x=\"39.65\" xlink:href=\"#m4e463968fe\" y=\"93.302594\"/>\r\n      </g>\r\n     </g>\r\n     <g id=\"text_13\">\r\n      <!-- 3200 -->\r\n      <g transform=\"translate(7.2 97.101812)scale(0.1 -0.1)\">\r\n       <use xlink:href=\"#DejaVuSans-51\"/>\r\n       <use x=\"63.623047\" xlink:href=\"#DejaVuSans-50\"/>\r\n       <use x=\"127.246094\" xlink:href=\"#DejaVuSans-48\"/>\r\n       <use x=\"190.869141\" xlink:href=\"#DejaVuSans-48\"/>\r\n      </g>\r\n     </g>\r\n    </g>\r\n    <g id=\"ytick_6\">\r\n     <g id=\"line2d_14\">\r\n      <g>\r\n       <use style=\"stroke:#000000;stroke-width:0.8;\" x=\"39.65\" xlink:href=\"#m4e463968fe\" y=\"63.236754\"/>\r\n      </g>\r\n     </g>\r\n     <g id=\"text_14\">\r\n      <!-- 3300 -->\r\n      <g transform=\"translate(7.2 67.035973)scale(0.1 -0.1)\">\r\n       <use xlink:href=\"#DejaVuSans-51\"/>\r\n       <use x=\"63.623047\" xlink:href=\"#DejaVuSans-51\"/>\r\n       <use x=\"127.246094\" xlink:href=\"#DejaVuSans-48\"/>\r\n       <use x=\"190.869141\" xlink:href=\"#DejaVuSans-48\"/>\r\n      </g>\r\n     </g>\r\n    </g>\r\n    <g id=\"ytick_7\">\r\n     <g id=\"line2d_15\">\r\n      <g>\r\n       <use style=\"stroke:#000000;stroke-width:0.8;\" x=\"39.65\" xlink:href=\"#m4e463968fe\" y=\"33.170915\"/>\r\n      </g>\r\n     </g>\r\n     <g id=\"text_15\">\r\n      <!-- 3400 -->\r\n      <g transform=\"translate(7.2 36.970133)scale(0.1 -0.1)\">\r\n       <defs>\r\n        <path d=\"M 37.796875 64.3125 \r\nL 12.890625 25.390625 \r\nL 37.796875 25.390625 \r\nz\r\nM 35.203125 72.90625 \r\nL 47.609375 72.90625 \r\nL 47.609375 25.390625 \r\nL 58.015625 25.390625 \r\nL 58.015625 17.1875 \r\nL 47.609375 17.1875 \r\nL 47.609375 0 \r\nL 37.796875 0 \r\nL 37.796875 17.1875 \r\nL 4.890625 17.1875 \r\nL 4.890625 26.703125 \r\nz\r\n\" id=\"DejaVuSans-52\"/>\r\n       </defs>\r\n       <use xlink:href=\"#DejaVuSans-51\"/>\r\n       <use x=\"63.623047\" xlink:href=\"#DejaVuSans-52\"/>\r\n       <use x=\"127.246094\" xlink:href=\"#DejaVuSans-48\"/>\r\n       <use x=\"190.869141\" xlink:href=\"#DejaVuSans-48\"/>\r\n      </g>\r\n     </g>\r\n    </g>\r\n   </g>\r\n   <g id=\"line2d_16\">\r\n    <path clip-path=\"url(#p62a6731b6f)\" d=\"M 54.868182 17.083636 \r\nL 70.887321 17.083636 \r\nL 86.906459 197.156604 \r\nL 102.925598 210.407684 \r\nL 118.944737 189.225645 \r\nL 134.963876 214.756364 \r\nL 150.983014 207.501328 \r\nL 167.002153 175.162768 \r\nL 183.021292 182.663532 \r\nL 199.040431 167.093899 \r\nL 215.059569 190.283177 \r\nL 231.078708 178.728283 \r\nL 247.097847 185.459013 \r\nL 263.116986 190.240521 \r\nL 279.136124 186.900391 \r\nL 295.155263 181.175472 \r\nL 311.174402 171.607929 \r\nL 327.193541 161.659608 \r\nL 343.212679 162.040201 \r\nL 359.231818 154.974656 \r\n\" style=\"fill:none;stroke:#1f77b4;stroke-linecap:square;stroke-width:1.5;\"/>\r\n   </g>\r\n   <g id=\"patch_3\">\r\n    <path d=\"M 39.65 224.64 \r\nL 39.65 7.2 \r\n\" style=\"fill:none;stroke:#000000;stroke-linecap:square;stroke-linejoin:miter;stroke-width:0.8;\"/>\r\n   </g>\r\n   <g id=\"patch_4\">\r\n    <path d=\"M 374.45 224.64 \r\nL 374.45 7.2 \r\n\" style=\"fill:none;stroke:#000000;stroke-linecap:square;stroke-linejoin:miter;stroke-width:0.8;\"/>\r\n   </g>\r\n   <g id=\"patch_5\">\r\n    <path d=\"M 39.65 224.64 \r\nL 374.45 224.64 \r\n\" style=\"fill:none;stroke:#000000;stroke-linecap:square;stroke-linejoin:miter;stroke-width:0.8;\"/>\r\n   </g>\r\n   <g id=\"patch_6\">\r\n    <path d=\"M 39.65 7.2 \r\nL 374.45 7.2 \r\n\" style=\"fill:none;stroke:#000000;stroke-linecap:square;stroke-linejoin:miter;stroke-width:0.8;\"/>\r\n   </g>\r\n  </g>\r\n </g>\r\n <defs>\r\n  <clipPath id=\"p62a6731b6f\">\r\n   <rect height=\"217.44\" width=\"334.8\" x=\"39.65\" y=\"7.2\"/>\r\n  </clipPath>\r\n </defs>\r\n</svg>\r\n",
      "image/png": "[encoded data removed]"
     },
     "metadata": {
      "needs_background": "light"
     }
    }
   ],
   "source": [
    "rmse = []\n",
    "params =  {'learning_rate': 0.03, 'n_estimators': 500, 'max_depth': 5, 'min_child_weight': 1, 'gamma': 0.0, 'subsample': 0.65, 'colsample_bytree': 0.25, 'objective': 'reg:squarederror', 'nthread': 4, 'scale_pos_weight': 1, 'seed': 17, 'reg_alpha': 140}\n",
    "for i in range(1,101,5):\n",
    "    params['colsample_bytree'] = (i-1)/100\n",
    "\n",
    "    rmse.append(ra.Compare_data(ra.xgb_analysis(x,y,params),test))\n",
    "plt.plot(rmse) "
   ]
  },
  {
   "cell_type": "code",
   "execution_count": 481,
   "metadata": {},
   "outputs": [
    {
     "output_type": "error",
     "ename": "KeyboardInterrupt",
     "evalue": "",
     "traceback": [
      "\u001b[1;31m---------------------------------------------------------------------------\u001b[0m",
      "\u001b[1;31mKeyboardInterrupt\u001b[0m                         Traceback (most recent call last)",
      "\u001b[1;32m<ipython-input-481-10f65c9ba239>\u001b[0m in \u001b[0;36m<module>\u001b[1;34m\u001b[0m\n\u001b[0;32m      4\u001b[0m     \u001b[0mparams\u001b[0m\u001b[1;33m[\u001b[0m\u001b[1;34m'learning_rate'\u001b[0m\u001b[1;33m]\u001b[0m \u001b[1;33m=\u001b[0m \u001b[1;33m(\u001b[0m\u001b[0mi\u001b[0m\u001b[1;33m-\u001b[0m\u001b[1;36m1\u001b[0m\u001b[1;33m)\u001b[0m\u001b[1;33m/\u001b[0m\u001b[1;36m100\u001b[0m\u001b[1;33m\u001b[0m\u001b[1;33m\u001b[0m\u001b[0m\n\u001b[0;32m      5\u001b[0m \u001b[1;33m\u001b[0m\u001b[0m\n\u001b[1;32m----> 6\u001b[1;33m     \u001b[0mrmse\u001b[0m\u001b[1;33m.\u001b[0m\u001b[0mappend\u001b[0m\u001b[1;33m(\u001b[0m\u001b[0mra\u001b[0m\u001b[1;33m.\u001b[0m\u001b[0mCompare_data\u001b[0m\u001b[1;33m(\u001b[0m\u001b[0mra\u001b[0m\u001b[1;33m.\u001b[0m\u001b[0mxgb_analysis\u001b[0m\u001b[1;33m(\u001b[0m\u001b[0mx\u001b[0m\u001b[1;33m,\u001b[0m\u001b[0my\u001b[0m\u001b[1;33m,\u001b[0m\u001b[0mparams\u001b[0m\u001b[1;33m)\u001b[0m\u001b[1;33m,\u001b[0m\u001b[0mtest\u001b[0m\u001b[1;33m)\u001b[0m\u001b[1;33m)\u001b[0m\u001b[1;33m\u001b[0m\u001b[1;33m\u001b[0m\u001b[0m\n\u001b[0m\u001b[0;32m      7\u001b[0m \u001b[0mplt\u001b[0m\u001b[1;33m.\u001b[0m\u001b[0mplot\u001b[0m\u001b[1;33m(\u001b[0m\u001b[0mrmse\u001b[0m\u001b[1;33m)\u001b[0m\u001b[1;33m\u001b[0m\u001b[1;33m\u001b[0m\u001b[0m\n",
      "\u001b[1;32mc:\\Users\\satof\\Documents\\signate_jleague\\src\\reg_analysis.py\u001b[0m in \u001b[0;36mxgb_analysis\u001b[1;34m(x, y, param, print)\u001b[0m\n\u001b[0;32m     55\u001b[0m \u001b[1;33m\u001b[0m\u001b[0m\n\u001b[0;32m     56\u001b[0m \u001b[1;33m\u001b[0m\u001b[0m\n\u001b[1;32m---> 57\u001b[1;33m     \u001b[0mmodel\u001b[0m\u001b[1;33m.\u001b[0m\u001b[0mfit\u001b[0m\u001b[1;33m(\u001b[0m\u001b[0mX_train\u001b[0m\u001b[1;33m,\u001b[0m\u001b[0my_train\u001b[0m\u001b[1;33m)\u001b[0m\u001b[1;33m\u001b[0m\u001b[1;33m\u001b[0m\u001b[0m\n\u001b[0m\u001b[0;32m     58\u001b[0m \u001b[1;33m\u001b[0m\u001b[0m\n\u001b[0;32m     59\u001b[0m     \u001b[0mpred\u001b[0m \u001b[1;33m=\u001b[0m \u001b[0mmodel\u001b[0m\u001b[1;33m.\u001b[0m\u001b[0mpredict\u001b[0m\u001b[1;33m(\u001b[0m\u001b[0mX_test\u001b[0m\u001b[1;33m)\u001b[0m\u001b[1;33m\u001b[0m\u001b[1;33m\u001b[0m\u001b[0m\n",
      "\u001b[1;32mC:\\ProgramData\\Anaconda3\\lib\\site-packages\\xgboost\\core.py\u001b[0m in \u001b[0;36minner_f\u001b[1;34m(*args, **kwargs)\u001b[0m\n\u001b[0;32m    420\u001b[0m         \u001b[1;32mfor\u001b[0m \u001b[0mk\u001b[0m\u001b[1;33m,\u001b[0m \u001b[0marg\u001b[0m \u001b[1;32min\u001b[0m \u001b[0mzip\u001b[0m\u001b[1;33m(\u001b[0m\u001b[0msig\u001b[0m\u001b[1;33m.\u001b[0m\u001b[0mparameters\u001b[0m\u001b[1;33m,\u001b[0m \u001b[0margs\u001b[0m\u001b[1;33m)\u001b[0m\u001b[1;33m:\u001b[0m\u001b[1;33m\u001b[0m\u001b[1;33m\u001b[0m\u001b[0m\n\u001b[0;32m    421\u001b[0m             \u001b[0mkwargs\u001b[0m\u001b[1;33m[\u001b[0m\u001b[0mk\u001b[0m\u001b[1;33m]\u001b[0m \u001b[1;33m=\u001b[0m \u001b[0marg\u001b[0m\u001b[1;33m\u001b[0m\u001b[1;33m\u001b[0m\u001b[0m\n\u001b[1;32m--> 422\u001b[1;33m         \u001b[1;32mreturn\u001b[0m \u001b[0mf\u001b[0m\u001b[1;33m(\u001b[0m\u001b[1;33m**\u001b[0m\u001b[0mkwargs\u001b[0m\u001b[1;33m)\u001b[0m\u001b[1;33m\u001b[0m\u001b[1;33m\u001b[0m\u001b[0m\n\u001b[0m\u001b[0;32m    423\u001b[0m \u001b[1;33m\u001b[0m\u001b[0m\n\u001b[0;32m    424\u001b[0m     \u001b[1;32mreturn\u001b[0m \u001b[0minner_f\u001b[0m\u001b[1;33m\u001b[0m\u001b[1;33m\u001b[0m\u001b[0m\n",
      "\u001b[1;32mC:\\ProgramData\\Anaconda3\\lib\\site-packages\\xgboost\\sklearn.py\u001b[0m in \u001b[0;36mfit\u001b[1;34m(self, X, y, sample_weight, base_margin, eval_set, eval_metric, early_stopping_rounds, verbose, xgb_model, sample_weight_eval_set, feature_weights, callbacks)\u001b[0m\n\u001b[0;32m    595\u001b[0m                 \u001b[0mparams\u001b[0m\u001b[1;33m.\u001b[0m\u001b[0mupdate\u001b[0m\u001b[1;33m(\u001b[0m\u001b[1;33m{\u001b[0m\u001b[1;34m'eval_metric'\u001b[0m\u001b[1;33m:\u001b[0m \u001b[0meval_metric\u001b[0m\u001b[1;33m}\u001b[0m\u001b[1;33m)\u001b[0m\u001b[1;33m\u001b[0m\u001b[1;33m\u001b[0m\u001b[0m\n\u001b[0;32m    596\u001b[0m \u001b[1;33m\u001b[0m\u001b[0m\n\u001b[1;32m--> 597\u001b[1;33m         self._Booster = train(params, train_dmatrix,\n\u001b[0m\u001b[0;32m    598\u001b[0m                               \u001b[0mself\u001b[0m\u001b[1;33m.\u001b[0m\u001b[0mget_num_boosting_rounds\u001b[0m\u001b[1;33m(\u001b[0m\u001b[1;33m)\u001b[0m\u001b[1;33m,\u001b[0m \u001b[0mevals\u001b[0m\u001b[1;33m=\u001b[0m\u001b[0mevals\u001b[0m\u001b[1;33m,\u001b[0m\u001b[1;33m\u001b[0m\u001b[1;33m\u001b[0m\u001b[0m\n\u001b[0;32m    599\u001b[0m                               \u001b[0mearly_stopping_rounds\u001b[0m\u001b[1;33m=\u001b[0m\u001b[0mearly_stopping_rounds\u001b[0m\u001b[1;33m,\u001b[0m\u001b[1;33m\u001b[0m\u001b[1;33m\u001b[0m\u001b[0m\n",
      "\u001b[1;32mC:\\ProgramData\\Anaconda3\\lib\\site-packages\\xgboost\\training.py\u001b[0m in \u001b[0;36mtrain\u001b[1;34m(params, dtrain, num_boost_round, evals, obj, feval, maximize, early_stopping_rounds, evals_result, verbose_eval, xgb_model, callbacks)\u001b[0m\n\u001b[0;32m    225\u001b[0m     \u001b[0mBooster\u001b[0m \u001b[1;33m:\u001b[0m \u001b[0ma\u001b[0m \u001b[0mtrained\u001b[0m \u001b[0mbooster\u001b[0m \u001b[0mmodel\u001b[0m\u001b[1;33m\u001b[0m\u001b[1;33m\u001b[0m\u001b[0m\n\u001b[0;32m    226\u001b[0m     \"\"\"\n\u001b[1;32m--> 227\u001b[1;33m     bst = _train_internal(params, dtrain,\n\u001b[0m\u001b[0;32m    228\u001b[0m                           \u001b[0mnum_boost_round\u001b[0m\u001b[1;33m=\u001b[0m\u001b[0mnum_boost_round\u001b[0m\u001b[1;33m,\u001b[0m\u001b[1;33m\u001b[0m\u001b[1;33m\u001b[0m\u001b[0m\n\u001b[0;32m    229\u001b[0m                           \u001b[0mevals\u001b[0m\u001b[1;33m=\u001b[0m\u001b[0mevals\u001b[0m\u001b[1;33m,\u001b[0m\u001b[1;33m\u001b[0m\u001b[1;33m\u001b[0m\u001b[0m\n",
      "\u001b[1;32mC:\\ProgramData\\Anaconda3\\lib\\site-packages\\xgboost\\training.py\u001b[0m in \u001b[0;36m_train_internal\u001b[1;34m(params, dtrain, num_boost_round, evals, obj, feval, xgb_model, callbacks, evals_result, maximize, verbose_eval, early_stopping_rounds)\u001b[0m\n\u001b[0;32m    100\u001b[0m         \u001b[1;31m# Skip the first update if it is a recovery step.\u001b[0m\u001b[1;33m\u001b[0m\u001b[1;33m\u001b[0m\u001b[1;33m\u001b[0m\u001b[0m\n\u001b[0;32m    101\u001b[0m         \u001b[1;32mif\u001b[0m \u001b[0mversion\u001b[0m \u001b[1;33m%\u001b[0m \u001b[1;36m2\u001b[0m \u001b[1;33m==\u001b[0m \u001b[1;36m0\u001b[0m\u001b[1;33m:\u001b[0m\u001b[1;33m\u001b[0m\u001b[1;33m\u001b[0m\u001b[0m\n\u001b[1;32m--> 102\u001b[1;33m             \u001b[0mbst\u001b[0m\u001b[1;33m.\u001b[0m\u001b[0mupdate\u001b[0m\u001b[1;33m(\u001b[0m\u001b[0mdtrain\u001b[0m\u001b[1;33m,\u001b[0m \u001b[0mi\u001b[0m\u001b[1;33m,\u001b[0m \u001b[0mobj\u001b[0m\u001b[1;33m)\u001b[0m\u001b[1;33m\u001b[0m\u001b[1;33m\u001b[0m\u001b[0m\n\u001b[0m\u001b[0;32m    103\u001b[0m             \u001b[0mbst\u001b[0m\u001b[1;33m.\u001b[0m\u001b[0msave_rabit_checkpoint\u001b[0m\u001b[1;33m(\u001b[0m\u001b[1;33m)\u001b[0m\u001b[1;33m\u001b[0m\u001b[1;33m\u001b[0m\u001b[0m\n\u001b[0;32m    104\u001b[0m             \u001b[0mversion\u001b[0m \u001b[1;33m+=\u001b[0m \u001b[1;36m1\u001b[0m\u001b[1;33m\u001b[0m\u001b[1;33m\u001b[0m\u001b[0m\n",
      "\u001b[1;32mC:\\ProgramData\\Anaconda3\\lib\\site-packages\\xgboost\\core.py\u001b[0m in \u001b[0;36mupdate\u001b[1;34m(self, dtrain, iteration, fobj)\u001b[0m\n\u001b[0;32m   1278\u001b[0m \u001b[1;33m\u001b[0m\u001b[0m\n\u001b[0;32m   1279\u001b[0m         \u001b[1;32mif\u001b[0m \u001b[0mfobj\u001b[0m \u001b[1;32mis\u001b[0m \u001b[1;32mNone\u001b[0m\u001b[1;33m:\u001b[0m\u001b[1;33m\u001b[0m\u001b[1;33m\u001b[0m\u001b[0m\n\u001b[1;32m-> 1280\u001b[1;33m             _check_call(_LIB.XGBoosterUpdateOneIter(self.handle,\n\u001b[0m\u001b[0;32m   1281\u001b[0m                                                     \u001b[0mctypes\u001b[0m\u001b[1;33m.\u001b[0m\u001b[0mc_int\u001b[0m\u001b[1;33m(\u001b[0m\u001b[0miteration\u001b[0m\u001b[1;33m)\u001b[0m\u001b[1;33m,\u001b[0m\u001b[1;33m\u001b[0m\u001b[1;33m\u001b[0m\u001b[0m\n\u001b[0;32m   1282\u001b[0m                                                     dtrain.handle))\n",
      "\u001b[1;31mKeyboardInterrupt\u001b[0m: "
     ]
    }
   ],
   "source": [
    "rmse = []\n",
    "params =  {'learning_rate': 0.03, 'n_estimators': 500, 'max_depth': 5, 'min_child_weight': 1, 'gamma': 0.0, 'subsample': 0.65, 'colsample_bytree': 0.25, 'objective': 'reg:squarederror', 'nthread': 4, 'scale_pos_weight': 1, 'seed': 17, 'reg_alpha': 140}\n",
    "for i in range(1,101,1):\n",
    "    params['learning_rate'] = (i-1)/100\n",
    "\n",
    "    rmse.append(ra.Compare_data(ra.xgb_analysis(x,y,params),test))\n",
    "plt.plot(rmse) "
   ]
  },
  {
   "cell_type": "code",
   "execution_count": 325,
   "metadata": {},
   "outputs": [],
   "source": [
    "# import datetime\n",
    "\n",
    "# with open('./test_memory.txt','a')as f:\n",
    "#     f.write(\"test : \"+str(datetime.datetime.now()) + \"\\n\")\n",
    "#     f.write(\"columns : \" + str(x.columns) + \"\\n\")\n",
    "#     f.write(\"params : \" + str(params) + \"\\n\")\n",
    "#     f.write(\"rmse : \"+str(ra.Compare_data(model2,test)) + \"\\n\\n\")\n",
    "# f.close()"
   ]
  },
  {
   "cell_type": "code",
   "execution_count": 326,
   "metadata": {},
   "outputs": [],
   "source": [
    "# ra.Compare_data(model2,test)"
   ]
  },
  {
   "cell_type": "code",
   "execution_count": 327,
   "metadata": {},
   "outputs": [],
   "source": [
    "# ra.Export_csv(model2,test,'sub_adjust2')"
   ]
  },
  {
   "cell_type": "code",
   "execution_count": 328,
   "metadata": {},
   "outputs": [],
   "source": [
    "# xp.param_optimize(train,test)"
   ]
  },
  {
   "cell_type": "code",
   "execution_count": 329,
   "metadata": {},
   "outputs": [],
   "source": [
    "# for col in x.columns:\n",
    "#     print(f\"column : {col} \")\n",
    "#     ra.Compare_data(ra.xgb_analysis(x.drop([col],axis=1),y),test.drop([col],axis=1))\n",
    "#     print(\"\\n\")"
   ]
  },
  {
   "cell_type": "code",
   "execution_count": 330,
   "metadata": {},
   "outputs": [],
   "source": [
    "result = pd.read_csv('../data/result.csv')"
   ]
  },
  {
   "cell_type": "code",
   "execution_count": 331,
   "metadata": {},
   "outputs": [
    {
     "output_type": "execute_result",
     "data": {
      "text/plain": [
       "(351, 35)"
      ]
     },
     "metadata": {},
     "execution_count": 331
    }
   ],
   "source": [
    "result = pd.merge(left= result,right=test,on='id')\n",
    "result.shape"
   ]
  },
  {
   "cell_type": "code",
   "execution_count": 332,
   "metadata": {},
   "outputs": [],
   "source": [
    "# result.corr()"
   ]
  },
  {
   "cell_type": "code",
   "execution_count": 333,
   "metadata": {},
   "outputs": [],
   "source": [
    "# plt.figure(figsize=(36, 18)) \n",
    "# sns.heatmap(result.drop(['id'],axis=1).corr(), vmax=1, vmin=-1, center=0, cmap=\"coolwarm\", annot=True, )\n",
    "# plt.show()"
   ]
  },
  {
   "cell_type": "code",
   "execution_count": 334,
   "metadata": {},
   "outputs": [],
   "source": [
    "# result = pd.read_csv('../data/result.csv')\n",
    "# test = pd.read_csv('../data/test_new.csv')"
   ]
  },
  {
   "cell_type": "code",
   "execution_count": 335,
   "metadata": {},
   "outputs": [],
   "source": [
    "# result = pd.merge(left= result,right=test,on='id')"
   ]
  },
  {
   "cell_type": "code",
   "execution_count": 336,
   "metadata": {},
   "outputs": [],
   "source": [
    "# plt.figure(figsize=(36, 18)) \n",
    "# sns.heatmap(result.drop(['id'],axis=1).corr(), vmax=1, vmin=-1, center=0, cmap=\"coolwarm\", annot=True, )\n",
    "# plt.show()"
   ]
  },
  {
   "source": [
    "## cat analysis"
   ],
   "cell_type": "markdown",
   "metadata": {}
  },
  {
   "cell_type": "code",
   "execution_count": 337,
   "metadata": {},
   "outputs": [],
   "source": [
    "train = pd.read_csv('../data/train_new.csv')\n",
    "test = pd.read_csv('../data/test_new.csv')"
   ]
  },
  {
   "cell_type": "code",
   "execution_count": 338,
   "metadata": {},
   "outputs": [],
   "source": [
    "y = train['y']\n",
    "x = train.drop(['id','y'],axis=1)"
   ]
  },
  {
   "cell_type": "code",
   "execution_count": 339,
   "metadata": {
    "tags": [
     "outputPrepend"
    ]
   },
   "outputs": [
    {
     "output_type": "stream",
     "name": "stdout",
     "text": [
      "5ms\n",
      "797:\tlearn: 761.3472926\ttest: 2601.1371811\tbest: 2599.6957331 (763)\ttotal: 3.52s\tremaining: 891ms\n",
      "798:\tlearn: 760.1659684\ttest: 2601.4169587\tbest: 2599.6957331 (763)\ttotal: 3.52s\tremaining: 886ms\n",
      "799:\tlearn: 759.2150211\ttest: 2601.5046342\tbest: 2599.6957331 (763)\ttotal: 3.53s\tremaining: 882ms\n",
      "800:\tlearn: 757.9777319\ttest: 2602.2815928\tbest: 2599.6957331 (763)\ttotal: 3.53s\tremaining: 877ms\n",
      "801:\tlearn: 757.0783503\ttest: 2602.4349554\tbest: 2599.6957331 (763)\ttotal: 3.54s\tremaining: 873ms\n",
      "802:\tlearn: 756.5230541\ttest: 2602.4638875\tbest: 2599.6957331 (763)\ttotal: 3.54s\tremaining: 868ms\n",
      "803:\tlearn: 755.0757418\ttest: 2602.5779014\tbest: 2599.6957331 (763)\ttotal: 3.54s\tremaining: 864ms\n",
      "804:\tlearn: 754.1686983\ttest: 2602.6560203\tbest: 2599.6957331 (763)\ttotal: 3.55s\tremaining: 859ms\n",
      "805:\tlearn: 752.8984694\ttest: 2602.8598127\tbest: 2599.6957331 (763)\ttotal: 3.55s\tremaining: 855ms\n",
      "806:\tlearn: 751.7677335\ttest: 2602.4637550\tbest: 2599.6957331 (763)\ttotal: 3.56s\tremaining: 851ms\n",
      "807:\tlearn: 750.5702327\ttest: 2602.5040510\tbest: 2599.6957331 (763)\ttotal: 3.56s\tremaining: 846ms\n",
      "808:\tlearn: 750.5076588\ttest: 2602.4689073\tbest: 2599.6957331 (763)\ttotal: 3.56s\tremaining: 842ms\n",
      "809:\tlearn: 749.4003011\ttest: 2602.3402896\tbest: 2599.6957331 (763)\ttotal: 3.57s\tremaining: 837ms\n",
      "810:\tlearn: 748.1675581\ttest: 2602.4799102\tbest: 2599.6957331 (763)\ttotal: 3.58s\tremaining: 833ms\n",
      "811:\tlearn: 746.7712780\ttest: 2602.2398319\tbest: 2599.6957331 (763)\ttotal: 3.58s\tremaining: 829ms\n",
      "812:\tlearn: 745.5067990\ttest: 2601.8239598\tbest: 2599.6957331 (763)\ttotal: 3.58s\tremaining: 825ms\n",
      "813:\tlearn: 743.9886126\ttest: 2602.6673895\tbest: 2599.6957331 (763)\ttotal: 3.59s\tremaining: 820ms\n",
      "814:\tlearn: 742.2672746\ttest: 2601.8081133\tbest: 2599.6957331 (763)\ttotal: 3.6s\tremaining: 816ms\n",
      "815:\tlearn: 742.1910866\ttest: 2601.7922631\tbest: 2599.6957331 (763)\ttotal: 3.6s\tremaining: 812ms\n",
      "816:\tlearn: 740.9466564\ttest: 2601.7809468\tbest: 2599.6957331 (763)\ttotal: 3.6s\tremaining: 808ms\n",
      "817:\tlearn: 740.0645330\ttest: 2601.8969274\tbest: 2599.6957331 (763)\ttotal: 3.61s\tremaining: 804ms\n",
      "818:\tlearn: 738.5426037\ttest: 2601.5357101\tbest: 2599.6957331 (763)\ttotal: 3.62s\tremaining: 799ms\n",
      "819:\tlearn: 736.5032732\ttest: 2602.3034569\tbest: 2599.6957331 (763)\ttotal: 3.62s\tremaining: 795ms\n",
      "820:\tlearn: 735.7993835\ttest: 2602.1265563\tbest: 2599.6957331 (763)\ttotal: 3.63s\tremaining: 791ms\n",
      "821:\tlearn: 734.3720773\ttest: 2602.5897595\tbest: 2599.6957331 (763)\ttotal: 3.63s\tremaining: 787ms\n",
      "822:\tlearn: 733.1843953\ttest: 2602.6478921\tbest: 2599.6957331 (763)\ttotal: 3.64s\tremaining: 783ms\n",
      "823:\tlearn: 731.5728388\ttest: 2602.9862770\tbest: 2599.6957331 (763)\ttotal: 3.64s\tremaining: 778ms\n",
      "824:\tlearn: 730.3279829\ttest: 2603.5885124\tbest: 2599.6957331 (763)\ttotal: 3.65s\tremaining: 774ms\n",
      "825:\tlearn: 729.3269398\ttest: 2603.7363002\tbest: 2599.6957331 (763)\ttotal: 3.66s\tremaining: 770ms\n",
      "826:\tlearn: 728.2595683\ttest: 2603.7789691\tbest: 2599.6957331 (763)\ttotal: 3.66s\tremaining: 766ms\n",
      "827:\tlearn: 728.2075496\ttest: 2603.7692846\tbest: 2599.6957331 (763)\ttotal: 3.67s\tremaining: 762ms\n",
      "828:\tlearn: 727.1146183\ttest: 2603.6137189\tbest: 2599.6957331 (763)\ttotal: 3.68s\tremaining: 760ms\n",
      "829:\tlearn: 726.7978410\ttest: 2603.4642976\tbest: 2599.6957331 (763)\ttotal: 3.69s\tremaining: 755ms\n",
      "830:\tlearn: 725.2186064\ttest: 2603.5130579\tbest: 2599.6957331 (763)\ttotal: 3.69s\tremaining: 751ms\n",
      "831:\tlearn: 723.9707406\ttest: 2603.4627166\tbest: 2599.6957331 (763)\ttotal: 3.7s\tremaining: 747ms\n",
      "832:\tlearn: 722.8582844\ttest: 2603.7175767\tbest: 2599.6957331 (763)\ttotal: 3.7s\tremaining: 743ms\n",
      "833:\tlearn: 721.2444472\ttest: 2603.6057640\tbest: 2599.6957331 (763)\ttotal: 3.71s\tremaining: 738ms\n",
      "834:\tlearn: 720.4552795\ttest: 2604.4942728\tbest: 2599.6957331 (763)\ttotal: 3.71s\tremaining: 734ms\n",
      "835:\tlearn: 719.4655379\ttest: 2604.5684536\tbest: 2599.6957331 (763)\ttotal: 3.72s\tremaining: 730ms\n",
      "836:\tlearn: 718.3679969\ttest: 2604.7246879\tbest: 2599.6957331 (763)\ttotal: 3.72s\tremaining: 725ms\n",
      "837:\tlearn: 718.3033809\ttest: 2604.6740000\tbest: 2599.6957331 (763)\ttotal: 3.73s\tremaining: 721ms\n",
      "838:\tlearn: 717.3568602\ttest: 2605.0249833\tbest: 2599.6957331 (763)\ttotal: 3.73s\tremaining: 716ms\n",
      "839:\tlearn: 716.8576416\ttest: 2605.4603170\tbest: 2599.6957331 (763)\ttotal: 3.74s\tremaining: 712ms\n",
      "840:\tlearn: 716.0855216\ttest: 2605.2276300\tbest: 2599.6957331 (763)\ttotal: 3.74s\tremaining: 708ms\n",
      "841:\tlearn: 715.2036720\ttest: 2604.8590573\tbest: 2599.6957331 (763)\ttotal: 3.75s\tremaining: 703ms\n",
      "842:\tlearn: 714.3111350\ttest: 2604.7808496\tbest: 2599.6957331 (763)\ttotal: 3.75s\tremaining: 699ms\n",
      "843:\tlearn: 713.2552256\ttest: 2605.1528101\tbest: 2599.6957331 (763)\ttotal: 3.76s\tremaining: 695ms\n",
      "844:\tlearn: 712.3681047\ttest: 2605.5022456\tbest: 2599.6957331 (763)\ttotal: 3.76s\tremaining: 691ms\n",
      "845:\tlearn: 711.3804383\ttest: 2605.3941153\tbest: 2599.6957331 (763)\ttotal: 3.77s\tremaining: 686ms\n",
      "846:\tlearn: 710.3409386\ttest: 2606.0274198\tbest: 2599.6957331 (763)\ttotal: 3.77s\tremaining: 682ms\n",
      "847:\tlearn: 709.1901017\ttest: 2605.8343386\tbest: 2599.6957331 (763)\ttotal: 3.78s\tremaining: 677ms\n",
      "848:\tlearn: 708.0499824\ttest: 2606.0087630\tbest: 2599.6957331 (763)\ttotal: 3.78s\tremaining: 673ms\n",
      "849:\tlearn: 707.0606032\ttest: 2605.7107108\tbest: 2599.6957331 (763)\ttotal: 3.79s\tremaining: 669ms\n",
      "850:\tlearn: 706.2332296\ttest: 2605.6424578\tbest: 2599.6957331 (763)\ttotal: 3.79s\tremaining: 664ms\n",
      "851:\tlearn: 705.1377904\ttest: 2605.5396394\tbest: 2599.6957331 (763)\ttotal: 3.8s\tremaining: 660ms\n",
      "852:\tlearn: 704.3747926\ttest: 2605.4262259\tbest: 2599.6957331 (763)\ttotal: 3.8s\tremaining: 656ms\n",
      "853:\tlearn: 703.5070423\ttest: 2605.1089673\tbest: 2599.6957331 (763)\ttotal: 3.81s\tremaining: 651ms\n",
      "854:\tlearn: 702.2368910\ttest: 2605.4098804\tbest: 2599.6957331 (763)\ttotal: 3.81s\tremaining: 647ms\n",
      "855:\tlearn: 702.1840391\ttest: 2605.3640032\tbest: 2599.6957331 (763)\ttotal: 3.82s\tremaining: 643ms\n",
      "856:\tlearn: 701.0407939\ttest: 2605.4587730\tbest: 2599.6957331 (763)\ttotal: 3.83s\tremaining: 638ms\n",
      "857:\tlearn: 699.4867397\ttest: 2605.5705562\tbest: 2599.6957331 (763)\ttotal: 3.83s\tremaining: 634ms\n",
      "858:\tlearn: 698.9681739\ttest: 2605.7725762\tbest: 2599.6957331 (763)\ttotal: 3.83s\tremaining: 630ms\n",
      "859:\tlearn: 698.2209236\ttest: 2606.1473063\tbest: 2599.6957331 (763)\ttotal: 3.84s\tremaining: 625ms\n",
      "860:\tlearn: 697.4157010\ttest: 2605.9357614\tbest: 2599.6957331 (763)\ttotal: 3.84s\tremaining: 621ms\n",
      "861:\tlearn: 697.3666455\ttest: 2605.8896043\tbest: 2599.6957331 (763)\ttotal: 3.85s\tremaining: 616ms\n",
      "862:\tlearn: 696.5385071\ttest: 2605.8736582\tbest: 2599.6957331 (763)\ttotal: 3.85s\tremaining: 612ms\n",
      "863:\tlearn: 695.6738538\ttest: 2605.3606477\tbest: 2599.6957331 (763)\ttotal: 3.86s\tremaining: 607ms\n",
      "864:\tlearn: 694.6024382\ttest: 2605.2420337\tbest: 2599.6957331 (763)\ttotal: 3.86s\tremaining: 603ms\n",
      "865:\tlearn: 693.3031208\ttest: 2604.9964153\tbest: 2599.6957331 (763)\ttotal: 3.87s\tremaining: 598ms\n",
      "866:\tlearn: 692.0586126\ttest: 2604.8830362\tbest: 2599.6957331 (763)\ttotal: 3.87s\tremaining: 594ms\n",
      "867:\tlearn: 690.6372228\ttest: 2605.0425224\tbest: 2599.6957331 (763)\ttotal: 3.87s\tremaining: 589ms\n",
      "868:\tlearn: 690.5021932\ttest: 2605.0386958\tbest: 2599.6957331 (763)\ttotal: 3.88s\tremaining: 584ms\n",
      "869:\tlearn: 690.4558331\ttest: 2605.0258888\tbest: 2599.6957331 (763)\ttotal: 3.88s\tremaining: 580ms\n",
      "870:\tlearn: 688.9388167\ttest: 2605.2326236\tbest: 2599.6957331 (763)\ttotal: 3.88s\tremaining: 575ms\n",
      "871:\tlearn: 688.2355517\ttest: 2605.1418365\tbest: 2599.6957331 (763)\ttotal: 3.89s\tremaining: 571ms\n",
      "872:\tlearn: 687.5241521\ttest: 2605.1289029\tbest: 2599.6957331 (763)\ttotal: 3.89s\tremaining: 567ms\n",
      "873:\tlearn: 687.0887367\ttest: 2605.5293322\tbest: 2599.6957331 (763)\ttotal: 3.9s\tremaining: 562ms\n",
      "874:\tlearn: 686.0008660\ttest: 2605.1802954\tbest: 2599.6957331 (763)\ttotal: 3.9s\tremaining: 558ms\n",
      "875:\tlearn: 685.1661459\ttest: 2605.1962361\tbest: 2599.6957331 (763)\ttotal: 3.91s\tremaining: 553ms\n",
      "876:\tlearn: 684.1264587\ttest: 2604.5736775\tbest: 2599.6957331 (763)\ttotal: 3.91s\tremaining: 549ms\n",
      "877:\tlearn: 683.1875080\ttest: 2604.4482597\tbest: 2599.6957331 (763)\ttotal: 3.92s\tremaining: 544ms\n",
      "878:\tlearn: 682.2668262\ttest: 2604.2299716\tbest: 2599.6957331 (763)\ttotal: 3.92s\tremaining: 540ms\n",
      "879:\tlearn: 680.6195255\ttest: 2603.5539543\tbest: 2599.6957331 (763)\ttotal: 3.92s\tremaining: 535ms\n",
      "880:\tlearn: 679.7075834\ttest: 2603.2755625\tbest: 2599.6957331 (763)\ttotal: 3.93s\tremaining: 531ms\n",
      "881:\tlearn: 678.5030421\ttest: 2602.4459643\tbest: 2599.6957331 (763)\ttotal: 3.93s\tremaining: 526ms\n",
      "882:\tlearn: 677.4695711\ttest: 2601.5749310\tbest: 2599.6957331 (763)\ttotal: 3.94s\tremaining: 522ms\n",
      "883:\tlearn: 676.6256210\ttest: 2601.3470272\tbest: 2599.6957331 (763)\ttotal: 3.94s\tremaining: 517ms\n",
      "884:\tlearn: 676.4786872\ttest: 2601.2822335\tbest: 2599.6957331 (763)\ttotal: 3.94s\tremaining: 513ms\n",
      "885:\tlearn: 676.0159068\ttest: 2601.2560211\tbest: 2599.6957331 (763)\ttotal: 3.95s\tremaining: 508ms\n",
      "886:\tlearn: 674.5736492\ttest: 2601.1619436\tbest: 2599.6957331 (763)\ttotal: 3.95s\tremaining: 503ms\n",
      "887:\tlearn: 673.4581697\ttest: 2601.1072427\tbest: 2599.6957331 (763)\ttotal: 3.96s\tremaining: 499ms\n",
      "888:\tlearn: 672.0845370\ttest: 2600.7529065\tbest: 2599.6957331 (763)\ttotal: 3.96s\tremaining: 494ms\n",
      "889:\tlearn: 671.3805839\ttest: 2600.7515942\tbest: 2599.6957331 (763)\ttotal: 3.96s\tremaining: 490ms\n",
      "890:\tlearn: 669.9190241\ttest: 2601.2071057\tbest: 2599.6957331 (763)\ttotal: 3.97s\tremaining: 485ms\n",
      "891:\tlearn: 668.7290500\ttest: 2601.8457612\tbest: 2599.6957331 (763)\ttotal: 3.97s\tremaining: 481ms\n",
      "892:\tlearn: 667.7156817\ttest: 2602.0465610\tbest: 2599.6957331 (763)\ttotal: 3.98s\tremaining: 476ms\n",
      "893:\tlearn: 667.1222008\ttest: 2602.4819227\tbest: 2599.6957331 (763)\ttotal: 3.98s\tremaining: 472ms\n",
      "894:\tlearn: 667.0794767\ttest: 2602.4340849\tbest: 2599.6957331 (763)\ttotal: 3.98s\tremaining: 467ms\n",
      "895:\tlearn: 666.1693119\ttest: 2602.6254969\tbest: 2599.6957331 (763)\ttotal: 3.99s\tremaining: 463ms\n",
      "896:\tlearn: 665.0831075\ttest: 2602.1129244\tbest: 2599.6957331 (763)\ttotal: 3.99s\tremaining: 458ms\n",
      "897:\tlearn: 664.4571336\ttest: 2601.9627065\tbest: 2599.6957331 (763)\ttotal: 4s\tremaining: 454ms\n",
      "898:\tlearn: 663.2722434\ttest: 2601.5516006\tbest: 2599.6957331 (763)\ttotal: 4s\tremaining: 449ms\n",
      "899:\tlearn: 662.0008838\ttest: 2601.2186559\tbest: 2599.6957331 (763)\ttotal: 4s\tremaining: 445ms\n",
      "900:\tlearn: 661.4288838\ttest: 2601.4248466\tbest: 2599.6957331 (763)\ttotal: 4.01s\tremaining: 440ms\n",
      "901:\tlearn: 659.9307037\ttest: 2601.1030692\tbest: 2599.6957331 (763)\ttotal: 4.01s\tremaining: 436ms\n",
      "902:\tlearn: 658.9026103\ttest: 2601.0696213\tbest: 2599.6957331 (763)\ttotal: 4.02s\tremaining: 431ms\n",
      "903:\tlearn: 657.7461637\ttest: 2600.7568811\tbest: 2599.6957331 (763)\ttotal: 4.02s\tremaining: 427ms\n",
      "904:\tlearn: 656.3844150\ttest: 2600.1356279\tbest: 2599.6957331 (763)\ttotal: 4.02s\tremaining: 422ms\n",
      "905:\tlearn: 655.4415017\ttest: 2599.6859326\tbest: 2599.6859326 (905)\ttotal: 4.03s\tremaining: 418ms\n",
      "906:\tlearn: 654.1697024\ttest: 2599.1343015\tbest: 2599.1343015 (906)\ttotal: 4.03s\tremaining: 413ms\n",
      "907:\tlearn: 652.9261682\ttest: 2599.5170460\tbest: 2599.1343015 (906)\ttotal: 4.04s\tremaining: 409ms\n",
      "908:\tlearn: 652.3771527\ttest: 2599.0477752\tbest: 2599.0477752 (908)\ttotal: 4.04s\tremaining: 404ms\n",
      "909:\tlearn: 651.4807828\ttest: 2599.5474894\tbest: 2599.0477752 (908)\ttotal: 4.04s\tremaining: 400ms\n",
      "910:\tlearn: 650.5405346\ttest: 2599.8269432\tbest: 2599.0477752 (908)\ttotal: 4.05s\tremaining: 395ms\n",
      "911:\tlearn: 649.7635430\ttest: 2599.6793951\tbest: 2599.0477752 (908)\ttotal: 4.05s\tremaining: 391ms\n",
      "912:\tlearn: 649.4297849\ttest: 2599.6039778\tbest: 2599.0477752 (908)\ttotal: 4.05s\tremaining: 386ms\n",
      "913:\tlearn: 648.6741853\ttest: 2599.3337705\tbest: 2599.0477752 (908)\ttotal: 4.06s\tremaining: 382ms\n",
      "914:\tlearn: 647.6100404\ttest: 2599.3415902\tbest: 2599.0477752 (908)\ttotal: 4.06s\tremaining: 377ms\n",
      "915:\tlearn: 647.5656976\ttest: 2599.3229230\tbest: 2599.0477752 (908)\ttotal: 4.07s\tremaining: 373ms\n",
      "916:\tlearn: 646.7157729\ttest: 2599.4917590\tbest: 2599.0477752 (908)\ttotal: 4.07s\tremaining: 368ms\n",
      "917:\tlearn: 645.7188265\ttest: 2599.3832570\tbest: 2599.0477752 (908)\ttotal: 4.08s\tremaining: 364ms\n",
      "918:\tlearn: 645.0094234\ttest: 2599.5325745\tbest: 2599.0477752 (908)\ttotal: 4.08s\tremaining: 360ms\n",
      "919:\tlearn: 644.6990157\ttest: 2599.4615478\tbest: 2599.0477752 (908)\ttotal: 4.08s\tremaining: 355ms\n",
      "920:\tlearn: 643.9097514\ttest: 2599.0677562\tbest: 2599.0477752 (908)\ttotal: 4.09s\tremaining: 351ms\n",
      "921:\tlearn: 642.5794790\ttest: 2599.0402647\tbest: 2599.0402647 (921)\ttotal: 4.09s\tremaining: 346ms\n",
      "922:\tlearn: 641.5488914\ttest: 2599.1721875\tbest: 2599.0402647 (921)\ttotal: 4.09s\tremaining: 342ms\n",
      "923:\tlearn: 640.8171138\ttest: 2598.6335249\tbest: 2598.6335249 (923)\ttotal: 4.1s\tremaining: 337ms\n",
      "924:\tlearn: 639.7021423\ttest: 2598.2350111\tbest: 2598.2350111 (924)\ttotal: 4.1s\tremaining: 333ms\n",
      "925:\tlearn: 638.6807927\ttest: 2598.4359152\tbest: 2598.2350111 (924)\ttotal: 4.11s\tremaining: 328ms\n",
      "926:\tlearn: 638.0219708\ttest: 2598.5865947\tbest: 2598.2350111 (924)\ttotal: 4.11s\tremaining: 324ms\n",
      "927:\tlearn: 637.0600649\ttest: 2598.4425953\tbest: 2598.2350111 (924)\ttotal: 4.12s\tremaining: 319ms\n",
      "928:\tlearn: 636.6957680\ttest: 2598.5826490\tbest: 2598.2350111 (924)\ttotal: 4.12s\tremaining: 315ms\n",
      "929:\tlearn: 635.8932768\ttest: 2598.4681562\tbest: 2598.2350111 (924)\ttotal: 4.12s\tremaining: 310ms\n",
      "930:\tlearn: 634.9626195\ttest: 2598.8541035\tbest: 2598.2350111 (924)\ttotal: 4.13s\tremaining: 306ms\n",
      "931:\tlearn: 634.2582565\ttest: 2598.8283593\tbest: 2598.2350111 (924)\ttotal: 4.13s\tremaining: 301ms\n",
      "932:\tlearn: 633.3914640\ttest: 2599.2186646\tbest: 2598.2350111 (924)\ttotal: 4.14s\tremaining: 297ms\n",
      "933:\tlearn: 632.6713563\ttest: 2599.0569458\tbest: 2598.2350111 (924)\ttotal: 4.14s\tremaining: 293ms\n",
      "934:\tlearn: 632.6287027\ttest: 2599.0093571\tbest: 2598.2350111 (924)\ttotal: 4.14s\tremaining: 288ms\n",
      "935:\tlearn: 631.7208312\ttest: 2598.7397489\tbest: 2598.2350111 (924)\ttotal: 4.15s\tremaining: 284ms\n",
      "936:\tlearn: 630.6369957\ttest: 2598.6980577\tbest: 2598.2350111 (924)\ttotal: 4.15s\tremaining: 279ms\n",
      "937:\tlearn: 629.2519199\ttest: 2599.2356739\tbest: 2598.2350111 (924)\ttotal: 4.16s\tremaining: 275ms\n",
      "938:\tlearn: 628.0418813\ttest: 2599.2368070\tbest: 2598.2350111 (924)\ttotal: 4.16s\tremaining: 270ms\n",
      "939:\tlearn: 626.9543470\ttest: 2598.9961560\tbest: 2598.2350111 (924)\ttotal: 4.17s\tremaining: 266ms\n",
      "940:\tlearn: 626.1825378\ttest: 2599.0958891\tbest: 2598.2350111 (924)\ttotal: 4.17s\tremaining: 262ms\n",
      "941:\tlearn: 625.4742720\ttest: 2599.0798993\tbest: 2598.2350111 (924)\ttotal: 4.18s\tremaining: 257ms\n",
      "942:\tlearn: 624.5484255\ttest: 2598.9720022\tbest: 2598.2350111 (924)\ttotal: 4.18s\tremaining: 253ms\n",
      "943:\tlearn: 623.0888754\ttest: 2598.9210904\tbest: 2598.2350111 (924)\ttotal: 4.18s\tremaining: 248ms\n",
      "944:\tlearn: 622.8486659\ttest: 2598.9167123\tbest: 2598.2350111 (924)\ttotal: 4.19s\tremaining: 244ms\n",
      "945:\tlearn: 622.1415401\ttest: 2598.4375271\tbest: 2598.2350111 (924)\ttotal: 4.19s\tremaining: 239ms\n",
      "946:\tlearn: 620.7461978\ttest: 2598.0847963\tbest: 2598.0847963 (946)\ttotal: 4.2s\tremaining: 235ms\n",
      "947:\tlearn: 620.2775136\ttest: 2597.7169824\tbest: 2597.7169824 (947)\ttotal: 4.2s\tremaining: 231ms\n",
      "948:\tlearn: 619.7334639\ttest: 2598.0207717\tbest: 2597.7169824 (947)\ttotal: 4.21s\tremaining: 226ms\n",
      "949:\tlearn: 618.9965671\ttest: 2598.3416994\tbest: 2597.7169824 (947)\ttotal: 4.21s\tremaining: 222ms\n",
      "950:\tlearn: 618.7688262\ttest: 2598.3023758\tbest: 2597.7169824 (947)\ttotal: 4.21s\tremaining: 217ms\n",
      "951:\tlearn: 617.7566775\ttest: 2598.6173260\tbest: 2597.7169824 (947)\ttotal: 4.22s\tremaining: 213ms\n",
      "952:\tlearn: 616.7956044\ttest: 2598.6014927\tbest: 2597.7169824 (947)\ttotal: 4.22s\tremaining: 208ms\n",
      "953:\tlearn: 615.5595902\ttest: 2598.7430818\tbest: 2597.7169824 (947)\ttotal: 4.23s\tremaining: 204ms\n",
      "954:\tlearn: 615.5233822\ttest: 2598.6931323\tbest: 2597.7169824 (947)\ttotal: 4.23s\tremaining: 199ms\n",
      "955:\tlearn: 614.1146273\ttest: 2598.9259061\tbest: 2597.7169824 (947)\ttotal: 4.24s\tremaining: 195ms\n",
      "956:\tlearn: 613.3945408\ttest: 2598.9483531\tbest: 2597.7169824 (947)\ttotal: 4.24s\tremaining: 191ms\n",
      "957:\tlearn: 612.5665151\ttest: 2598.7484236\tbest: 2597.7169824 (947)\ttotal: 4.25s\tremaining: 186ms\n",
      "958:\tlearn: 611.6922904\ttest: 2599.2945273\tbest: 2597.7169824 (947)\ttotal: 4.25s\tremaining: 182ms\n",
      "959:\tlearn: 610.9182480\ttest: 2599.3268053\tbest: 2597.7169824 (947)\ttotal: 4.25s\tremaining: 177ms\n",
      "960:\tlearn: 610.1872828\ttest: 2599.3236108\tbest: 2597.7169824 (947)\ttotal: 4.26s\tremaining: 173ms\n",
      "961:\tlearn: 609.4696983\ttest: 2599.1266715\tbest: 2597.7169824 (947)\ttotal: 4.26s\tremaining: 168ms\n",
      "962:\tlearn: 608.9315847\ttest: 2599.2290483\tbest: 2597.7169824 (947)\ttotal: 4.27s\tremaining: 164ms\n",
      "963:\tlearn: 608.5013106\ttest: 2599.4545599\tbest: 2597.7169824 (947)\ttotal: 4.27s\tremaining: 160ms\n",
      "964:\tlearn: 607.3490991\ttest: 2599.6371713\tbest: 2597.7169824 (947)\ttotal: 4.28s\tremaining: 155ms\n",
      "965:\tlearn: 606.3567550\ttest: 2599.6144735\tbest: 2597.7169824 (947)\ttotal: 4.28s\tremaining: 151ms\n",
      "966:\tlearn: 605.8040994\ttest: 2599.3460565\tbest: 2597.7169824 (947)\ttotal: 4.28s\tremaining: 146ms\n",
      "967:\tlearn: 605.0883891\ttest: 2599.0367036\tbest: 2597.7169824 (947)\ttotal: 4.29s\tremaining: 142ms\n",
      "968:\tlearn: 604.2018214\ttest: 2599.0150639\tbest: 2597.7169824 (947)\ttotal: 4.29s\tremaining: 137ms\n",
      "969:\tlearn: 603.6032034\ttest: 2598.8157833\tbest: 2597.7169824 (947)\ttotal: 4.3s\tremaining: 133ms\n",
      "970:\tlearn: 603.1148936\ttest: 2599.2813434\tbest: 2597.7169824 (947)\ttotal: 4.3s\tremaining: 129ms\n",
      "971:\tlearn: 602.2553655\ttest: 2599.1527776\tbest: 2597.7169824 (947)\ttotal: 4.31s\tremaining: 124ms\n",
      "972:\tlearn: 601.6995317\ttest: 2598.7727373\tbest: 2597.7169824 (947)\ttotal: 4.31s\tremaining: 120ms\n",
      "973:\tlearn: 601.2748092\ttest: 2598.4830775\tbest: 2597.7169824 (947)\ttotal: 4.32s\tremaining: 115ms\n",
      "974:\tlearn: 600.7938825\ttest: 2598.5430931\tbest: 2597.7169824 (947)\ttotal: 4.32s\tremaining: 111ms\n",
      "975:\tlearn: 599.7623207\ttest: 2598.3358131\tbest: 2597.7169824 (947)\ttotal: 4.33s\tremaining: 106ms\n",
      "976:\tlearn: 598.7527252\ttest: 2598.5580063\tbest: 2597.7169824 (947)\ttotal: 4.33s\tremaining: 102ms\n",
      "977:\tlearn: 597.5243409\ttest: 2598.7657953\tbest: 2597.7169824 (947)\ttotal: 4.33s\tremaining: 97.5ms\n",
      "978:\tlearn: 596.5524948\ttest: 2599.1080346\tbest: 2597.7169824 (947)\ttotal: 4.34s\tremaining: 93.1ms\n",
      "979:\tlearn: 596.3857206\ttest: 2599.0963957\tbest: 2597.7169824 (947)\ttotal: 4.34s\tremaining: 88.7ms\n",
      "980:\tlearn: 595.8583451\ttest: 2598.9013725\tbest: 2597.7169824 (947)\ttotal: 4.35s\tremaining: 84.2ms\n",
      "981:\tlearn: 594.7804802\ttest: 2598.6777105\tbest: 2597.7169824 (947)\ttotal: 4.35s\tremaining: 79.8ms\n",
      "982:\tlearn: 593.8874865\ttest: 2598.7382451\tbest: 2597.7169824 (947)\ttotal: 4.36s\tremaining: 75.3ms\n",
      "983:\tlearn: 593.3476055\ttest: 2598.5222297\tbest: 2597.7169824 (947)\ttotal: 4.36s\tremaining: 70.9ms\n",
      "984:\tlearn: 593.0856703\ttest: 2598.5976561\tbest: 2597.7169824 (947)\ttotal: 4.36s\tremaining: 66.5ms\n",
      "985:\tlearn: 592.0595249\ttest: 2598.8181100\tbest: 2597.7169824 (947)\ttotal: 4.37s\tremaining: 62ms\n",
      "986:\tlearn: 590.8195975\ttest: 2598.7488856\tbest: 2597.7169824 (947)\ttotal: 4.37s\tremaining: 57.6ms\n",
      "987:\tlearn: 590.0173577\ttest: 2599.0754009\tbest: 2597.7169824 (947)\ttotal: 4.38s\tremaining: 53.2ms\n",
      "988:\tlearn: 589.3023880\ttest: 2598.9889556\tbest: 2597.7169824 (947)\ttotal: 4.38s\tremaining: 48.7ms\n",
      "989:\tlearn: 588.7871686\ttest: 2599.0763499\tbest: 2597.7169824 (947)\ttotal: 4.38s\tremaining: 44.3ms\n",
      "990:\tlearn: 587.8370645\ttest: 2599.0623350\tbest: 2597.7169824 (947)\ttotal: 4.39s\tremaining: 39.9ms\n",
      "991:\tlearn: 586.7518168\ttest: 2599.0551065\tbest: 2597.7169824 (947)\ttotal: 4.39s\tremaining: 35.4ms\n",
      "992:\tlearn: 586.1991059\ttest: 2598.8018166\tbest: 2597.7169824 (947)\ttotal: 4.4s\tremaining: 31ms\n",
      "993:\tlearn: 585.3504460\ttest: 2599.2082100\tbest: 2597.7169824 (947)\ttotal: 4.4s\tremaining: 26.6ms\n",
      "994:\tlearn: 584.6736584\ttest: 2598.7312480\tbest: 2597.7169824 (947)\ttotal: 4.41s\tremaining: 22.1ms\n",
      "995:\tlearn: 583.2835803\ttest: 2598.9499153\tbest: 2597.7169824 (947)\ttotal: 4.41s\tremaining: 17.7ms\n",
      "996:\tlearn: 582.2831901\ttest: 2598.9456797\tbest: 2597.7169824 (947)\ttotal: 4.41s\tremaining: 13.3ms\n",
      "997:\tlearn: 581.5644177\ttest: 2599.1246066\tbest: 2597.7169824 (947)\ttotal: 4.42s\tremaining: 8.85ms\n",
      "998:\tlearn: 580.8513238\ttest: 2599.0728101\tbest: 2597.7169824 (947)\ttotal: 4.42s\tremaining: 4.43ms\n",
      "999:\tlearn: 580.1690250\ttest: 2598.6621302\tbest: 2597.7169824 (947)\ttotal: 4.43s\tremaining: 0us\n",
      "\n",
      "bestTest = 2597.716982\n",
      "bestIteration = 947\n",
      "\n",
      "Shrink model to first 948 iterations.\n",
      "R^2 : 0.875, RMSE : 2597.717\n"
     ]
    },
    {
     "output_type": "execute_result",
     "data": {
      "text/plain": [
       "2971.437943742028"
      ]
     },
     "metadata": {},
     "execution_count": 339
    }
   ],
   "source": [
    "modelc = ra.cat_analysis(x,y)\n",
    "ra.Compare_data(modelc , test)"
   ]
  },
  {
   "cell_type": "code",
   "execution_count": 340,
   "metadata": {},
   "outputs": [],
   "source": [
    "# x.drop(['weather_屋内','weather_曇','weather_のち', 'weather_時々', 'weather_一時','weather_霧','weather_雪','weather_雷','地方局','ｽｶﾊﾟｰ','BS-TBS','year','day','home_score','away_score','away_stadium','home_stadium','home_01', 'home_02','home_03', 'home_04', 'home_05', 'home_06', 'home_07', 'home_08','home_09', 'home_10', 'home_11', 'away_01', 'away_02', 'away_03', 'away_04', 'away_05', 'away_06', 'away_07', 'away_08', 'away_09','away_10', 'away_11','child','age','month'],axis=1,inplace=True)\n",
    "\n",
    "# test.drop(['weather_屋内','weather_曇','weather_のち', 'weather_時々', 'weather_一時','weather_霧','weather_雪','weather_雷','地方局','ｽｶﾊﾟｰ','BS-TBS','year','day','home_score','away_score','away_stadium', 'home_stadium','home_01', 'home_02','home_03', 'home_04', 'home_05', 'home_06', 'home_07', 'home_08','home_09', 'home_10', 'home_11', 'away_01', 'away_02', 'away_03', 'away_04', 'away_05', 'away_06', 'away_07', 'away_08', 'away_09','away_10', 'away_11','child','age','month'],axis=1,inplace=True)"
   ]
  },
  {
   "cell_type": "code",
   "execution_count": 341,
   "metadata": {
    "tags": []
   },
   "outputs": [],
   "source": [
    "# modelc = ra.cat_analysis(x,y)\n",
    "# ra.Compare_data(modelc , test)"
   ]
  },
  {
   "cell_type": "code",
   "execution_count": 342,
   "metadata": {},
   "outputs": [],
   "source": [
    "# ra.plot_feature_importance(modelc.feature_importances_,x.columns,'cat')"
   ]
  },
  {
   "cell_type": "code",
   "execution_count": 343,
   "metadata": {},
   "outputs": [],
   "source": [
    "ra.Export_csv(modelc,test,'sub_cat')"
   ]
  },
  {
   "cell_type": "code",
   "execution_count": 344,
   "metadata": {},
   "outputs": [],
   "source": [
    "# params = xp.cat_hyper(x,y,100)"
   ]
  },
  {
   "cell_type": "code",
   "execution_count": 345,
   "metadata": {
    "tags": []
   },
   "outputs": [],
   "source": [
    "# modelc = ra.cat_analysis(x,y,params)\n",
    "# ra.Compare_data(modelc , test)"
   ]
  },
  {
   "cell_type": "code",
   "execution_count": null,
   "metadata": {},
   "outputs": [],
   "source": []
  }
 ]
}