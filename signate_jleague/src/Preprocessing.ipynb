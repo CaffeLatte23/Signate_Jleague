{
 "metadata": {
  "language_info": {
   "codemirror_mode": {
    "name": "ipython",
    "version": 3
   },
   "file_extension": ".py",
   "mimetype": "text/x-python",
   "name": "python",
   "nbconvert_exporter": "python",
   "pygments_lexer": "ipython3",
   "version": "3.8.5"
  },
  "orig_nbformat": 2,
  "kernelspec": {
   "name": "python385jvsc74a57bd0b3ba2566441a7c06988d0923437866b63cedc61552a5af99d1f4fb67d367b25f",
   "display_name": "Python 3.8.5 64-bit ('base': conda)"
  }
 },
 "nbformat": 4,
 "nbformat_minor": 2,
 "cells": [
  {
   "cell_type": "code",
   "execution_count": 472,
   "metadata": {},
   "outputs": [],
   "source": [
    "import pandas as pd\n",
    "import numpy as np\n",
    "import mojimoji\n",
    "import datetime as dt\n",
    "import matplotlib.pyplot as plt\n",
    "%matplotlib inline\n",
    "from sklearn import preprocessing\n",
    "from sklearn.preprocessing import MultiLabelBinarizer"
   ]
  },
  {
   "cell_type": "code",
   "execution_count": 473,
   "metadata": {},
   "outputs": [],
   "source": [
    "train = pd.read_csv('../data/total_train.csv',encoding='utf-8-sig')\n",
    "test = pd.read_csv('../data/total_test.csv',encoding='utf-8-sig')"
   ]
  },
  {
   "cell_type": "code",
   "execution_count": 474,
   "metadata": {},
   "outputs": [
    {
     "output_type": "execute_result",
     "data": {
      "text/plain": [
       "         id  y  year stage   match   gameday   time   home     away  \\\n",
       "1567  15699  0  2014    Ｊ１  第４節第１日  03/23(日)  15:04  浦和レッズ  清水エスパルス   \n",
       "\n",
       "          stadium                        tv  \n",
       "1567  埼玉スタジアム２００２  スカパー！／スカパー！プレミアムサービス／テレ玉  "
      ],
      "text/html": "<div>\n<style scoped>\n    .dataframe tbody tr th:only-of-type {\n        vertical-align: middle;\n    }\n\n    .dataframe tbody tr th {\n        vertical-align: top;\n    }\n\n    .dataframe thead th {\n        text-align: right;\n    }\n</style>\n<table border=\"1\" class=\"dataframe\">\n  <thead>\n    <tr style=\"text-align: right;\">\n      <th></th>\n      <th>id</th>\n      <th>y</th>\n      <th>year</th>\n      <th>stage</th>\n      <th>match</th>\n      <th>gameday</th>\n      <th>time</th>\n      <th>home</th>\n      <th>away</th>\n      <th>stadium</th>\n      <th>tv</th>\n    </tr>\n  </thead>\n  <tbody>\n    <tr>\n      <th>1567</th>\n      <td>15699</td>\n      <td>0</td>\n      <td>2014</td>\n      <td>Ｊ１</td>\n      <td>第４節第１日</td>\n      <td>03/23(日)</td>\n      <td>15:04</td>\n      <td>浦和レッズ</td>\n      <td>清水エスパルス</td>\n      <td>埼玉スタジアム２００２</td>\n      <td>スカパー！／スカパー！プレミアムサービス／テレ玉</td>\n    </tr>\n  </tbody>\n</table>\n</div>"
     },
     "metadata": {},
     "execution_count": 474
    }
   ],
   "source": [
    "train[train['y'] == 0]"
   ]
  },
  {
   "cell_type": "code",
   "execution_count": 475,
   "metadata": {},
   "outputs": [
    {
     "output_type": "execute_result",
     "data": {
      "text/plain": [
       "((1952, 11), (351, 10))"
      ]
     },
     "metadata": {},
     "execution_count": 475
    }
   ],
   "source": [
    "train.shape , test.shape"
   ]
  },
  {
   "cell_type": "code",
   "execution_count": 476,
   "metadata": {},
   "outputs": [],
   "source": [
    "# absorp = pd.read_csv('../data/absorp4.csv')\n",
    "# train = pd.merge(left=train,right=absorp,on=['stadium']).sort_values('id').reset_index(drop=True)\n",
    "# test = pd.merge(left=test,right=absorp,on=['stadium']).sort_values('id').reset_index(drop=True)"
   ]
  },
  {
   "cell_type": "code",
   "execution_count": 477,
   "metadata": {},
   "outputs": [
    {
     "output_type": "execute_result",
     "data": {
      "text/plain": [
       "         id      y  year stage    match   gameday   time       home  \\\n",
       "0     13994  18250  2012    Ｊ１   第１節第１日  03/10(土)  14:04     ベガルタ仙台   \n",
       "1     13995  24316  2012    Ｊ１   第１節第１日  03/10(土)  14:04   名古屋グランパス   \n",
       "2     13996  17066  2012    Ｊ１   第１節第１日  03/10(土)  14:04      ガンバ大阪   \n",
       "3     13997  29603  2012    Ｊ１   第１節第１日  03/10(土)  14:06  サンフレッチェ広島   \n",
       "4     13998  25353  2012    Ｊ１   第１節第１日  03/10(土)  14:04   コンサドーレ札幌   \n",
       "...     ...    ...   ...   ...      ...       ...    ...        ...   \n",
       "1947  16234   7842  2014    Ｊ２  第２４節第１日  07/30(水)  19:04     ジュビロ磐田   \n",
       "1948  16235   5212  2014    Ｊ２  第２４節第１日  07/30(水)  19:04       ＦＣ岐阜   \n",
       "1949  16236   3883  2014    Ｊ２  第２４節第１日  07/30(水)  19:03     アビスパ福岡   \n",
       "1950  16237   5028  2014    Ｊ２  第２４節第１日  07/30(水)  19:03    大分トリニータ   \n",
       "1951  16238   2221  2014    Ｊ２  第２４節第１日  07/30(水)  19:34   ザスパクサツ群馬   \n",
       "\n",
       "           away            stadium                                  tv  \n",
       "0      鹿島アントラーズ       ユアテックスタジアム仙台                 スカパー／ｅ２／スカパー光／ＮＨＫ総合  \n",
       "1       清水エスパルス            豊田スタジアム    スカパー／ｅ２／スカパー光（Ｊ　ＳＰＯＲＴＳ　４）／ＮＨＫ名古屋  \n",
       "2       ヴィッセル神戸            万博記念競技場     スカパー／ｅ２／スカパー光（Ｊ　ＳＰＯＲＴＳ　１）／ＮＨＫ大阪  \n",
       "3         浦和レッズ       エディオンスタジアム広島                 スカパー／ｅ２／スカパー光／ＮＨＫ広島  \n",
       "4        ジュビロ磐田              札幌ドーム  スカパー／ｅ２／スカパー光（スカイ・Ａ　ｓｐｏｒｔｓ＋）／ＮＨＫ札幌  \n",
       "...         ...                ...                                 ...  \n",
       "1947   カマタマーレ讃岐       ヤマハスタジアム（磐田）                スカパー！／スカパー！プレミアムサービス  \n",
       "1948   ファジアーノ岡山  岐阜メモリアルセンター長良川競技場                スカパー！／スカパー！プレミアムサービス  \n",
       "1949    湘南ベルマーレ       レベルファイブスタジアム                スカパー！／スカパー！プレミアムサービス  \n",
       "1950       栃木ＳＣ            大分銀行ドーム                スカパー！／スカパー！プレミアムサービス  \n",
       "1951  ギラヴァンツ北九州        正田醤油スタジアム群馬                スカパー！／スカパー！プレミアムサービス  \n",
       "\n",
       "[1952 rows x 11 columns]"
      ],
      "text/html": "<div>\n<style scoped>\n    .dataframe tbody tr th:only-of-type {\n        vertical-align: middle;\n    }\n\n    .dataframe tbody tr th {\n        vertical-align: top;\n    }\n\n    .dataframe thead th {\n        text-align: right;\n    }\n</style>\n<table border=\"1\" class=\"dataframe\">\n  <thead>\n    <tr style=\"text-align: right;\">\n      <th></th>\n      <th>id</th>\n      <th>y</th>\n      <th>year</th>\n      <th>stage</th>\n      <th>match</th>\n      <th>gameday</th>\n      <th>time</th>\n      <th>home</th>\n      <th>away</th>\n      <th>stadium</th>\n      <th>tv</th>\n    </tr>\n  </thead>\n  <tbody>\n    <tr>\n      <th>0</th>\n      <td>13994</td>\n      <td>18250</td>\n      <td>2012</td>\n      <td>Ｊ１</td>\n      <td>第１節第１日</td>\n      <td>03/10(土)</td>\n      <td>14:04</td>\n      <td>ベガルタ仙台</td>\n      <td>鹿島アントラーズ</td>\n      <td>ユアテックスタジアム仙台</td>\n      <td>スカパー／ｅ２／スカパー光／ＮＨＫ総合</td>\n    </tr>\n    <tr>\n      <th>1</th>\n      <td>13995</td>\n      <td>24316</td>\n      <td>2012</td>\n      <td>Ｊ１</td>\n      <td>第１節第１日</td>\n      <td>03/10(土)</td>\n      <td>14:04</td>\n      <td>名古屋グランパス</td>\n      <td>清水エスパルス</td>\n      <td>豊田スタジアム</td>\n      <td>スカパー／ｅ２／スカパー光（Ｊ　ＳＰＯＲＴＳ　４）／ＮＨＫ名古屋</td>\n    </tr>\n    <tr>\n      <th>2</th>\n      <td>13996</td>\n      <td>17066</td>\n      <td>2012</td>\n      <td>Ｊ１</td>\n      <td>第１節第１日</td>\n      <td>03/10(土)</td>\n      <td>14:04</td>\n      <td>ガンバ大阪</td>\n      <td>ヴィッセル神戸</td>\n      <td>万博記念競技場</td>\n      <td>スカパー／ｅ２／スカパー光（Ｊ　ＳＰＯＲＴＳ　１）／ＮＨＫ大阪</td>\n    </tr>\n    <tr>\n      <th>3</th>\n      <td>13997</td>\n      <td>29603</td>\n      <td>2012</td>\n      <td>Ｊ１</td>\n      <td>第１節第１日</td>\n      <td>03/10(土)</td>\n      <td>14:06</td>\n      <td>サンフレッチェ広島</td>\n      <td>浦和レッズ</td>\n      <td>エディオンスタジアム広島</td>\n      <td>スカパー／ｅ２／スカパー光／ＮＨＫ広島</td>\n    </tr>\n    <tr>\n      <th>4</th>\n      <td>13998</td>\n      <td>25353</td>\n      <td>2012</td>\n      <td>Ｊ１</td>\n      <td>第１節第１日</td>\n      <td>03/10(土)</td>\n      <td>14:04</td>\n      <td>コンサドーレ札幌</td>\n      <td>ジュビロ磐田</td>\n      <td>札幌ドーム</td>\n      <td>スカパー／ｅ２／スカパー光（スカイ・Ａ　ｓｐｏｒｔｓ＋）／ＮＨＫ札幌</td>\n    </tr>\n    <tr>\n      <th>...</th>\n      <td>...</td>\n      <td>...</td>\n      <td>...</td>\n      <td>...</td>\n      <td>...</td>\n      <td>...</td>\n      <td>...</td>\n      <td>...</td>\n      <td>...</td>\n      <td>...</td>\n      <td>...</td>\n    </tr>\n    <tr>\n      <th>1947</th>\n      <td>16234</td>\n      <td>7842</td>\n      <td>2014</td>\n      <td>Ｊ２</td>\n      <td>第２４節第１日</td>\n      <td>07/30(水)</td>\n      <td>19:04</td>\n      <td>ジュビロ磐田</td>\n      <td>カマタマーレ讃岐</td>\n      <td>ヤマハスタジアム（磐田）</td>\n      <td>スカパー！／スカパー！プレミアムサービス</td>\n    </tr>\n    <tr>\n      <th>1948</th>\n      <td>16235</td>\n      <td>5212</td>\n      <td>2014</td>\n      <td>Ｊ２</td>\n      <td>第２４節第１日</td>\n      <td>07/30(水)</td>\n      <td>19:04</td>\n      <td>ＦＣ岐阜</td>\n      <td>ファジアーノ岡山</td>\n      <td>岐阜メモリアルセンター長良川競技場</td>\n      <td>スカパー！／スカパー！プレミアムサービス</td>\n    </tr>\n    <tr>\n      <th>1949</th>\n      <td>16236</td>\n      <td>3883</td>\n      <td>2014</td>\n      <td>Ｊ２</td>\n      <td>第２４節第１日</td>\n      <td>07/30(水)</td>\n      <td>19:03</td>\n      <td>アビスパ福岡</td>\n      <td>湘南ベルマーレ</td>\n      <td>レベルファイブスタジアム</td>\n      <td>スカパー！／スカパー！プレミアムサービス</td>\n    </tr>\n    <tr>\n      <th>1950</th>\n      <td>16237</td>\n      <td>5028</td>\n      <td>2014</td>\n      <td>Ｊ２</td>\n      <td>第２４節第１日</td>\n      <td>07/30(水)</td>\n      <td>19:03</td>\n      <td>大分トリニータ</td>\n      <td>栃木ＳＣ</td>\n      <td>大分銀行ドーム</td>\n      <td>スカパー！／スカパー！プレミアムサービス</td>\n    </tr>\n    <tr>\n      <th>1951</th>\n      <td>16238</td>\n      <td>2221</td>\n      <td>2014</td>\n      <td>Ｊ２</td>\n      <td>第２４節第１日</td>\n      <td>07/30(水)</td>\n      <td>19:34</td>\n      <td>ザスパクサツ群馬</td>\n      <td>ギラヴァンツ北九州</td>\n      <td>正田醤油スタジアム群馬</td>\n      <td>スカパー！／スカパー！プレミアムサービス</td>\n    </tr>\n  </tbody>\n</table>\n<p>1952 rows × 11 columns</p>\n</div>"
     },
     "metadata": {},
     "execution_count": 477
    }
   ],
   "source": [
    "train"
   ]
  },
  {
   "cell_type": "code",
   "execution_count": 478,
   "metadata": {},
   "outputs": [],
   "source": [
    "train['week_day'] = train['gameday'].str[-2]\n",
    "train['gameday'] = train['gameday'].str[:5]\n",
    "\n",
    "test['week_day'] = test['gameday'].str[-2]\n",
    "test['gameday'] = test['gameday'].str[:5]"
   ]
  },
  {
   "cell_type": "code",
   "execution_count": 479,
   "metadata": {},
   "outputs": [],
   "source": [
    "## 祝日と休日だけ一つにしてしまいその他は一度放置\n",
    "week_day = {'月':0,'火':1,'水':2,'木':3,'金':4,'土':5,'日':6,'休':7,'祝':7}\n",
    "\n",
    "train['week_day'] = train['week_day'].map(week_day)\n",
    "train['month'] = train['gameday'].str[:2].astype(int)\n",
    "train['day'] = train['gameday'].str[-2:].astype(int)\n",
    "\n",
    "test['week_day'] = test['week_day'].map(week_day)\n",
    "test['month'] = test['gameday'].str[:2].astype(int)\n",
    "test['day'] = test['gameday'].str[-2:].astype(int)"
   ]
  },
  {
   "cell_type": "code",
   "execution_count": 480,
   "metadata": {},
   "outputs": [
    {
     "output_type": "execute_result",
     "data": {
      "text/plain": [
       "6    807\n",
       "5    785\n",
       "7    192\n",
       "2    127\n",
       "4     30\n",
       "3      5\n",
       "0      4\n",
       "1      2\n",
       "Name: week_day, dtype: int64"
      ]
     },
     "metadata": {},
     "execution_count": 480
    }
   ],
   "source": [
    "train['week_day'].value_counts()"
   ]
  },
  {
   "cell_type": "code",
   "execution_count": 481,
   "metadata": {},
   "outputs": [],
   "source": [
    "## match節・stageの調整\n",
    "train['match'] = train['match'].apply(lambda x: x[1:].rsplit('節')[0])\n",
    "train['match'] = train['match'].apply(mojimoji.zen_to_han)\n",
    "\n",
    "test['match'] = test['match'].apply(lambda x: x[1:].rsplit('節')[0])\n",
    "test['match'] = test['match'].apply(mojimoji.zen_to_han)"
   ]
  },
  {
   "cell_type": "code",
   "execution_count": 482,
   "metadata": {},
   "outputs": [],
   "source": [
    "train['stage'] = train['stage'].apply(mojimoji.zen_to_han).str[1]\n",
    "test['stage'] = test['stage'].apply(mojimoji.zen_to_han).str[1]\n",
    "\n",
    "train['tv'] = train['tv'].apply(mojimoji.zen_to_han).str.split('/')\n",
    "test['tv'] = test['tv'].apply(mojimoji.zen_to_han).str.split('/')\n"
   ]
  },
  {
   "cell_type": "code",
   "execution_count": 483,
   "metadata": {
    "tags": []
   },
   "outputs": [],
   "source": [
    "##tvの各要素を見ていき、録画は削除、NHK,地方局はまとめる\n",
    "#インデックスの都合上、先に録画を削除\n",
    "for i in range(len(train['tv'])):\n",
    "   train.loc[i,'tv_cnt'] = len(train.loc[i,'tv'])\n",
    "   for j in range(len(train.loc[i,'tv'])):\n",
    "      if '(録)' in train.loc[i,'tv'][j]:\n",
    "        train.loc[i,'tv_cnt'] -=1\n",
    "        train.loc[i,'tv'][j] = 'r'\n",
    "\n",
    "for i in train['tv']:\n",
    "   for j in range(len(i)):\n",
    "       if 'NHK' in i[j]:\n",
    "          i[j] = 'NHK'\n",
    "       elif 'ｽｶﾊﾟｰ' in i[j] or 'e2' in i[j]:\n",
    "          i[j] = 'ｽｶﾊﾟｰ'\n",
    "       elif 'ﾃﾚﾋﾞ' in i[j] or '放送' in i[j] or 'KBS京都' in i[j] or 'TOKYO MX' in i[j] or 'ﾃﾚ玉' in i[j]:\n",
    "          i[j] = '地方局'\n",
    "\n",
    "for i in range(len(test['tv'])):\n",
    "   test.loc[i,'tv_cnt'] = len(test.loc[i,'tv'])\n",
    "   for j in range(len(test.loc[i,'tv'])):\n",
    "      if '(録)' in test.loc[i,'tv'][j]:\n",
    "        test.loc[i,'tv_cnt'] -=1\n",
    "        test.loc[i,'tv'][j] = 'r'\n",
    "\n",
    "for i in test['tv']:\n",
    "   for j in range(len(i)):\n",
    "       if 'NHK' in i[j]:\n",
    "          i[j] = 'NHK'\n",
    "       elif 'ｽｶﾊﾟｰ' in i[j] or 'e2' in i[j]:\n",
    "          i[j] = 'ｽｶﾊﾟｰ'\n",
    "       elif 'ﾃﾚﾋﾞ' in i[j] or '放送' in i[j] or 'KBS京都' in i[j] or 'TOKYO MX' in i[j] or 'ﾃﾚ玉' in i[j]:\n",
    "          i[j] = '地方局'\n",
    "      "
   ]
  },
  {
   "cell_type": "code",
   "execution_count": 484,
   "metadata": {},
   "outputs": [],
   "source": [
    "mlb = MultiLabelBinarizer(sparse_output=True)\n",
    "train = train.join(\n",
    "            pd.DataFrame.sparse.from_spmatrix(\n",
    "                mlb.fit_transform(train.pop('tv')),\n",
    "                index=train.index,\n",
    "                columns=mlb.classes_))\n",
    "\n",
    "train.drop(['r' , 'gameday','time'],axis =1,inplace = True)\n",
    "\n",
    "test = test.join(\n",
    "            pd.DataFrame.sparse.from_spmatrix(\n",
    "                mlb.fit_transform(test.pop('tv')),\n",
    "                index=test.index,\n",
    "                columns=mlb.classes_))\n",
    "\n",
    "test.drop(['r' , 'gameday','time'],axis =1,inplace = True)"
   ]
  },
  {
   "cell_type": "code",
   "execution_count": 485,
   "metadata": {},
   "outputs": [],
   "source": [
    "# チーム名などの変更を統一したいがデータの都合上先に連結させる\n",
    "condition = pd.read_csv('../data/total_condition.csv')\n",
    "stadium = pd.read_csv('../data/stadium_new.csv')"
   ]
  },
  {
   "cell_type": "code",
   "execution_count": 486,
   "metadata": {},
   "outputs": [
    {
     "output_type": "execute_result",
     "data": {
      "text/plain": [
       "Index(['name', 'address', 'capa', 'lat', 'lng', 'station', 'age', 'child',\n",
       "       'population', 'area'],\n",
       "      dtype='object')"
      ]
     },
     "metadata": {},
     "execution_count": 486
    }
   ],
   "source": [
    "stadium.columns\n"
   ]
  },
  {
   "cell_type": "code",
   "execution_count": 487,
   "metadata": {},
   "outputs": [],
   "source": [
    "train = pd.merge(left=train,right=condition,on='id')\n",
    "train.drop(['home_team','away_team'],axis=1,inplace=True)\n",
    "\n",
    "test = pd.merge(left=test,right=condition,on='id')\n",
    "test.drop(['home_team','away_team'],axis=1,inplace=True)"
   ]
  },
  {
   "cell_type": "code",
   "execution_count": 488,
   "metadata": {},
   "outputs": [
    {
     "output_type": "execute_result",
     "data": {
      "text/plain": [
       "Index(['id', 'year', 'stage', 'match', 'home', 'away', 'stadium', 'week_day',\n",
       "       'month', 'day', 'tv_cnt', 'BS-TBS', 'NHK', '地方局', 'ｽｶﾊﾟｰ', 'home_score',\n",
       "       'away_score', 'weather', 'temperature', 'humidity', 'referee',\n",
       "       'home_01', 'home_02', 'home_03', 'home_04', 'home_05', 'home_06',\n",
       "       'home_07', 'home_08', 'home_09', 'home_10', 'home_11', 'away_01',\n",
       "       'away_02', 'away_03', 'away_04', 'away_05', 'away_06', 'away_07',\n",
       "       'away_08', 'away_09', 'away_10', 'away_11'],\n",
       "      dtype='object')"
      ]
     },
     "metadata": {},
     "execution_count": 488
    }
   ],
   "source": [
    "test.columns"
   ]
  },
  {
   "cell_type": "code",
   "execution_count": 489,
   "metadata": {},
   "outputs": [],
   "source": [
    "absorp = pd.read_csv('../data/absorp.csv')[['year','home','stadium','absorp']]\n",
    "test = pd.merge(left=test,right=absorp,on=['year','home','stadium']).sort_values('id')\n",
    "train = pd.merge(left=train,right=absorp,on=['year','home','stadium']).sort_values('id')\n",
    "\n",
    "# absorp = pd.read_csv('../data/absorp3.csv')\n",
    "# test = pd.merge(left=test,right=absorp,on=['stadium']).sort_values('id')\n",
    "# train = pd.merge(left=train,right=absorp,on=['stadium']).sort_values('id')"
   ]
  },
  {
   "cell_type": "code",
   "execution_count": 490,
   "metadata": {},
   "outputs": [],
   "source": [
    "for i in range(len(train['home'])):\n",
    "    if 'ザスパ草津' in train.loc[i,'home']:\n",
    "        train.loc[i,'home'] = 'ザスパクサツ群馬'\n",
    "\n",
    "for i in range(len(train['away'])):\n",
    "    if 'ザスパ草津' in train.loc[i,'away']:\n",
    "        train.loc[i,'away'] = 'ザスパクサツ群馬'\n",
    "\n",
    "for i in range(len(test['home'])):\n",
    "    if 'ザスパ草津' in test.loc[i,'home']:\n",
    "        test.loc[i,'home'] = 'ザスパクサツ群馬'\n",
    "\n",
    "for i in range(len(test['away'])):\n",
    "    if 'ザスパ草津' in test.loc[i,'away']:\n",
    "        test.loc[i,'away'] = 'ザスパクサツ群馬'"
   ]
  },
  {
   "cell_type": "code",
   "execution_count": 491,
   "metadata": {},
   "outputs": [],
   "source": [
    "for condition in [\"晴\", \"曇\", \"雨\", \"屋内\", \"雷\", \"雪\", \"霧\", \"のち\", \"時々\", \"一時\"]:\n",
    "    train[\"weather_{}\".format(condition)] = train[\"weather\"].str.contains(condition).apply(int)\n",
    "    test[\"weather_{}\".format(condition)] = test[\"weather\"].str.contains(condition).apply(int)"
   ]
  },
  {
   "cell_type": "code",
   "execution_count": 492,
   "metadata": {},
   "outputs": [],
   "source": [
    "## スタジアムとの連結\n",
    "train = pd.merge(left=train,right=stadium,left_on='stadium',right_on ='name',how='inner')\n",
    "train = train.sort_values(['id'])\n",
    "train.drop(['name','weather'],axis=1,inplace=True)\n",
    "\n",
    "test = pd.merge(left=test,right=stadium,left_on='stadium',right_on ='name',how='inner')\n",
    "test = test.sort_values(['id'])\n",
    "test.drop(['name','weather'],axis=1,inplace=True)"
   ]
  },
  {
   "cell_type": "code",
   "execution_count": 494,
   "metadata": {},
   "outputs": [],
   "source": [
    "home_stadiums = {'ＦＣ岐阜' : '岐阜メモリアルセンター長良川競技場',\n",
    "'ＦＣ町田ゼルビア' : '町田市立陸上競技場',\n",
    "'ＦＣ東京' : '味の素スタジアム',\n",
    "'Ｖ・ファーレン長崎' : '長崎県立総合運動公園陸上競技場',\n",
    "'アビスパ福岡' : 'レベルファイブスタジアム',\n",
    "'アルビレックス新潟' : 'デンカビッグスワンスタジアム',\n",
    "'ヴァンフォーレ甲府' : '山梨中銀スタジアム',\n",
    "'ヴィッセル神戸' : 'ノエビアスタジアム神戸',\n",
    "'ガイナーレ鳥取' : 'とりぎんバードスタジアム',\n",
    "'カターレ富山' : '富山県総合運動公園陸上競技場',\n",
    "'カマタマーレ讃岐' : '香川県立丸亀競技場',\n",
    "'ガンバ大阪' : '万博記念競技場',\n",
    "'ギラヴァンツ北九州' : '北九州市立本城陸上競技場',\n",
    "'コンサドーレ札幌' : '札幌ドーム',\n",
    "'サガン鳥栖' : 'ベストアメニティスタジアム',\n",
    "'ザスパクサツ群馬' : '正田醤油スタジアム群馬',\n",
    "'サンフレッチェ広島' : 'エディオンスタジアム広島',\n",
    "'ジェフユナイテッド千葉' : 'フクダ電子アリーナ',\n",
    "'ジュビロ磐田' : 'ヤマハスタジアム（磐田）',\n",
    "'セレッソ大阪' : 'キンチョウスタジアム',\n",
    "'ファジアーノ岡山' : 'シティライトスタジアム',\n",
    "'ベガルタ仙台' : 'ユアテックスタジアム仙台',\n",
    "'モンテディオ山形' : 'ＮＤソフトスタジアム山形',\n",
    "'ロアッソ熊本' : 'うまかな・よかなスタジアム',\n",
    "'愛媛ＦＣ' : 'ニンジニアスタジアム',\n",
    "'浦和レッズ' : '埼玉スタジアム２００２',\n",
    "'横浜Ｆ・マリノス' : '日産スタジアム',\n",
    "'横浜ＦＣ' : 'ニッパツ三ツ沢球技場',\n",
    "'京都サンガF.C.' : '京都市西京極総合運動公園陸上競技場兼球技場',\n",
    "'鹿島アントラーズ' : '県立カシマサッカースタジアム',\n",
    "'松本山雅ＦＣ' : '松本平広域公園総合球技場',\n",
    "'湘南ベルマーレ' : 'Ｓｈｏｎａｎ　ＢＭＷスタジアム平塚',\n",
    "'水戸ホーリーホック' : 'ケーズデンキスタジアム水戸',\n",
    "'清水エスパルス' : 'ＩＡＩスタジアム日本平',\n",
    "'川崎フロンターレ' : '等々力陸上競技場',\n",
    "'大宮アルディージャ' : 'ＮＡＣＫ５スタジアム大宮',\n",
    "'大分トリニータ' : '大分銀行ドーム',\n",
    "'東京ヴェルディ' : '味の素スタジアム',\n",
    "'徳島ヴォルティス' : '鳴門・大塚スポーツパーク　ポカリスエットスタジアム',\n",
    "'栃木ＳＣ' : '栃木県グリーンスタジアム',\n",
    "'柏レイソル' : '日立柏サッカー場',\n",
    "'名古屋グランパス' : '豊田スタジアム'\n",
    "}"
   ]
  },
  {
   "cell_type": "code",
   "execution_count": 495,
   "metadata": {},
   "outputs": [
    {
     "output_type": "execute_result",
     "data": {
      "text/plain": [
       "Index(['id', 'year', 'stage', 'match', 'home', 'away', 'stadium', 'week_day',\n",
       "       'month', 'day', 'tv_cnt', 'BS-TBS', 'NHK', '地方局', 'ｽｶﾊﾟｰ', 'home_score',\n",
       "       'away_score', 'temperature', 'humidity', 'referee', 'home_01',\n",
       "       'home_02', 'home_03', 'home_04', 'home_05', 'home_06', 'home_07',\n",
       "       'home_08', 'home_09', 'home_10', 'home_11', 'away_01', 'away_02',\n",
       "       'away_03', 'away_04', 'away_05', 'away_06', 'away_07', 'away_08',\n",
       "       'away_09', 'away_10', 'away_11', 'absorp', 'weather_晴', 'weather_曇',\n",
       "       'weather_雨', 'weather_屋内', 'weather_雷', 'weather_雪', 'weather_霧',\n",
       "       'weather_のち', 'weather_時々', 'weather_一時', 'address', 'capa', 'lat',\n",
       "       'lng', 'station', 'age', 'child', 'population', 'area'],\n",
       "      dtype='object')"
      ]
     },
     "metadata": {},
     "execution_count": 495
    }
   ],
   "source": [
    "test.columns"
   ]
  },
  {
   "cell_type": "code",
   "execution_count": 496,
   "metadata": {},
   "outputs": [],
   "source": [
    "train['home_stadium'] = train['home'].map(home_stadiums)\n",
    "train = pd.merge(left=train,right=stadium[['name','lat','lng']],left_on='home_stadium',right_on ='name',how='inner')\n",
    "train.rename(columns={'lat_x' : 'h_lat', 'lat_y' : 'lat', 'lng_x' : 'h_lng', 'lng_y' : 'lng'} ,inplace = True)\n",
    "\n",
    "train['away_stadium'] = train['away'].map(home_stadiums)\n",
    "train = pd.merge(left=train,right=stadium[['name','lat','lng']],left_on='away_stadium',right_on ='name',how='inner')\n",
    "\n",
    "train.rename(columns={'lat_x' : 'lat', 'lat_y' : 'a_lat', 'lng_x' : 'lng', 'lng_y' : 'a_lng'} ,inplace = True)\n",
    "train.drop(['name_x','name_y'],axis=1,inplace=True)\n",
    "\n",
    "train.sort_values('id',inplace=True)\n",
    "train.reset_index(drop=True,inplace=True)\n",
    "\n",
    "test['home_stadium'] = test['home'].map(home_stadiums)\n",
    "test = pd.merge(left=test,right=stadium[['name','lat','lng']],left_on='home_stadium',right_on ='name',how='inner')\n",
    "test.rename(columns={'lat_x' : 'h_lat', 'lat_y' : 'lat', 'lng_x' : 'h_lng', 'lng_y' : 'lng'} ,inplace = True)\n",
    "\n",
    "\n",
    "test['away_stadium'] = test['away'].map(home_stadiums)\n",
    "test = pd.merge(left=test,right=stadium[['name','lat','lng']],left_on='away_stadium',right_on ='name',how='inner')\n",
    "\n",
    "test.rename(columns={'lat_x' : 'lat', 'lat_y' : 'a_lat', 'lng_x' : 'lng', 'lng_y' : 'a_lng'} ,inplace = True)\n",
    "test.drop(['name_x','name_y'],axis=1,inplace=True)\n",
    "\n",
    "test.sort_values('id',inplace=True)\n",
    "test.reset_index(drop=True,inplace=True)"
   ]
  },
  {
   "cell_type": "code",
   "execution_count": 497,
   "metadata": {},
   "outputs": [],
   "source": [
    "train['humidity'] = train['humidity'].str[:-1].astype(float)\n",
    "test['humidity'] = test['humidity'].str[:-1].astype(float)\n",
    "\n",
    "def discomfort_index(T, H):\n",
    "    return 0.81*T+0.01*H*(0.99*T - 14.3) + 46.3\n",
    "    \n",
    "train[\"discomfort\"] = discomfort_index(train[\"temperature\"], train[\"humidity\"])\n",
    "test[\"discomfort\"] = discomfort_index(test[\"temperature\"], test[\"humidity\"])"
   ]
  },
  {
   "cell_type": "code",
   "execution_count": 498,
   "metadata": {},
   "outputs": [
    {
     "output_type": "execute_result",
     "data": {
      "text/plain": [
       "(1952, 70)"
      ]
     },
     "metadata": {},
     "execution_count": 498
    }
   ],
   "source": [
    "train.shape"
   ]
  },
  {
   "cell_type": "code",
   "execution_count": 499,
   "metadata": {},
   "outputs": [],
   "source": [
    "## チームの収益データの挿入"
   ]
  },
  {
   "cell_type": "code",
   "execution_count": 500,
   "metadata": {},
   "outputs": [
    {
     "output_type": "execute_result",
     "data": {
      "text/plain": [
       "array(['ベガルタ仙台', '名古屋グランパス', 'ガンバ大阪', 'サンフレッチェ広島', 'コンサドーレ札幌', 'サガン鳥栖',\n",
       "       '川崎フロンターレ', '大宮アルディージャ', '柏レイソル', '鹿島アントラーズ', '浦和レッズ', '横浜Ｆ・マリノス',\n",
       "       'アルビレックス新潟', 'セレッソ大阪', '清水エスパルス', 'ジュビロ磐田', 'ヴィッセル神戸', 'ＦＣ東京',\n",
       "       '水戸ホーリーホック', '東京ヴェルディ', 'ヴァンフォーレ甲府', 'ＦＣ岐阜', 'ファジアーノ岡山', 'アビスパ福岡',\n",
       "       '大分トリニータ', 'ジェフユナイテッド千葉', '愛媛ＦＣ', '湘南ベルマーレ', 'ギラヴァンツ北九州', '栃木ＳＣ',\n",
       "       'ＦＣ町田ゼルビア', '松本山雅ＦＣ', '徳島ヴォルティス', 'ザスパクサツ群馬', '横浜ＦＣ', 'ロアッソ熊本',\n",
       "       '京都サンガF.C.', 'モンテディオ山形', 'ガイナーレ鳥取', 'カターレ富山', 'Ｖ・ファーレン長崎',\n",
       "       'カマタマーレ讃岐'], dtype=object)"
      ]
     },
     "metadata": {},
     "execution_count": 500
    }
   ],
   "source": [
    "train['home'].unique()"
   ]
  },
  {
   "source": [
    "## Teamの順位データの挿入"
   ],
   "cell_type": "markdown",
   "metadata": {}
  },
  {
   "cell_type": "code",
   "execution_count": 501,
   "metadata": {},
   "outputs": [],
   "source": [
    "ranking = pd.read_csv('../data/ranking.csv')"
   ]
  },
  {
   "cell_type": "code",
   "execution_count": 502,
   "metadata": {},
   "outputs": [
    {
     "output_type": "execute_result",
     "data": {
      "text/plain": [
       "      year  stage  match       team  ranking\n",
       "0     2012      1      1    ヴィッセル神戸        1\n",
       "1     2012      1      1       ＦＣ東京        2\n",
       "2     2012      1      1   名古屋グランパス        2\n",
       "3     2012      1      1  サンフレッチェ広島        2\n",
       "4     2012      1      1     ベガルタ仙台        2\n",
       "...    ...    ...    ...        ...      ...\n",
       "4603  2014      2     42       ＦＣ岐阜       18\n",
       "4604  2014      2     42       愛媛ＦＣ       19\n",
       "4605  2014      2     42    東京ヴェルディ       20\n",
       "4606  2014      2     42   カマタマーレ讃岐       21\n",
       "4607  2014      2     42     カターレ富山       22\n",
       "\n",
       "[4608 rows x 5 columns]"
      ],
      "text/html": "<div>\n<style scoped>\n    .dataframe tbody tr th:only-of-type {\n        vertical-align: middle;\n    }\n\n    .dataframe tbody tr th {\n        vertical-align: top;\n    }\n\n    .dataframe thead th {\n        text-align: right;\n    }\n</style>\n<table border=\"1\" class=\"dataframe\">\n  <thead>\n    <tr style=\"text-align: right;\">\n      <th></th>\n      <th>year</th>\n      <th>stage</th>\n      <th>match</th>\n      <th>team</th>\n      <th>ranking</th>\n    </tr>\n  </thead>\n  <tbody>\n    <tr>\n      <th>0</th>\n      <td>2012</td>\n      <td>1</td>\n      <td>1</td>\n      <td>ヴィッセル神戸</td>\n      <td>1</td>\n    </tr>\n    <tr>\n      <th>1</th>\n      <td>2012</td>\n      <td>1</td>\n      <td>1</td>\n      <td>ＦＣ東京</td>\n      <td>2</td>\n    </tr>\n    <tr>\n      <th>2</th>\n      <td>2012</td>\n      <td>1</td>\n      <td>1</td>\n      <td>名古屋グランパス</td>\n      <td>2</td>\n    </tr>\n    <tr>\n      <th>3</th>\n      <td>2012</td>\n      <td>1</td>\n      <td>1</td>\n      <td>サンフレッチェ広島</td>\n      <td>2</td>\n    </tr>\n    <tr>\n      <th>4</th>\n      <td>2012</td>\n      <td>1</td>\n      <td>1</td>\n      <td>ベガルタ仙台</td>\n      <td>2</td>\n    </tr>\n    <tr>\n      <th>...</th>\n      <td>...</td>\n      <td>...</td>\n      <td>...</td>\n      <td>...</td>\n      <td>...</td>\n    </tr>\n    <tr>\n      <th>4603</th>\n      <td>2014</td>\n      <td>2</td>\n      <td>42</td>\n      <td>ＦＣ岐阜</td>\n      <td>18</td>\n    </tr>\n    <tr>\n      <th>4604</th>\n      <td>2014</td>\n      <td>2</td>\n      <td>42</td>\n      <td>愛媛ＦＣ</td>\n      <td>19</td>\n    </tr>\n    <tr>\n      <th>4605</th>\n      <td>2014</td>\n      <td>2</td>\n      <td>42</td>\n      <td>東京ヴェルディ</td>\n      <td>20</td>\n    </tr>\n    <tr>\n      <th>4606</th>\n      <td>2014</td>\n      <td>2</td>\n      <td>42</td>\n      <td>カマタマーレ讃岐</td>\n      <td>21</td>\n    </tr>\n    <tr>\n      <th>4607</th>\n      <td>2014</td>\n      <td>2</td>\n      <td>42</td>\n      <td>カターレ富山</td>\n      <td>22</td>\n    </tr>\n  </tbody>\n</table>\n<p>4608 rows × 5 columns</p>\n</div>"
     },
     "metadata": {},
     "execution_count": 502
    }
   ],
   "source": [
    "ranking"
   ]
  },
  {
   "cell_type": "code",
   "execution_count": 503,
   "metadata": {},
   "outputs": [],
   "source": [
    "## さすがに1952 x 4608のデータをfor文で入れるのはやりすぎなので、\n",
    "## mergeできるようにデータを操作する\n",
    "\n",
    "##チームごとにソートしてひとつ前のデータを参照するようにする\n",
    "# 一度実行すると欠損値かもしくは、最終順位が入っているはずなので、matchが1のものだけをすべて初期値とするリーグ所属チーム数に書き換える\n",
    "\n",
    "ranking = ranking.sort_values(['team','year','match'])\n",
    "ranking['ranking'] = ranking['ranking'].shift(periods= 1)"
   ]
  },
  {
   "cell_type": "code",
   "execution_count": 504,
   "metadata": {},
   "outputs": [
    {
     "output_type": "execute_result",
     "data": {
      "text/plain": [
       "            team\n",
       "year stage      \n",
       "2012 1        18\n",
       "     2        22\n",
       "2013 1        18\n",
       "     2        22\n",
       "2014 1        18\n",
       "     2        22"
      ],
      "text/html": "<div>\n<style scoped>\n    .dataframe tbody tr th:only-of-type {\n        vertical-align: middle;\n    }\n\n    .dataframe tbody tr th {\n        vertical-align: top;\n    }\n\n    .dataframe thead th {\n        text-align: right;\n    }\n</style>\n<table border=\"1\" class=\"dataframe\">\n  <thead>\n    <tr style=\"text-align: right;\">\n      <th></th>\n      <th></th>\n      <th>team</th>\n    </tr>\n    <tr>\n      <th>year</th>\n      <th>stage</th>\n      <th></th>\n    </tr>\n  </thead>\n  <tbody>\n    <tr>\n      <th rowspan=\"2\" valign=\"top\">2012</th>\n      <th>1</th>\n      <td>18</td>\n    </tr>\n    <tr>\n      <th>2</th>\n      <td>22</td>\n    </tr>\n    <tr>\n      <th rowspan=\"2\" valign=\"top\">2013</th>\n      <th>1</th>\n      <td>18</td>\n    </tr>\n    <tr>\n      <th>2</th>\n      <td>22</td>\n    </tr>\n    <tr>\n      <th rowspan=\"2\" valign=\"top\">2014</th>\n      <th>1</th>\n      <td>18</td>\n    </tr>\n    <tr>\n      <th>2</th>\n      <td>22</td>\n    </tr>\n  </tbody>\n</table>\n</div>"
     },
     "metadata": {},
     "execution_count": 504
    }
   ],
   "source": [
    "a = ranking[['year','stage','team']]\n",
    "a.drop_duplicates().groupby(['year','stage']).count()"
   ]
  },
  {
   "cell_type": "code",
   "execution_count": 505,
   "metadata": {},
   "outputs": [],
   "source": [
    "_list =  ranking[ranking['match'] == 1].index\n",
    "\n",
    "## matchが１のインデックスを取得し、回数を絞ってからloopにぶっこむ\n",
    "\n",
    "for i in _list:\n",
    "    ranking.loc[i,'ranking'] = 18 if ranking.loc[i,'stage'] == 1 else 22\n",
    "\n",
    "ranking[ranking['match']==1]\n",
    "ranking.sort_index(inplace=True)"
   ]
  },
  {
   "cell_type": "code",
   "execution_count": 506,
   "metadata": {},
   "outputs": [],
   "source": [
    "for i in range(len(ranking['team'])):\n",
    "    if 'ザスパ草津' in ranking.loc[i,'team']:\n",
    "        ranking.loc[i,'team'] = 'ザスパクサツ群馬'"
   ]
  },
  {
   "cell_type": "code",
   "execution_count": 507,
   "metadata": {},
   "outputs": [],
   "source": [
    "##調整ができたのでtrain,testデータに挿入する\n",
    "train[['year','stage','match']] = train[['year','stage','match']].astype(int)\n",
    "ranking[['year','stage','match']] = ranking[['year','stage','match']].astype(int)\n",
    "test[['year','stage','match']] = test[['year','stage','match']].astype(int)"
   ]
  },
  {
   "cell_type": "code",
   "execution_count": 508,
   "metadata": {},
   "outputs": [],
   "source": [
    "train = pd.merge(left= train,right= ranking,left_on=['year','stage','match','home'],right_on=['year','stage','match','team'])\n",
    "test = pd.merge(left= test,right= ranking,left_on=['year','stage','match','home'],right_on=['year','stage','match','team'])\n",
    "train.drop(['team'],axis=1,inplace=True)\n",
    "test.drop(['team'],axis=1,inplace=True)"
   ]
  },
  {
   "cell_type": "code",
   "execution_count": 509,
   "metadata": {},
   "outputs": [],
   "source": [
    "\n",
    "train = pd.merge(left= train,right= ranking,left_on=['year','stage','match','away'],right_on=['year','stage','match','team'])\n",
    "test = pd.merge(left= test,right= ranking,left_on=['year','stage','match','away'],right_on=['year','stage','match','team'])\n",
    "train.drop(['team'],axis=1,inplace=True)\n",
    "test.drop(['team'],axis=1,inplace=True)"
   ]
  },
  {
   "cell_type": "code",
   "execution_count": 510,
   "metadata": {},
   "outputs": [
    {
     "output_type": "execute_result",
     "data": {
      "text/plain": [
       "<function print>"
      ]
     },
     "metadata": {},
     "execution_count": 510
    }
   ],
   "source": [
    "print"
   ]
  },
  {
   "source": [
    "## 選手の年俸データの挿入"
   ],
   "cell_type": "markdown",
   "metadata": {}
  },
  {
   "cell_type": "code",
   "execution_count": 511,
   "metadata": {},
   "outputs": [
    {
     "output_type": "execute_result",
     "data": {
      "text/plain": [
       "   ranking player_name  player_age player_position team_name  annual_salary\n",
       "0        1       フォルラン          38              FW    セレッソ大阪      346500000\n",
       "1        2     マルキーニョス          41              FW   ヴィッセル神戸      150000000\n",
       "2        2       遠藤　保仁          37              MF     ガンバ大阪      150000000"
      ],
      "text/html": "<div>\n<style scoped>\n    .dataframe tbody tr th:only-of-type {\n        vertical-align: middle;\n    }\n\n    .dataframe tbody tr th {\n        vertical-align: top;\n    }\n\n    .dataframe thead th {\n        text-align: right;\n    }\n</style>\n<table border=\"1\" class=\"dataframe\">\n  <thead>\n    <tr style=\"text-align: right;\">\n      <th></th>\n      <th>ranking</th>\n      <th>player_name</th>\n      <th>player_age</th>\n      <th>player_position</th>\n      <th>team_name</th>\n      <th>annual_salary</th>\n    </tr>\n  </thead>\n  <tbody>\n    <tr>\n      <th>0</th>\n      <td>1</td>\n      <td>フォルラン</td>\n      <td>38</td>\n      <td>FW</td>\n      <td>セレッソ大阪</td>\n      <td>346500000</td>\n    </tr>\n    <tr>\n      <th>1</th>\n      <td>2</td>\n      <td>マルキーニョス</td>\n      <td>41</td>\n      <td>FW</td>\n      <td>ヴィッセル神戸</td>\n      <td>150000000</td>\n    </tr>\n    <tr>\n      <th>2</th>\n      <td>2</td>\n      <td>遠藤　保仁</td>\n      <td>37</td>\n      <td>MF</td>\n      <td>ガンバ大阪</td>\n      <td>150000000</td>\n    </tr>\n  </tbody>\n</table>\n</div>"
     },
     "metadata": {},
     "execution_count": 511
    }
   ],
   "source": [
    "player = pd.read_csv('../data/player.csv')\n",
    "player.drop('Unnamed: 0',axis=1,inplace=True)\n",
    "player.head(3)"
   ]
  },
  {
   "cell_type": "code",
   "execution_count": 512,
   "metadata": {},
   "outputs": [],
   "source": [
    "for i in range(1,12):\n",
    "    column = \"home_%02d\" % i\n",
    "    for row,name in enumerate(train[column]):\n",
    "            salary = player[player.player_name == name].annual_salary.values\n",
    "            train.loc[row,column] = 2500000 if salary.size == 0 else salary\n",
    "    column = \"away_%02d\" % i\n",
    "    for row,name in enumerate(train[column]):\n",
    "            salary = player[player.player_name == name].annual_salary.values\n",
    "            train.loc[row,column] = 2500000 if salary.size == 0 else salary\n",
    "\n",
    "train[\"home_all\"] = train[[\"home_01\",\"home_02\",\"home_03\",\"home_04\",\"home_05\",\"home_06\",\"home_07\",\"home_08\",\"home_09\",\"home_10\",\"home_11\"]].sum(axis=1) \n",
    "train[\"away_all\"] = train[[\"away_01\",\"away_02\",\"away_03\",\"away_04\",\"away_05\",\"away_06\",\"away_07\",\"away_08\",\"away_09\",\"away_10\",\"away_11\"]].sum(axis=1) \n",
    "\n",
    "for i in range(1,12):\n",
    "    column = \"home_%02d\" % i\n",
    "    for row,name in enumerate(test[column]):\n",
    "            salary = player[player.player_name == name].annual_salary.values\n",
    "            test.loc[row,column] = 2500000 if salary.size == 0 else salary\n",
    "    column = \"away_%02d\" % i\n",
    "    for row,name in enumerate(test[column]):\n",
    "            salary = player[player.player_name == name].annual_salary.values\n",
    "            test.loc[row,column] = 2500000 if salary.size == 0 else salary\n",
    "\n",
    "test[\"home_all\"] = test[[\"home_01\",\"home_02\",\"home_03\",\"home_04\",\"home_05\",\"home_06\",\"home_07\",\"home_08\",\"home_09\",\"home_10\",\"home_11\"]].sum(axis=1) \n",
    "test[\"away_all\"] = test[[\"away_01\",\"away_02\",\"away_03\",\"away_04\",\"away_05\",\"away_06\",\"away_07\",\"away_08\",\"away_09\",\"away_10\",\"away_11\"]].sum(axis=1) "
   ]
  },
  {
   "cell_type": "code",
   "execution_count": 513,
   "metadata": {},
   "outputs": [],
   "source": [
    "stadium_label = train['stadium']\n",
    "team_label = train['home']\n",
    "\n",
    "for column in ['home','stadium','referee', 'address']:\n",
    "        le = preprocessing.LabelEncoder()\n",
    "        le.fit(train[column])\n",
    "        train[column] = le.transform(train[column])\n",
    "\n",
    "\n",
    "for column in ['referee', 'address']:\n",
    "        le = preprocessing.LabelEncoder()\n",
    "        le.fit(test[column])\n",
    "        test[column] = le.transform(test[column])"
   ]
  },
  {
   "cell_type": "code",
   "execution_count": 514,
   "metadata": {},
   "outputs": [],
   "source": [
    "stadium_transform = train['stadium']\n",
    "stadium_map = pd.Series(stadium_transform.values,index=stadium_label)\n",
    "stadium_map.drop_duplicates(keep=\"first\",inplace=True)\n",
    "stadium_map = stadium_map.to_dict()\n",
    "\n",
    "team_transform = train['home']\n",
    "team_map = pd.Series(team_transform.values,index=team_label)\n",
    "team_map.drop_duplicates(keep=\"first\",inplace=True)\n",
    "team_map = team_map.to_dict()"
   ]
  },
  {
   "cell_type": "code",
   "execution_count": 515,
   "metadata": {},
   "outputs": [],
   "source": [
    "train['away'] = train['away'].map(team_map)\n",
    "train['home_stadium'] = train['home_stadium'].map(stadium_map)\n",
    "train['away_stadium'] = train['away_stadium'].map(stadium_map)\n",
    "\n",
    "test['home'] = test['home'].map(team_map)\n",
    "test['away'] = test['away'].map(team_map)\n",
    "test['stadium'] = test['stadium'].map(stadium_map)\n",
    "test['home_stadium'] = test['home_stadium'].map(stadium_map)\n",
    "test['away_stadium'] = test['away_stadium'].map(stadium_map)"
   ]
  },
  {
   "cell_type": "code",
   "execution_count": 516,
   "metadata": {},
   "outputs": [],
   "source": [
    "def hubeny(lng1, lat1, lng2, lat2):\n",
    "    \n",
    "        Rx = 6378137.000\n",
    "        Ry = 6356752.314140\n",
    "\n",
    "        Dx = (lat1 - lat2)/360*2*np.pi\n",
    "        Dy = (lng1 - lng2)/360*2*np.pi\n",
    "\n",
    "        P = (lng1 + lng2)/360*np.pi\n",
    "\n",
    "        E = np.sqrt((np.power(Rx, 2) - np.power(Ry, 2))/np.power(Rx, 2))\n",
    "        W = np.sqrt(1-np.power(E, 2)*np.power(np.sin(P), 2))\n",
    "        M = (Rx*(1-np.power(E, 2)))/(np.power(W, 3))\n",
    "        N = Rx/W\n",
    "\n",
    "        D = np.sqrt(np.power(Dy*M, 2) + np.power(Dx*N*np.cos(P), 2))\n",
    " \n",
    "        return D"
   ]
  },
  {
   "cell_type": "code",
   "execution_count": 517,
   "metadata": {},
   "outputs": [],
   "source": [
    "train['distance'] = hubeny(train['h_lng'],train['h_lat'],train['a_lng'],train['a_lat'])\n",
    "test['distance'] = hubeny(test['h_lng'],test['h_lat'],test['a_lng'],test['a_lat'])"
   ]
  },
  {
   "cell_type": "code",
   "execution_count": 518,
   "metadata": {},
   "outputs": [
    {
     "output_type": "execute_result",
     "data": {
      "text/plain": [
       "(1952, 75)"
      ]
     },
     "metadata": {},
     "execution_count": 518
    }
   ],
   "source": [
    "train.shape"
   ]
  },
  {
   "cell_type": "code",
   "execution_count": 519,
   "metadata": {},
   "outputs": [],
   "source": [
    "j1 = train[train['stage'] == 1]\n",
    "j2 = train[train['stage'] == 2]\n",
    "\n",
    "week_absorp1 = j1[['week_day','absorp']].groupby('week_day').mean().to_dict()['absorp']\n",
    "week_absorp2 = j2[['week_day','absorp']].groupby('week_day').mean().to_dict()['absorp']\n",
    "week_absorp1[0] = week_absorp2[0]"
   ]
  },
  {
   "cell_type": "code",
   "execution_count": 520,
   "metadata": {},
   "outputs": [],
   "source": [
    "for i in range(len(train)):\n",
    "    if train.loc[i,'stage'] == 1:\n",
    "        train.loc[i,'week_absorp'] = week_absorp1[train.loc[i,'week_day']]\n",
    "    else : \n",
    "        train.loc[i,'week_absorp'] = week_absorp2[train.loc[i,'week_day']]\n",
    "   \n",
    "\n",
    "for i in range(len(test)):\n",
    "    if test.loc[i,'stage'] == 1:\n",
    "        test.loc[i,'week_absorp'] = week_absorp1[test.loc[i,'week_day']]\n",
    "    else : \n",
    "        test.loc[i,'week_absorp'] = week_absorp2[test.loc[i,'week_day']]\n",
    "   "
   ]
  },
  {
   "cell_type": "code",
   "execution_count": 521,
   "metadata": {},
   "outputs": [],
   "source": [
    "train_add = pd.read_csv('../data/train_add.csv')\n",
    "test_add = pd.read_csv('../data/test_add.csv')"
   ]
  },
  {
   "cell_type": "code",
   "execution_count": 522,
   "metadata": {},
   "outputs": [],
   "source": [
    "train = pd.concat([train,train_add],axis=1)\n",
    "test = pd.concat([test,test_add],axis=1)"
   ]
  },
  {
   "cell_type": "code",
   "execution_count": 523,
   "metadata": {},
   "outputs": [
    {
     "output_type": "execute_result",
     "data": {
      "text/plain": [
       "(1952, 79)"
      ]
     },
     "metadata": {},
     "execution_count": 523
    }
   ],
   "source": [
    "train.shape"
   ]
  },
  {
   "cell_type": "code",
   "execution_count": 524,
   "metadata": {},
   "outputs": [],
   "source": [
    "train.to_csv('../data/train_new2.csv',index=False)\n",
    "test.to_csv('../data/test_new2.csv',index=False)"
   ]
  },
  {
   "cell_type": "code",
   "execution_count": null,
   "metadata": {},
   "outputs": [],
   "source": []
  }
 ]
}